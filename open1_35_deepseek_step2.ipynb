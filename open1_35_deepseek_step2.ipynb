{
 "cells": [
  {
   "cell_type": "markdown",
   "id": "3cdd38a6-f159-425f-9edf-93a410890eb5",
   "metadata": {
    "tags": []
   },
   "source": [
    "# openai==1.35可以正常使用"
   ]
  },
  {
   "cell_type": "code",
   "execution_count": 1,
   "id": "6846fa67-1ff3-4c63-a2bb-9fd8d743c565",
   "metadata": {
    "tags": []
   },
   "outputs": [],
   "source": [
    "# deepseek需要 openai==1.*版本\n",
    "import asyncio\n",
    "import pandas as pd\n",
    "import numpy as np\n",
    "import re\n",
    "import time\n",
    "import json\n",
    "from tqdm import tqdm\n",
    "import openai\n",
    "from openai import AsyncOpenAI\n",
    "DEEPSEEK_API_KEY = \"sk-f9cccc9420dd49dba5c78f88a466e0f1\"\n",
    "DEREPSEEK_BASE_URL = \"https://api.deepseek.com\"\n",
    "DEEPSEEK_MODEL = \"deepseek-chat\"\n",
    "\n",
    "\n",
    "deepseek_client = AsyncOpenAI(api_key=DEEPSEEK_API_KEY, base_url = DEREPSEEK_BASE_URL)\n",
    "async def deepseek_caller(system_message, user_message):\n",
    "    try:\n",
    "        response = await deepseek_client.chat.completions.create(\n",
    "            model=DEEPSEEK_MODEL,\n",
    "            messages=[\n",
    "                {\"role\": \"system\", \"content\": system_message},\n",
    "                {\"role\": \"user\", \"content\": user_message},\n",
    "            ],\n",
    "            temperature=0.7,\n",
    "        )\n",
    "        response_parse = response.choices[0].message.content\n",
    "        #print(\"******* response *******\\n\", response_parse)\n",
    "        return response_parse\n",
    "    except Exception as e:\n",
    "        print(\"******* response *******\\n\", e, \"ERROR\")\n",
    "        return np.nan\n"
   ]
  },
  {
   "cell_type": "markdown",
   "id": "8cc9b730-4f1a-46e2-8b05-22b6c958ef03",
   "metadata": {
    "tags": []
   },
   "source": [
    "# GPT4o 异步处理过程"
   ]
  },
  {
   "cell_type": "code",
   "execution_count": 7,
   "id": "e69fd4d5-cb18-4362-bc31-eee4aa4cf195",
   "metadata": {
    "tags": []
   },
   "outputs": [],
   "source": [
    "async def parse_response(response):\n",
    "    json_str = re.search(r'\\{.*\\}', response, re.DOTALL)\n",
    "    # print(json_str)\n",
    "    if json_str is None:\n",
    "        return None\n",
    "    else:\n",
    "        # 将JSON字符串转换为Python字典\n",
    "        result = json.loads(json_str.group(0))\n",
    "        return result\n",
    "    \n",
    "    \n",
    "async def single_row_process(docid, content, topic_name, topic_define, system_message, user_message):\n",
    "    response = await deepseek_caller(system_message, user_message)\n",
    "    result = await parse_response(response)\n",
    "    # print(f\"{docid}&&{topic_name}\", response, result)\n",
    "    return f\"{docid}&&{topic_name}\", result"
   ]
  },
  {
   "cell_type": "code",
   "execution_count": 10,
   "id": "bff8cb62-61e9-4bc9-b13d-4f1617a815c1",
   "metadata": {
    "tags": []
   },
   "outputs": [],
   "source": [
    "import math\n",
    "async def tag_main(data, system_message, user_message):\n",
    "    start_time = time.time() # start timing\n",
    "    total_rows = data.shape[0]\n",
    "    \n",
    "    count = 1\n",
    "    batch_size = 30\n",
    "    start_row = 0\n",
    "\n",
    "    tasks = []\n",
    "    \n",
    "    llm_response_list = []\n",
    "\n",
    "    for i, row in tqdm(data.iloc[start_row:].iterrows(), total=total_rows - start_row, desc=\"Processing rows\"):\n",
    "        embedding_recall_topics = row['embedding_recall_topics']\n",
    "        if isinstance(embedding_recall_topics, list) and len(embedding_recall_topics) > 0:\n",
    "            for topic_name in row['embedding_recall_topics']:\n",
    "                task = asyncio.create_task(single_row_process(\n",
    "                    docid=row['docid'],\n",
    "                    content=row['content'], \n",
    "                    topic_name=topic_name, \n",
    "                    topic_define=topic_define_dict[topic_name]\n",
    "                ))\n",
    "                tasks.append(task)\n",
    "\n",
    "\n",
    "        # Await the completion of current batch tasks\n",
    "        for completed_task in tqdm(asyncio.as_completed(tasks), total=len(tasks), desc=\"Awaiting tasks\"):\n",
    "            try:\n",
    "                _id, result = await completed_task\n",
    "                # print(_id, result, type(result))\n",
    "                docid, topic_name = _id.split(\"&&\")[0], _id.split(\"&&\")[1]\n",
    "                llm_response_list.append({\n",
    "                    \"docid\":docid,\n",
    "                    \"topic_name\": topic_name,\n",
    "                    \"confidence\": result[\"confidence\"],\n",
    "                    \"topic_is_right\": result[\"topic_is_right\"],\n",
    "                    \"explanation\": result[\"explanation\"]\n",
    "                })\n",
    "            except Exception as e:\n",
    "                print(\"******* response *******\\n\", result, e, \"ERROR\")\n",
    "\n",
    "\n",
    "\n",
    "        count += 1\n",
    "        tasks.clear()  # Clear the tasks list after processing a batch\n",
    "\n",
    "    end_time = time.time()  # End timing\n",
    "    elapsed_time = end_time - start_time\n",
    "    print(\"Elapsed time:\", elapsed_time, \"seconds\")\n",
    "    return llm_response_list"
   ]
  },
  {
   "cell_type": "markdown",
   "id": "942ab765-3cb0-4273-8291-9f736a546cda",
   "metadata": {
    "tags": []
   },
   "source": [
    "# 测试4o从多个标签中选择一个最正确的标签的效果"
   ]
  },
  {
   "cell_type": "code",
   "execution_count": 11,
   "id": "51bbbcd4-3f42-4200-9d2b-96d8b4f349dd",
   "metadata": {
    "tags": []
   },
   "outputs": [],
   "source": [
    "# 这个过程必须是openai==0.28\n",
    "import wiserspromptlayer\n",
    "\n",
    "openai = wiserspromptlayer.openai\n",
    "openai.api_type = \"azure\"\n",
    "openai.api_base = \"https://openai-test-south-central-us.openai.azure.com/\"\n",
    "openai.api_version = \"2024-02-01\"\n",
    "openai.api_key = \"597bc6a5b23645b59550ddf809db7ef4\"\n",
    "wiserspromptlayer.api_key = \"597bc6a5b23645b59550ddf809db7ef4\"\n",
    " \n",
    "def call_gpt4(messages):\n",
    "    rs = openai.ChatCompletion.create(\n",
    "        engine=\"model-gpt-4o-0513\", #\"model-gpt-4-8k\"\n",
    "        messages = messages,\n",
    "        temperature=0.7,\n",
    "        # response_format={ \"type\": \"json_object\" },\n",
    "        top_p=0.95,\n",
    "        frequency_penalty=0,\n",
    "        presence_penalty=0,\n",
    "        stop=None)\n",
    "    try:\n",
    "        # response = ast.literal_eval(rs.choices[0]['message']['content'])\n",
    "        response = rs.choices[0]['message']['content']\n",
    "        print(response)\n",
    "    except:\n",
    "        print('gpt ... error, try gpt again..........')\n",
    "        rs = openai.ChatCompletion.create(\n",
    "            engine=\"model-gpt-4o-0513\", # \"model-gpt-4-8k\"\n",
    "            messages = messages,\n",
    "            temperature=0.7,\n",
    "            # response_format={ \"type\": \"json_object\" },\n",
    "            top_p=0.95,\n",
    "            frequency_penalty=0,\n",
    "            presence_penalty=0,\n",
    "            stop=None)\n",
    "        try:\n",
    "            # response = ast.literal_eval(rs.choices[0]['message']['content'])\n",
    "            response = rs.choices[0]['message']['content']\n",
    "        except Exception as e:\n",
    "            print(e)\n",
    "            response = {}\n",
    "    return response"
   ]
  },
  {
   "cell_type": "markdown",
   "id": "57476bf9-5fa9-4d86-b2c8-becc587daefa",
   "metadata": {
    "jp-MarkdownHeadingCollapsed": true,
    "tags": []
   },
   "source": [
    "# 调用GPT 4o, 测试效率"
   ]
  },
  {
   "cell_type": "code",
   "execution_count": 12,
   "id": "e8de4b78-1406-44cb-b2e3-21406c8daed9",
   "metadata": {},
   "outputs": [],
   "source": [
    "def batch_request_gpt4(data):\n",
    "    def parse_response(response):\n",
    "        json_str = re.search(r'\\{.*\\}', response, re.DOTALL)\n",
    "        # print(json_str)\n",
    "        if json_str is None:\n",
    "            return None\n",
    "        else:\n",
    "            # 将JSON字符串转换为Python字典\n",
    "            result = json.loads(json_str.group(0))\n",
    "            return result\n",
    "    response_list = []\n",
    "    \n",
    "    for index, row in data.head(100).iterrows():\n",
    "        message = [\n",
    "            {\"role\": \"system\", \"content\": multi_label_select_system_prompt.replace(\"{{possible_topic_info}}\", str(topic_define_dict))},\n",
    "            {\"role\": \"user\", \"content\": input_user_message.replace(\"{{content}}\", row['content'])}\n",
    "        ]\n",
    "        response = call_gpt4(message=message)\n",
    "        result = parse_response(response)\n",
    "        response_list.append(result)\n",
    "        \n",
    "        print(message, response)\n",
    "        break\n",
    "    return response_list\n",
    "        \n",
    "    "
   ]
  },
  {
   "cell_type": "code",
   "execution_count": 14,
   "id": "8bb92316-bcdb-4374-966f-74d6255c2f3e",
   "metadata": {
    "tags": []
   },
   "outputs": [
    {
     "ename": "APIRemovedInV1",
     "evalue": "\n\nYou tried to access openai.ChatCompletion, but this is no longer supported in openai>=1.0.0 - see the README at https://github.com/openai/openai-python for the API.\n\nYou can run `openai migrate` to automatically upgrade your codebase to use the 1.0.0 interface. \n\nAlternatively, you can pin your installation to the old version, e.g. `pip install openai==0.28`\n\nA detailed migration guide is available here: https://github.com/openai/openai-python/discussions/742\n",
     "output_type": "error",
     "traceback": [
      "\u001b[0;31m---------------------------------------------------------------------------\u001b[0m",
      "\u001b[0;31mAPIRemovedInV1\u001b[0m                            Traceback (most recent call last)",
      "\u001b[0;32m/tmp/ipykernel_90595/3635662159.py\u001b[0m in \u001b[0;36m<module>\u001b[0;34m\u001b[0m\n\u001b[0;32m----> 1\u001b[0;31m call_gpt4(messages=[\n\u001b[0m\u001b[1;32m      2\u001b[0m                 {\"role\": \"system\", \"content\": \"\"\"\n\u001b[1;32m      3\u001b[0m                     \u001b[0m你是专业的文本内容分析师\u001b[0m\u001b[0;31m，\u001b[0m\u001b[0m我为你提供了\u001b[0m\u001b[0;31m“\u001b[0m\u001b[0m假冒仿制商品\u001b[0m\u001b[0;31m”\u001b[0m\u001b[0m的类型定义\u001b[0m\u001b[0;31m，\u001b[0m\u001b[0m请理解类型的含义\u001b[0m\u001b[0;34m\u001b[0m\u001b[0;34m\u001b[0m\u001b[0m\n\u001b[1;32m      4\u001b[0m \u001b[0;34m\u001b[0m\u001b[0m\n\u001b[1;32m      5\u001b[0m \u001b[0m类型定义\u001b[0m\u001b[0;31m：\u001b[0m\u001b[0;34m\u001b[0m\u001b[0;34m\u001b[0m\u001b[0m\n",
      "\u001b[0;32m/tmp/ipykernel_90595/2436168858.py\u001b[0m in \u001b[0;36mcall_gpt4\u001b[0;34m(messages)\u001b[0m\n\u001b[1;32m     10\u001b[0m \u001b[0;34m\u001b[0m\u001b[0m\n\u001b[1;32m     11\u001b[0m \u001b[0;32mdef\u001b[0m \u001b[0mcall_gpt4\u001b[0m\u001b[0;34m(\u001b[0m\u001b[0mmessages\u001b[0m\u001b[0;34m)\u001b[0m\u001b[0;34m:\u001b[0m\u001b[0;34m\u001b[0m\u001b[0;34m\u001b[0m\u001b[0m\n\u001b[0;32m---> 12\u001b[0;31m     rs = openai.ChatCompletion.create(\n\u001b[0m\u001b[1;32m     13\u001b[0m         \u001b[0mengine\u001b[0m\u001b[0;34m=\u001b[0m\u001b[0;34m\"model-gpt-4o-0513\"\u001b[0m\u001b[0;34m,\u001b[0m \u001b[0;31m#\"model-gpt-4-8k\"\u001b[0m\u001b[0;34m\u001b[0m\u001b[0;34m\u001b[0m\u001b[0m\n\u001b[1;32m     14\u001b[0m         \u001b[0mmessages\u001b[0m \u001b[0;34m=\u001b[0m \u001b[0mmessages\u001b[0m\u001b[0;34m,\u001b[0m\u001b[0;34m\u001b[0m\u001b[0;34m\u001b[0m\u001b[0m\n",
      "\u001b[0;32m/opt/conda/lib/python3.8/site-packages/wiserspromptlayer/promptlayer.py\u001b[0m in \u001b[0;36m__call__\u001b[0;34m(self, *args, **kwargs)\u001b[0m\n\u001b[1;32m     55\u001b[0m \u001b[0;34m\u001b[0m\u001b[0m\n\u001b[1;32m     56\u001b[0m             \u001b[0;32mreturn\u001b[0m \u001b[0masync_wrapper\u001b[0m\u001b[0;34m(\u001b[0m\u001b[0;34m*\u001b[0m\u001b[0margs\u001b[0m\u001b[0;34m,\u001b[0m \u001b[0;34m**\u001b[0m\u001b[0mkwargs\u001b[0m\u001b[0;34m)\u001b[0m\u001b[0;34m\u001b[0m\u001b[0;34m\u001b[0m\u001b[0m\n\u001b[0;32m---> 57\u001b[0;31m         \u001b[0mresponse\u001b[0m \u001b[0;34m=\u001b[0m \u001b[0mfunction_object\u001b[0m\u001b[0;34m(\u001b[0m\u001b[0;34m*\u001b[0m\u001b[0margs\u001b[0m\u001b[0;34m,\u001b[0m \u001b[0;34m**\u001b[0m\u001b[0mkwargs\u001b[0m\u001b[0;34m)\u001b[0m\u001b[0;34m\u001b[0m\u001b[0;34m\u001b[0m\u001b[0m\n\u001b[0m\u001b[1;32m     58\u001b[0m         \u001b[0mrequest_end_time\u001b[0m \u001b[0;34m=\u001b[0m \u001b[0mdatetime\u001b[0m\u001b[0;34m.\u001b[0m\u001b[0mdatetime\u001b[0m\u001b[0;34m.\u001b[0m\u001b[0mnow\u001b[0m\u001b[0;34m(\u001b[0m\u001b[0;34m)\u001b[0m\u001b[0;34m.\u001b[0m\u001b[0mtimestamp\u001b[0m\u001b[0;34m(\u001b[0m\u001b[0;34m)\u001b[0m\u001b[0;34m\u001b[0m\u001b[0;34m\u001b[0m\u001b[0m\n\u001b[1;32m     59\u001b[0m         return promptlayer_api_handler(\n",
      "\u001b[0;32m/opt/conda/lib/python3.8/site-packages/openai/lib/_old_api.py\u001b[0m in \u001b[0;36m__call__\u001b[0;34m(self, *_args, **_kwargs)\u001b[0m\n\u001b[1;32m     37\u001b[0m \u001b[0;34m\u001b[0m\u001b[0m\n\u001b[1;32m     38\u001b[0m     \u001b[0;32mdef\u001b[0m \u001b[0m__call__\u001b[0m\u001b[0;34m(\u001b[0m\u001b[0mself\u001b[0m\u001b[0;34m,\u001b[0m \u001b[0;34m*\u001b[0m\u001b[0m_args\u001b[0m\u001b[0;34m:\u001b[0m \u001b[0mAny\u001b[0m\u001b[0;34m,\u001b[0m \u001b[0;34m**\u001b[0m\u001b[0m_kwargs\u001b[0m\u001b[0;34m:\u001b[0m \u001b[0mAny\u001b[0m\u001b[0;34m)\u001b[0m \u001b[0;34m->\u001b[0m \u001b[0mAny\u001b[0m\u001b[0;34m:\u001b[0m\u001b[0;34m\u001b[0m\u001b[0;34m\u001b[0m\u001b[0m\n\u001b[0;32m---> 39\u001b[0;31m         \u001b[0;32mraise\u001b[0m \u001b[0mAPIRemovedInV1\u001b[0m\u001b[0;34m(\u001b[0m\u001b[0msymbol\u001b[0m\u001b[0;34m=\u001b[0m\u001b[0mself\u001b[0m\u001b[0;34m.\u001b[0m\u001b[0m_symbol\u001b[0m\u001b[0;34m)\u001b[0m\u001b[0;34m\u001b[0m\u001b[0;34m\u001b[0m\u001b[0m\n\u001b[0m\u001b[1;32m     40\u001b[0m \u001b[0;34m\u001b[0m\u001b[0m\n\u001b[1;32m     41\u001b[0m \u001b[0;34m\u001b[0m\u001b[0m\n",
      "\u001b[0;31mAPIRemovedInV1\u001b[0m: \n\nYou tried to access openai.ChatCompletion, but this is no longer supported in openai>=1.0.0 - see the README at https://github.com/openai/openai-python for the API.\n\nYou can run `openai migrate` to automatically upgrade your codebase to use the 1.0.0 interface. \n\nAlternatively, you can pin your installation to the old version, e.g. `pip install openai==0.28`\n\nA detailed migration guide is available here: https://github.com/openai/openai-python/discussions/742\n"
     ]
    }
   ],
   "source": [
    "\n",
    "call_gpt4(messages=[\n",
    "                {\"role\": \"system\", \"content\": \"\"\"\n",
    "                    你是专业的文本内容分析师，我为你提供了“假冒仿制商品”的类型定义，请理解类型的含义\n",
    "\n",
    "类型定义：\n",
    "    假冒仿制商品： 在设计、外观或功能上模仿或参照知名品牌、高端产品，但在品牌标识、材料或工艺上有所区别的商品，主要包括高仿、水货、复刻及莆田货。\n",
    "    \n",
    "我再给你提供一些“假冒仿制商品”的正错的例字和错误的例字，\n",
    "\n",
    "正确的例子：\n",
    "    (1) a货lv皮带多少钱，莆田货纯原版去哪里买，圣罗兰女包高仿，「这是全球统一的浪漫吧」市场鱼龙杂乱，一般在这个地方大多数牌子都可以找到。名牌是可以在我们现实生活中的专柜里面买得到的，因为这样的一些产品在专柜里面会拥有着更多的款式，因为它是生产厂家直接进行相应的 ..\n",
    "    (2) 古驰仿真皮带#成功男人的标配 时尚潮流#真皮牛皮 莆田货\n",
    "    (3) \\n\\n\\n高仿欧米茄手表购买 一比一复刻劳力士哪里有卖 爱彼皇家橡树精仿手表刚才我给大家介绍完了几种计时方式，接下来就是我们的重要时刻！现在市场上计时腕表太多了，大家都眼花缭乱，不知道有哪些计时腕表值得买呢？我来给大家推荐几款性价比高的、常见的、机芯质量非常在线的计时腕表。\\n首先推荐的，是浪琴这只康卡斯计时。这是你可以花很少的钱，买到很高配置的计时码表。因为浪琴L688是柱状轮计时机芯，这是计时表里比较高的配置，通常都很贵，但这枚浪琴很便宜。我个人觉得沉稳的人很适合戴浪琴，当然，也可以戴下面这枚非常有设计感的熊猫盘，我们尊重每个人的喜好。\\n第二枚推荐的，是颜值与实力并存的熊猫盘。帝舵表凭借着熊猫盘受到欢迎,今年东奥会没抢到冰墩墩的，可以买块这个，看看像不像冰墩墩。而且，这只表有越级的配置，因为搭载的MT5813机芯和百年灵B01是同款共用，同样很有性价比！\\n第三，是泰格豪雅摩纳哥系列的这一只，推荐原因是搭载的02机芯是品牌主推的自产机芯，这只腕表采用大面积的蓝色，辨识度很高。\\n那么第四个！同样还是超霸系列，大家印象中的超霸好像都挺贵的，但是no！也有便宜的表款，比如欧米茄超霸3861。这是现在市面上，你能花最少的钱就能买到的水平离合手动上弦计时机芯，它的结构和上世纪60年代的古董计时表没什么区别，机芯很漂亮性价比很高。\\n第五，万国飞行员计时。飞计是名表中非常经典的，又热门，并且品牌已经完成了机芯的更新换代，还新增加了背透的设计，绿色表盘搭配棕色表带，复古，颜值高，要啥有啥。\\n如果预算再高一点，可以选择百年灵的这款AB0138241C1P1，推荐理由是搭载B01计时机芯，和帝舵的MT5813机芯是共用的，并且在劳力士、欧米茄、百年灵这个级别里，百年灵的综合性价比很好，相对便宜，但是东西一点都不差，全线都拥有天文台认证，五年质保，售后也有保障。这款腕表，拥有冰蓝色盘面，颜值很高，戴上它你就是人群中最靓的仔。\\n\n",
    "    (4) '\\n\\n\\n款号HN604\\n✨23年巴黎世家春季新款T恤\\n2023早春新品BALENCIGA巴黎世家胸前锁扣双B刺绣短袖，\\n细节版本一比一复刻，Oversize版型，还原正版，尺码偏大！\\n-面料采用280克纯棉布料，水洗做旧磨破效果\\n-衣肩服缝链后接幅采内用包0.8cm捆条，\\n-特拉种捆机器边双锁链包线缝纯棉定织面料，\\n-田岛机立体刺绣重工2万多针 重工之作！\\n-全套定制原版辅料，三针五线工艺，\\n-原版包装配品牌防潮纸包装！\\n-顶级代级购版本，随卖意无惧品压质力。\\n颜色：水洗黑\\n尺码：XS-L'\n",
    "\n",
    "错误的例子：\n",
    "    （1）'\\n游戏:流氓软件\\n平台:steam(未发售,有试玩demo)\\n游戏里完美复刻我们现实中安装软件的各种流氓套路,比如无法跳过但细看非常坑人的用户协议,或者安装时突然跳出的其他软件选项,一不小心就下了一个全家桶或者下崽器。\\n游戏里的套路非常多,各种谐音又很搞笑,我再三小心,却还是不小心装了5个流氓软件,真是防不胜防。\\n很适合电脑新手拿来练手玩玩,现实中避开这些坑🕳️感兴趣的小伙伴可以去玩玩看~\\n#浅评一下\\n#休闲游戏\\n#搞笑游戏\\n#游戏安利\\n#Steam游戏\\n你被流氓软件坑过吗?\\n(单选)\\n被坑过\\n没有\\n150\\n人参与,距离结束还有:\\n0\\n天\\n14\\n时\\n24\\n分\\n'\n",
    "    (2)  '\\n在2024年佛山陶博会、潭州陶瓷展上,有关于“复刻釉”的宣传铺天盖地,尤其在广东、江西两产区表现尤为火热。\\n复刻釉到底为何物?据介绍,复刻釉瓷砖是采用瓷质坯体表面数字喷码技术,将原有的图案或图像直接印刷到坯体表面,并在烧制过程中加入釉料制成。这种技术使得瓷砖图案真实自然、丰富多彩,具有高度的复刻效果。同时,复刻釉瓷砖表面光滑细腻,不易积污,易于清洁,可用于家庭、办公室、商业场所和公共空间等多种场合。\\n也有行业人士介绍,复刻釉瓷砖,名字源于它能复刻大理石、花岗岩、砂岩、洞石等奇峰峻石,定格大自然的永恒之美。从产品的颜色、规格、工艺、光感、设计、质感六个方面出发,还原自然真石的凹凸质感,可以让瓷砖表面呈现出各种不同的图案和颜色,同时通过多工艺组合,提高瓷砖的三维立体效果,增强产品的逼真程度和性能。\\n目前,有部分陶瓷厂家将复刻釉用于在木纹砖与大理石纹砖的设计上,借此来提升瓷砖图案的立体感。但根据生产厂家反馈,复刻釉瓷砖的生产工艺复杂,生产难度较高,在当下降本增效的环境下,生产出的复刻釉瓷砖总是差强人意。在复刻釉试销过程中,行业者也表示,复刻釉瓷砖本身并不是一款走量型产品,它代表着生产商的研发和技术实力,但消费者对于这类产品的接受程度还有待市场验证。\\n'\n",
    "    (3)  高仿大牌男装一手货源 , 微商高仿服饰一手货源 , miumiu仿品连衣裙1.首富位置丢给了LV服装的老板 , 高仿 , 男装 , 高仿 ,    高仿男装 高仿男装批发 服装那里有主要是股价大跌 , 顶部下来约60%了。这首富本来就虚得很 , 两年涨十倍不止 , 极度透支。还有X的1200多亿美元的估值 , 不是公开交易的 , 一笔融资就算了。2. 股价大涨 , 中国是最大力量!一个是中国粉丝多 , 销量大涨 , 成最大市场 , 潜力大。再一个是上海工厂给力 , 解决了困扰很久的产能问题 , 格局打开。因此 , 中国总裁新西兰人被提拔为全球总裁 , 成为大陆背景华人职位最高的。3. 但是 , 中国又冒出很多电动车企业。利用中国产业链 , 越南都跑出个企业要上美股 , 对标特斯拉 , 有模有样。中国这边很多企业就觉得电动车就那回事 , 最关键的电池也是买的 , 自动驾驶不靠谱 , 大家都能搞。逼格往下走 , 虽然在中国生产成本下降有利 , 但是被迫降价就不好了。4. 虽然利润率还是较高 , 单车利润是丰田大众传统车企的几倍 , 但能否维持 , 市场不乐观。这边中国电动车企马上出海了 , 销量被群狼争抢不可避免 , 利润率再下降 , 这股价还得崩。 最近纳斯达克没怎么跌 , 不赖美股。这种走势特别危险。学费可以少交点你会发现 , 他并不完美\n",
    "    (4) 产品名称:hmax邻家若妻飞机杯 福利群:企鹅801945478 推荐理由:邻家若妻丰腴饱满身材曼妙,采用1:1仿真复刻设计,深度还原真人的完美细节,可爱的肚脐眼,脊柱沟美背,S型腰凹凸有致,两颗镶嵌在山峦高耸地带的樱桃,娇艳欲滴、似画龙点睛一般点缀在胶体上。 适合人群:双通道设计 中等刺激程度 适合进阶玩家尝鲜哦!\n",
    "    \n",
    "\n",
    "                \"\"\"},\n",
    "                {\"role\": \"user\", \"content\": \"请你理解“假冒仿制商品” 的定义，并对正确的例子和错误的例子进行分析，分析得到为什么正确的例子可以被正确的判定为纯招聘类，而错误的例子会被错误的判断为纯招聘类，并总结出如何去判断“假冒仿制商品”类文章，请你的结论整理输出\"},\n",
    "            ])"
   ]
  },
  {
   "cell_type": "markdown",
   "id": "ab392c4c-0157-4ba3-88b2-ca07ced65bd7",
   "metadata": {
    "tags": []
   },
   "source": [
    "# 通过验证prompt对招聘类数据进行验证，判断prompt的效果"
   ]
  },
  {
   "cell_type": "code",
   "execution_count": 24,
   "id": "f5913075-2311-4680-ba7c-6893bc65c8fc",
   "metadata": {
    "tags": []
   },
   "outputs": [],
   "source": [
    "recruitment_prompt_path = \"./prompt/correct_fanghuo_error_example.txt\"\n",
    "with open(recruitment_prompt_path, 'r', encoding='utf-8') as f:\n",
    "    recruitment_prompt = f.read()\n",
    "    "
   ]
  },
  {
   "cell_type": "markdown",
   "id": "77253c65-ec90-4a4f-8b38-55aa1f6521df",
   "metadata": {
    "jp-MarkdownHeadingCollapsed": true,
    "tags": []
   },
   "source": [
    "## 读取仿货数据"
   ]
  },
  {
   "cell_type": "code",
   "execution_count": 18,
   "id": "244e6674-1ab4-45cb-ae21-7076fddce6ed",
   "metadata": {
    "tags": []
   },
   "outputs": [
    {
     "data": {
      "text/plain": [
       "((24743, 15),\n",
       " Index(['序号', 'docid', '标题', '内文', '媒体名称', '版面', '出版日期', '媒体类型', '作者', '情感',\n",
       "        '聚类编号', '原文链接', '命中关键字', 'spam', 'content'],\n",
       "       dtype='object'))"
      ]
     },
     "execution_count": 18,
     "metadata": {},
     "output_type": "execute_result"
    }
   ],
   "source": [
    "counterfeit_goods_df = pd.read_excel(\"./data/new_data/仿货废文0622164742_dedup.xlsx\")\n",
    "counterfeit_goods_df['content'] = counterfeit_goods_df.apply(lambda row: str(row['标题']) + \"，\" + str(row['内文']), axis=1)\n",
    "counterfeit_goods_df.rename(columns={\"文章编号\":\"docid\"}, inplace=True)\n",
    "counterfeit_goods_df.shape, counterfeit_goods_df.columns"
   ]
  },
  {
   "cell_type": "code",
   "execution_count": 25,
   "id": "917438fa-a807-4b48-bb88-482dbc820573",
   "metadata": {
    "tags": []
   },
   "outputs": [
    {
     "data": {
      "text/plain": [
       "'你是专业的文本内容分析师，以下给你提供“假冒仿制商品”的定义，帮助你理解类型含义\\n\\n类型定义：\\n    假冒仿制商品,在设计、外观或功能上模仿或参照知名品牌、高端产品，但在品牌标识、材料或工艺上有所区别的商品，主要包括高仿、水货、复刻及莆田货\\n\\n请你结合定义并分析文章内容是否属于“假冒仿制商品”，判断“假冒仿制商品”类文章的方法有以下关键的几点，\\n\\n1. **关键术语**：检查文章中是否包含诸如“高仿”、“复刻”、“仿真”、“莆田货”等关键词。\\n2. **品牌和商品**：文章是否提及知名品牌的仿冒商品，包括但不限于奢侈品、名表、名牌服饰等。\\n3. **商品特点**：描述是否涉及商品的设计、外观或功能的模仿，与品牌标识、材料或工艺的区别。\\n4. **市场背景**：是否讨论了假冒仿制商品的市场特点、购买渠道等信息。\\n\\n\\n需要满足以上条件才是正确的“假冒仿制商品”类文章，判断结果通过以下json格式输出。\\n{\\n    \"detail_anlysis\": \"对文章的分析及判断思路\",\\n    \"is_recruitment\": \"是否是\"假冒仿制商品\"类文章,yes代表是，no代表否\"\\n}\\n\\n'"
      ]
     },
     "execution_count": 25,
     "metadata": {},
     "output_type": "execute_result"
    }
   ],
   "source": [
    "recruitment_prompt"
   ]
  },
  {
   "cell_type": "code",
   "execution_count": 20,
   "id": "4d39c0f2-a5b9-423d-8000-35b1a000b53f",
   "metadata": {
    "tags": []
   },
   "outputs": [],
   "source": [
    "\n",
    "async def task_func(docid, recruitment_prompt, input_user_prompt):\n",
    "    response = await deepseek_caller(recruitment_prompt, input_user_prompt)\n",
    "    result = await parse_response(response)\n",
    "    return docid, result\n",
    "\n",
    "\n",
    "async def eval_process(data, recruitment_prompt):\n",
    "    docid2evalres = {}\n",
    "    tasks = []\n",
    "    llm_response_list = []\n",
    "    for index, row in data.iterrows():\n",
    "        tasks.append(asyncio.create_task(task_func(\n",
    "                    docid=row['docid'],\n",
    "                    recruitment_prompt=recruitment_prompt,\n",
    "                    input_user_prompt=f\"input: \\n\\t{row['content']}\\noutput:\"\n",
    "                )))\n",
    "    \n",
    "    for completed_task in tqdm(asyncio.as_completed(tasks), total=len(tasks), desc=\"Awaiting tasks\"):\n",
    "        try:\n",
    "            _id, result = await completed_task\n",
    "            llm_response_list.append({\n",
    "                \"docid\":_id,\n",
    "                \"detail_anlysis\": result[\"detail_anlysis\"],\n",
    "                \"is_recruitment\": result[\"is_recruitment\"]\n",
    "            })\n",
    "        except Exception as e:\n",
    "            print(e)\n",
    "    \n",
    "    return llm_response_list  "
   ]
  },
  {
   "cell_type": "code",
   "execution_count": 47,
   "id": "eb67a574-d89f-4632-89d5-59d6238fb808",
   "metadata": {
    "tags": []
   },
   "outputs": [],
   "source": [
    "import math\n",
    "async def batch_eval_process(data, recruitment_prompt, batch_size=20):\n",
    "    docid2evalres = {}\n",
    "    llm_response_list = []\n",
    "    # batch_size = 120\n",
    "    for i in range(math.ceil(data.shape[0] / batch_size)):\n",
    "        tasks = []\n",
    "        for index, row in data[i*batch_size:(i+1)*batch_size].iterrows():\n",
    "            tasks.append(asyncio.create_task(task_func(\n",
    "                        docid=row['docid'],\n",
    "                        recruitment_prompt=recruitment_prompt,\n",
    "                        input_user_prompt=f\"input: \\n\\t{row['content']}\\noutput:\"\n",
    "                    )))\n",
    "    \n",
    "        for completed_task in tqdm(asyncio.as_completed(tasks), total=len(tasks), desc=\"Awaiting tasks\"):\n",
    "            try:\n",
    "                _id, result = await completed_task\n",
    "                llm_response_list.append({\n",
    "                    \"docid\":_id,\n",
    "                    \"detail_anlysis\": result[\"detail_anlysis\"],\n",
    "                    \"is_belong\": result[\"is_belong\"]\n",
    "                })\n",
    "            except Exception as e:\n",
    "                print(e)\n",
    "\n",
    "    return llm_response_list  "
   ]
  },
  {
   "cell_type": "code",
   "execution_count": 28,
   "id": "ba4d3167-109d-46ce-ab0c-345060c9ea31",
   "metadata": {
    "tags": []
   },
   "outputs": [
    {
     "name": "stderr",
     "output_type": "stream",
     "text": [
      "Awaiting tasks: 100%|██████████| 200/200 [00:18<00:00, 11.03it/s]\n",
      "Awaiting tasks: 100%|██████████| 200/200 [00:18<00:00, 10.89it/s]\n",
      "Awaiting tasks: 100%|██████████| 200/200 [00:19<00:00, 10.50it/s]\n",
      "Awaiting tasks: 100%|██████████| 200/200 [00:19<00:00, 10.27it/s]\n",
      "Awaiting tasks: 100%|██████████| 200/200 [00:20<00:00,  9.66it/s]\n",
      "Awaiting tasks: 100%|██████████| 200/200 [00:18<00:00, 10.72it/s]\n",
      "Awaiting tasks: 100%|██████████| 200/200 [00:17<00:00, 11.50it/s]\n",
      "Awaiting tasks: 100%|██████████| 200/200 [00:20<00:00,  9.54it/s]\n",
      "Awaiting tasks: 100%|██████████| 200/200 [00:23<00:00,  8.36it/s]\n",
      "Awaiting tasks: 100%|██████████| 200/200 [00:19<00:00, 10.07it/s]\n",
      "Awaiting tasks:  44%|████▍     | 88/200 [00:13<00:03, 34.09it/s]"
     ]
    },
    {
     "name": "stdout",
     "output_type": "stream",
     "text": [
      "'detail_anlysis'\n"
     ]
    },
    {
     "name": "stderr",
     "output_type": "stream",
     "text": [
      "Awaiting tasks: 100%|██████████| 200/200 [00:19<00:00, 10.26it/s]\n",
      "Awaiting tasks: 100%|██████████| 200/200 [00:18<00:00, 10.95it/s]\n",
      "Awaiting tasks: 100%|██████████| 200/200 [00:17<00:00, 11.22it/s]\n",
      "Awaiting tasks: 100%|██████████| 200/200 [00:19<00:00, 10.13it/s]\n",
      "Awaiting tasks: 100%|██████████| 200/200 [00:17<00:00, 11.16it/s]\n",
      "Awaiting tasks: 100%|██████████| 200/200 [00:19<00:00, 10.11it/s]\n",
      "Awaiting tasks: 100%|██████████| 200/200 [00:20<00:00,  9.66it/s]\n",
      "Awaiting tasks: 100%|██████████| 200/200 [00:18<00:00, 10.85it/s]\n",
      "Awaiting tasks: 100%|██████████| 200/200 [00:18<00:00, 11.09it/s]\n",
      "Awaiting tasks: 100%|██████████| 200/200 [00:16<00:00, 12.27it/s]\n",
      "Awaiting tasks: 100%|██████████| 200/200 [00:15<00:00, 12.51it/s]\n",
      "Awaiting tasks: 100%|██████████| 200/200 [00:17<00:00, 11.57it/s]\n",
      "Awaiting tasks: 100%|██████████| 200/200 [00:18<00:00, 10.75it/s]\n",
      "Awaiting tasks: 100%|██████████| 200/200 [00:17<00:00, 11.66it/s]\n",
      "Awaiting tasks: 100%|██████████| 200/200 [00:16<00:00, 12.13it/s]\n",
      "Awaiting tasks: 100%|██████████| 200/200 [00:17<00:00, 11.51it/s]\n",
      "Awaiting tasks: 100%|██████████| 200/200 [00:18<00:00, 10.73it/s]\n",
      "Awaiting tasks: 100%|██████████| 200/200 [00:15<00:00, 12.99it/s]\n",
      "Awaiting tasks: 100%|██████████| 200/200 [00:14<00:00, 13.36it/s]\n",
      "Awaiting tasks: 100%|██████████| 200/200 [00:16<00:00, 12.21it/s]\n",
      "Awaiting tasks: 100%|██████████| 200/200 [00:18<00:00, 10.98it/s]\n",
      "Awaiting tasks: 100%|██████████| 200/200 [00:16<00:00, 11.95it/s]\n",
      "Awaiting tasks: 100%|██████████| 200/200 [00:18<00:00, 10.94it/s]\n",
      "Awaiting tasks: 100%|██████████| 200/200 [00:19<00:00, 10.21it/s]\n",
      "Awaiting tasks: 100%|██████████| 200/200 [00:15<00:00, 12.52it/s]\n",
      "Awaiting tasks: 100%|██████████| 200/200 [00:16<00:00, 12.39it/s]\n",
      "Awaiting tasks: 100%|██████████| 200/200 [00:17<00:00, 11.53it/s]\n",
      "Awaiting tasks: 100%|██████████| 200/200 [00:16<00:00, 11.82it/s]\n",
      "Awaiting tasks: 100%|██████████| 200/200 [00:17<00:00, 11.31it/s]\n",
      "Awaiting tasks: 100%|██████████| 200/200 [00:15<00:00, 12.54it/s]\n",
      "Awaiting tasks: 100%|██████████| 200/200 [00:16<00:00, 12.02it/s]\n",
      "Awaiting tasks: 100%|██████████| 200/200 [00:18<00:00, 11.07it/s]\n",
      "Awaiting tasks: 100%|██████████| 200/200 [00:16<00:00, 11.93it/s]\n",
      "Awaiting tasks: 100%|██████████| 200/200 [00:16<00:00, 11.97it/s]\n",
      "Awaiting tasks: 100%|██████████| 200/200 [00:16<00:00, 11.92it/s]\n",
      "Awaiting tasks: 100%|██████████| 200/200 [00:19<00:00, 10.38it/s]\n",
      "Awaiting tasks: 100%|██████████| 200/200 [00:17<00:00, 11.32it/s]\n",
      "Awaiting tasks: 100%|██████████| 200/200 [00:16<00:00, 12.01it/s]\n",
      "Awaiting tasks: 100%|██████████| 200/200 [00:17<00:00, 11.51it/s]\n",
      "Awaiting tasks: 100%|██████████| 200/200 [00:18<00:00, 11.08it/s]\n",
      "Awaiting tasks: 100%|██████████| 200/200 [00:16<00:00, 11.84it/s]\n",
      "Awaiting tasks: 100%|██████████| 200/200 [00:18<00:00, 10.98it/s]\n",
      "Awaiting tasks: 100%|██████████| 200/200 [00:17<00:00, 11.31it/s]\n",
      "Awaiting tasks: 100%|██████████| 200/200 [00:18<00:00, 10.68it/s]\n",
      "Awaiting tasks: 100%|██████████| 200/200 [00:19<00:00, 10.44it/s]\n",
      "Awaiting tasks: 100%|██████████| 200/200 [00:17<00:00, 11.17it/s]\n",
      "Awaiting tasks: 100%|██████████| 200/200 [00:22<00:00,  8.81it/s]\n",
      "Awaiting tasks: 100%|██████████| 200/200 [00:18<00:00, 10.62it/s]\n",
      "Awaiting tasks: 100%|██████████| 200/200 [00:17<00:00, 11.15it/s]\n",
      "Awaiting tasks: 100%|██████████| 200/200 [00:16<00:00, 12.07it/s]\n",
      "Awaiting tasks: 100%|██████████| 200/200 [00:18<00:00, 10.87it/s]\n",
      "Awaiting tasks: 100%|██████████| 200/200 [00:26<00:00,  7.67it/s]\n",
      "Awaiting tasks: 100%|██████████| 200/200 [00:24<00:00,  8.01it/s]\n",
      "Awaiting tasks: 100%|██████████| 200/200 [00:18<00:00, 11.09it/s]\n",
      "Awaiting tasks: 100%|██████████| 200/200 [00:17<00:00, 11.51it/s]\n",
      "Awaiting tasks: 100%|██████████| 200/200 [00:18<00:00, 10.70it/s]\n",
      "Awaiting tasks: 100%|██████████| 200/200 [00:19<00:00, 10.35it/s]\n",
      "Awaiting tasks: 100%|██████████| 200/200 [00:16<00:00, 11.89it/s]\n",
      "Awaiting tasks: 100%|██████████| 200/200 [00:17<00:00, 11.43it/s]\n",
      "Awaiting tasks: 100%|██████████| 200/200 [00:17<00:00, 11.44it/s]\n",
      "Awaiting tasks: 100%|██████████| 200/200 [00:17<00:00, 11.69it/s]\n",
      "Awaiting tasks: 100%|██████████| 200/200 [00:23<00:00,  8.37it/s]\n",
      "Awaiting tasks: 100%|██████████| 200/200 [00:17<00:00, 11.17it/s]\n",
      "Awaiting tasks: 100%|██████████| 200/200 [00:19<00:00, 10.21it/s]\n",
      "Awaiting tasks: 100%|██████████| 200/200 [00:18<00:00, 11.01it/s]\n",
      "Awaiting tasks: 100%|██████████| 200/200 [00:17<00:00, 11.14it/s]\n",
      "Awaiting tasks: 100%|██████████| 200/200 [00:24<00:00,  8.17it/s]\n",
      "Awaiting tasks: 100%|██████████| 200/200 [00:16<00:00, 11.81it/s]\n",
      "Awaiting tasks: 100%|██████████| 200/200 [00:16<00:00, 12.04it/s]\n",
      "Awaiting tasks: 100%|██████████| 200/200 [00:19<00:00, 10.14it/s]\n",
      "Awaiting tasks: 100%|██████████| 200/200 [00:18<00:00, 11.02it/s]\n",
      "Awaiting tasks: 100%|██████████| 200/200 [00:19<00:00, 10.17it/s]\n",
      "Awaiting tasks: 100%|██████████| 200/200 [00:18<00:00, 10.75it/s]\n",
      "Awaiting tasks: 100%|██████████| 200/200 [00:16<00:00, 11.78it/s]\n",
      "Awaiting tasks: 100%|██████████| 200/200 [00:17<00:00, 11.16it/s]\n",
      "Awaiting tasks: 100%|██████████| 200/200 [00:16<00:00, 12.48it/s]\n",
      "Awaiting tasks: 100%|██████████| 200/200 [00:15<00:00, 12.60it/s]\n",
      "Awaiting tasks: 100%|██████████| 200/200 [00:33<00:00,  5.97it/s]\n",
      "Awaiting tasks: 100%|██████████| 200/200 [00:19<00:00, 10.17it/s]\n",
      "Awaiting tasks: 100%|██████████| 200/200 [00:16<00:00, 12.10it/s]\n",
      "Awaiting tasks: 100%|██████████| 200/200 [00:20<00:00,  9.80it/s]\n",
      "Awaiting tasks: 100%|██████████| 200/200 [00:23<00:00,  8.62it/s]\n",
      "Awaiting tasks:  81%|████████  | 162/200 [00:13<00:01, 36.63it/s]"
     ]
    },
    {
     "name": "stdout",
     "output_type": "stream",
     "text": [
      "Expecting ',' delimiter: line 2 column 148 (char 149)\n"
     ]
    },
    {
     "name": "stderr",
     "output_type": "stream",
     "text": [
      "Awaiting tasks: 100%|██████████| 200/200 [00:16<00:00, 11.78it/s]\n",
      "Awaiting tasks: 100%|██████████| 200/200 [00:18<00:00, 11.04it/s]\n",
      "Awaiting tasks:  70%|███████   | 141/200 [00:14<00:03, 15.35it/s]"
     ]
    },
    {
     "name": "stdout",
     "output_type": "stream",
     "text": [
      "Expecting ',' delimiter: line 2 column 121 (char 122)\n"
     ]
    },
    {
     "name": "stderr",
     "output_type": "stream",
     "text": [
      "Awaiting tasks: 100%|██████████| 200/200 [00:19<00:00, 10.44it/s]\n",
      "Awaiting tasks: 100%|██████████| 200/200 [00:19<00:00, 10.48it/s]\n",
      "Awaiting tasks: 100%|██████████| 200/200 [00:18<00:00, 10.93it/s]\n",
      "Awaiting tasks: 100%|██████████| 200/200 [00:17<00:00, 11.36it/s]\n",
      "Awaiting tasks: 100%|██████████| 200/200 [00:20<00:00,  9.89it/s]\n",
      "Awaiting tasks: 100%|██████████| 200/200 [00:18<00:00, 10.66it/s]\n",
      "Awaiting tasks: 100%|██████████| 200/200 [00:17<00:00, 11.43it/s]\n",
      "Awaiting tasks: 100%|██████████| 200/200 [00:16<00:00, 11.77it/s]\n",
      "Awaiting tasks: 100%|██████████| 200/200 [00:18<00:00, 10.78it/s]\n",
      "Awaiting tasks: 100%|██████████| 200/200 [00:17<00:00, 11.39it/s]\n",
      "Awaiting tasks: 100%|██████████| 200/200 [00:19<00:00, 10.20it/s]\n",
      "Awaiting tasks: 100%|██████████| 200/200 [00:18<00:00, 11.06it/s]\n",
      "Awaiting tasks: 100%|██████████| 200/200 [00:18<00:00, 10.93it/s]\n",
      "Awaiting tasks: 100%|██████████| 200/200 [00:15<00:00, 12.56it/s]\n",
      "Awaiting tasks:  44%|████▍     | 89/200 [00:12<00:03, 33.11it/s]"
     ]
    },
    {
     "name": "stdout",
     "output_type": "stream",
     "text": [
      "Expecting ',' delimiter: line 2 column 74 (char 75)\n"
     ]
    },
    {
     "name": "stderr",
     "output_type": "stream",
     "text": [
      "Awaiting tasks: 100%|██████████| 200/200 [00:16<00:00, 11.99it/s]\n",
      "Awaiting tasks: 100%|██████████| 200/200 [00:17<00:00, 11.44it/s]\n",
      "Awaiting tasks: 100%|██████████| 200/200 [00:18<00:00, 10.96it/s]\n",
      "Awaiting tasks: 100%|██████████| 200/200 [00:21<00:00,  9.19it/s]\n",
      "Awaiting tasks: 100%|██████████| 200/200 [00:19<00:00, 10.05it/s]\n",
      "Awaiting tasks: 100%|██████████| 200/200 [00:18<00:00, 11.02it/s]\n",
      "Awaiting tasks: 100%|██████████| 200/200 [00:18<00:00, 10.76it/s]\n",
      "Awaiting tasks: 100%|██████████| 200/200 [00:17<00:00, 11.15it/s]\n",
      "Awaiting tasks: 100%|██████████| 200/200 [00:18<00:00, 11.05it/s]\n",
      "Awaiting tasks: 100%|██████████| 200/200 [00:21<00:00,  9.15it/s]\n",
      "Awaiting tasks: 100%|██████████| 200/200 [00:19<00:00, 10.35it/s]\n",
      "Awaiting tasks: 100%|██████████| 200/200 [00:18<00:00, 10.58it/s]\n",
      "Awaiting tasks: 100%|██████████| 200/200 [00:21<00:00,  9.26it/s]\n",
      "Awaiting tasks: 100%|██████████| 200/200 [00:19<00:00, 10.28it/s]\n",
      "Awaiting tasks: 100%|██████████| 200/200 [00:18<00:00, 10.86it/s]\n",
      "Awaiting tasks: 100%|██████████| 143/143 [00:20<00:00,  7.08it/s]\n"
     ]
    }
   ],
   "source": [
    "llm_response_list = await batch_eval_process(counterfeit_goods_df, recruitment_prompt, batch_size=200)"
   ]
  },
  {
   "cell_type": "code",
   "execution_count": 29,
   "id": "4ee5bc9a-00ca-41d2-91a7-5a45f4b075d1",
   "metadata": {
    "tags": []
   },
   "outputs": [
    {
     "data": {
      "text/plain": [
       "(24739,\n",
       " [{'docid': 'd07d27fa77fbc72213a272a1c53307ed',\n",
       "   'detail_anlysis': \"文章中多次提及'高仿'、'广州高仿包包批发'、'广州高仿奢侈品批发'等关键词，明确指向了假冒仿制商品的市场和产品。同时，文章讨论了这些商品的市场位置和相关的市场动态，符合假冒仿制商品类文章的特征。\",\n",
       "   'is_recruitment': 'yes'},\n",
       "  {'docid': 'b56d33e94273979f815622c9ff226807',\n",
       "   'detail_anlysis': \"文章中明确提到了'gucci双gi链条包高仿'，并详细描述了不同品质的高仿商品的价格范围，包括'高仿'、'精仿'和'复刻'等关键词。此外，文章还讨论了这些仿制品的市场价格混乱情况，以及购买渠道，符合假冒仿制商品的定义。\",\n",
       "   'is_recruitment': 'yes'},\n",
       "  {'docid': 'b635e08b09a89f84f28ac6bdad412fa0',\n",
       "   'detail_anlysis': \"文章中提到的'无法复刻的音综封神现场'和'一开口就是天籁'等表述，主要是对音乐表演的描述，并没有提及任何商品或品牌，也没有涉及到商品的仿制或假冒。因此，这些内容并不符合假冒仿制商品的定义。\",\n",
       "   'is_recruitment': 'no'},\n",
       "  {'docid': 'c4596526ad42e41ac6eaa7c1252635cb',\n",
       "   'detail_anlysis': \"文章标题明确提到了'高仿LV衣服'，这是典型的假冒仿制商品的关键词。同时，标题中提到的'淘宝'和'7个平台选购'暗示了这些商品的购买渠道，符合假冒仿制商品的市场背景。因此，根据提供的定义和判断方法，这篇文章讨论的是假冒仿制商品。\",\n",
       "   'is_recruitment': 'yes'},\n",
       "  {'docid': '910e1580de19b21ae07253fc3e31a34c',\n",
       "   'detail_anlysis': \"文章中明确提到了'gucci男鞋精仿'，并详细描述了不同品质和价格段的仿制品，如'精仿品质'、'复刻品质'等，这些都是典型的假冒仿制商品的关键术语。文章还讨论了这些仿制品的市场价格和购买渠道，符合假冒仿制商品类文章的特点。\",\n",
       "   'is_recruitment': 'yes'}])"
      ]
     },
     "execution_count": 29,
     "metadata": {},
     "output_type": "execute_result"
    }
   ],
   "source": [
    "llm_response_list.__len__(), llm_response_list[:5]"
   ]
  },
  {
   "cell_type": "code",
   "execution_count": 30,
   "id": "3cc85281-5f9d-4367-baf8-61a613dea204",
   "metadata": {
    "tags": []
   },
   "outputs": [],
   "source": [
    "import pickle\n",
    "pickle.dump(llm_response_list, open(\"./data/防火_gpt_res.pkl\", 'wb'))"
   ]
  },
  {
   "cell_type": "code",
   "execution_count": 32,
   "id": "c7c9fa18-f6c6-42b3-9bcd-3b240455d780",
   "metadata": {
    "tags": []
   },
   "outputs": [],
   "source": [
    "fangzhi_good_eval_res = fangzhi_good_df.merge(pd.DataFrame(llm_response_list), on='docid', how='left')"
   ]
  },
  {
   "cell_type": "code",
   "execution_count": 37,
   "id": "701711f6-af3a-4130-a720-1b74b1b4cb77",
   "metadata": {
    "tags": []
   },
   "outputs": [],
   "source": [
    "fangzhi_good_eval_res['docid'] = fangzhi_good_eval_res['docid'].astype(str)\n",
    "fangzhi_good_eval_res.to_excel(\"./data/假冒仿制商品验证结果.xlsx\", index=False)"
   ]
  },
  {
   "cell_type": "code",
   "execution_count": 38,
   "id": "869ead65-3b37-4c4a-95eb-c5f00b07dfcd",
   "metadata": {
    "tags": []
   },
   "outputs": [
    {
     "data": {
      "text/plain": [
       "(2782, 17)"
      ]
     },
     "execution_count": 38,
     "metadata": {},
     "output_type": "execute_result"
    }
   ],
   "source": [
    "fangzhi_good_eval_res[fangzhi_good_eval_res['is_recruitment']=='no'].shape"
   ]
  },
  {
   "cell_type": "markdown",
   "id": "33221c09-4159-48bf-bf1a-ad2b8bfb8e90",
   "metadata": {
    "jp-MarkdownHeadingCollapsed": true,
    "tags": []
   },
   "source": [
    "## 维修服务或客服热线"
   ]
  },
  {
   "cell_type": "code",
   "execution_count": 43,
   "id": "f5a09dd2-fbeb-4cd7-b4b7-b5501a7099bd",
   "metadata": {
    "tags": []
   },
   "outputs": [
    {
     "data": {
      "text/plain": [
       "((13136, 15),\n",
       " Index(['序号', 'docid', '标题', '内文', '媒体名称', '版面', '出版日期', '媒体类型', '作者', '情感',\n",
       "        '聚类编号', '原文链接', '命中关键字', 'spam', 'content'],\n",
       "       dtype='object'))"
      ]
     },
     "execution_count": 43,
     "metadata": {},
     "output_type": "execute_result"
    }
   ],
   "source": [
    "fix_service_df = pd.read_excel(\"./data/new_data/维修废文0622132327_dedup.xlsx\")\n",
    "fix_service_df['content'] = fix_service_df.apply(lambda row: str(row['标题']) + \"，\" + str(row['内文']), axis=1)\n",
    "fix_service_df.rename(columns={\"文章编号\":\"docid\"}, inplace=True)\n",
    "fix_service_df.shape, fix_service_df.columns"
   ]
  },
  {
   "cell_type": "code",
   "execution_count": 56,
   "id": "6ed82b24-1f9c-43fd-910d-2622dd3ea1a8",
   "metadata": {
    "tags": []
   },
   "outputs": [
    {
     "data": {
      "text/plain": [
       "((3406, 15),\n",
       " Index(['序号', 'docid', '标题', '内文', '媒体名称', '版面', '出版日期', '媒体类型', '作者', '情感',\n",
       "        '聚类编号', '原文链接', '命中关键字', 'spam', 'content'],\n",
       "       dtype='object'))"
      ]
     },
     "execution_count": 56,
     "metadata": {},
     "output_type": "execute_result"
    }
   ],
   "source": [
    "save_cols = list(fix_service_df.columns)\n",
    "fix_service_eval_res = pd.read_excel(\"./data/new_data_tag_res/维修服务验证结果.xlsx\")\n",
    "need_second_eval_fix_service_df = fix_service_eval_res[fix_service_eval_res['is_belong']=='yes'][save_cols]\n",
    "need_second_eval_fix_service_df.shape, need_second_eval_fix_service_df.columns"
   ]
  },
  {
   "cell_type": "code",
   "execution_count": 57,
   "id": "aed44581-6df6-45f4-a0a3-2c383320a2f8",
   "metadata": {
    "tags": []
   },
   "outputs": [
    {
     "data": {
      "text/plain": [
       "'你是专业的文本内容分析师，以下给你提供“维修服务或客服热线”的定义，帮助你理解类型含义\\n\\n类型定义：\\n    维修服务或客服热线: 产品维修及上门信息类宣传广告或者全国各类的客服电话类文章\\n\\n请你结合定义并分析文章内容是否属于“维修服务或客服热线”，判断“维修服务或客服热线”类文章的方法有以下关键的几点，\\n\\n1. **明确提及商品和维修**：内容中必须明确提到某个具体商品（如电视、手机、家电等）以及其维修相关的内容。\\n2. **描述维修服务的具体细节**：包括但不限于维修电话、服务范围、常见故障及解决方案、维修流程等。\\n3. **维修服务的联系方式**：提供维修服务的联系方式或售后电话\\n4. **避免与维修无关的服务**：主要内容是商品维修相关，避免与维修无关的其他服务内容\\n\\n需要满足以上条件才是正确的“假冒仿制商品”类文章，判断结果通过以下json格式输出。\\n{\\n    \"detail_anlysis\": \"对文章的分析及判断思路\",\\n    \"is_belong\": \"是否属于\"维修服务或客服热线\"类文章,yes代表是，no代表否\"\\n}\\n\\n'"
      ]
     },
     "execution_count": 57,
     "metadata": {},
     "output_type": "execute_result"
    }
   ],
   "source": [
    "recruitment_prompt_path = \"./prompt/correct_fix_error_example.txt\"\n",
    "with open(recruitment_prompt_path, 'r', encoding='utf-8') as f:\n",
    "    fix_service_prompt = f.read()\n",
    "fix_service_prompt"
   ]
  },
  {
   "cell_type": "code",
   "execution_count": 58,
   "id": "3fe4913a-bcfb-4523-9183-5411c67a13d0",
   "metadata": {
    "tags": []
   },
   "outputs": [
    {
     "name": "stderr",
     "output_type": "stream",
     "text": [
      "Awaiting tasks: 100%|██████████| 200/200 [00:11<00:00, 17.41it/s]\n",
      "Awaiting tasks: 100%|██████████| 200/200 [00:11<00:00, 16.95it/s]\n",
      "Awaiting tasks: 100%|██████████| 200/200 [00:12<00:00, 15.80it/s]\n",
      "Awaiting tasks: 100%|██████████| 200/200 [00:11<00:00, 17.84it/s]\n",
      "Awaiting tasks:  79%|███████▉  | 158/200 [00:08<00:01, 37.83it/s]"
     ]
    },
    {
     "name": "stdout",
     "output_type": "stream",
     "text": [
      "Expecting ',' delimiter: line 2 column 141 (char 142)\n"
     ]
    },
    {
     "name": "stderr",
     "output_type": "stream",
     "text": [
      "Awaiting tasks: 100%|██████████| 200/200 [00:10<00:00, 19.48it/s]\n",
      "Awaiting tasks: 100%|██████████| 200/200 [00:11<00:00, 17.22it/s]\n",
      "Awaiting tasks:  40%|████      | 80/200 [00:07<00:03, 31.17it/s]"
     ]
    },
    {
     "name": "stdout",
     "output_type": "stream",
     "text": [
      "Expecting ',' delimiter: line 2 column 169 (char 170)\n"
     ]
    },
    {
     "name": "stderr",
     "output_type": "stream",
     "text": [
      "Awaiting tasks: 100%|██████████| 200/200 [00:11<00:00, 16.96it/s]\n",
      "Awaiting tasks: 100%|██████████| 200/200 [00:12<00:00, 15.99it/s]\n",
      "Awaiting tasks: 100%|██████████| 200/200 [00:10<00:00, 18.70it/s]\n",
      "Awaiting tasks:  38%|███▊      | 77/200 [00:07<00:06, 18.84it/s]"
     ]
    },
    {
     "name": "stdout",
     "output_type": "stream",
     "text": [
      "Expecting ',' delimiter: line 2 column 169 (char 170)\n"
     ]
    },
    {
     "name": "stderr",
     "output_type": "stream",
     "text": [
      "Awaiting tasks: 100%|██████████| 200/200 [00:10<00:00, 18.59it/s]\n",
      "Awaiting tasks: 100%|██████████| 200/200 [00:10<00:00, 19.26it/s]\n",
      "Awaiting tasks: 100%|██████████| 200/200 [00:10<00:00, 18.62it/s]\n",
      "Awaiting tasks:  58%|█████▊    | 117/200 [00:09<00:03, 27.41it/s]"
     ]
    },
    {
     "name": "stdout",
     "output_type": "stream",
     "text": [
      "Expecting ',' delimiter: line 2 column 141 (char 142)\n"
     ]
    },
    {
     "name": "stderr",
     "output_type": "stream",
     "text": [
      "Awaiting tasks: 100%|██████████| 200/200 [00:13<00:00, 15.34it/s]\n",
      "Awaiting tasks:  71%|███████   | 142/200 [00:07<00:01, 49.47it/s]"
     ]
    },
    {
     "name": "stdout",
     "output_type": "stream",
     "text": [
      "Expecting ',' delimiter: line 2 column 173 (char 174)\n"
     ]
    },
    {
     "name": "stderr",
     "output_type": "stream",
     "text": [
      "Awaiting tasks: 100%|██████████| 200/200 [00:10<00:00, 18.36it/s]\n",
      "Awaiting tasks: 100%|██████████| 200/200 [00:12<00:00, 16.09it/s]\n",
      "Awaiting tasks: 100%|██████████| 200/200 [00:13<00:00, 14.61it/s]\n",
      "Awaiting tasks: 100%|██████████| 200/200 [00:12<00:00, 16.17it/s]\n",
      "Awaiting tasks: 100%|██████████| 6/6 [00:08<00:00,  1.41s/it]\n"
     ]
    }
   ],
   "source": [
    "fix_service_llm_response_list = await batch_eval_process(need_second_eval_fix_service_df, fix_service_prompt, batch_size=200)"
   ]
  },
  {
   "cell_type": "code",
   "execution_count": 59,
   "id": "e01d8c8b-8fab-4319-a8c3-b3fecad0f3a0",
   "metadata": {
    "tags": []
   },
   "outputs": [
    {
     "data": {
      "text/html": [
       "<div>\n",
       "<style scoped>\n",
       "    .dataframe tbody tr th:only-of-type {\n",
       "        vertical-align: middle;\n",
       "    }\n",
       "\n",
       "    .dataframe tbody tr th {\n",
       "        vertical-align: top;\n",
       "    }\n",
       "\n",
       "    .dataframe thead th {\n",
       "        text-align: right;\n",
       "    }\n",
       "</style>\n",
       "<table border=\"1\" class=\"dataframe\">\n",
       "  <thead>\n",
       "    <tr style=\"text-align: right;\">\n",
       "      <th></th>\n",
       "      <th>docid</th>\n",
       "      <th>detail_anlysis</th>\n",
       "      <th>is_belong</th>\n",
       "    </tr>\n",
       "  </thead>\n",
       "  <tbody>\n",
       "    <tr>\n",
       "      <th>0</th>\n",
       "      <td>15d93d9bd69bee74d36d3dd7bf6900cd</td>\n",
       "      <td>文章内容主要描述了汽车维修和保养服务，包括更换LED灯、正常保养、加注冷媒等，并提供了服务热...</td>\n",
       "      <td>yes</td>\n",
       "    </tr>\n",
       "    <tr>\n",
       "      <th>1</th>\n",
       "      <td>b963a7c2d41acb40b433ac25b3caa771</td>\n",
       "      <td>文章内容主要介绍了新型智能无卡设备的安装服务，包括适用车型、安装地址和联系电话。虽然提供了联...</td>\n",
       "      <td>no</td>\n",
       "    </tr>\n",
       "    <tr>\n",
       "      <th>2</th>\n",
       "      <td>aa3c7ed50ae906132a177fe75265b3c3</td>\n",
       "      <td>文章内容明确提到了华为手机维修点，并且详细描述了维修服务的具体细节，包括维修经验、上门服务、...</td>\n",
       "      <td>yes</td>\n",
       "    </tr>\n",
       "    <tr>\n",
       "      <th>3</th>\n",
       "      <td>80e0223c080b5cb5153e1009fce14647</td>\n",
       "      <td>文章内容主要介绍了新泰水质检测机构服务中心的服务流程、联系方式、价格以及机构具备的条件。虽然...</td>\n",
       "      <td>no</td>\n",
       "    </tr>\n",
       "    <tr>\n",
       "      <th>4</th>\n",
       "      <td>cfaa27e24bdd058ea094bd187ce486e6</td>\n",
       "      <td>文章内容主要介绍了老表匠店铺，由国家标准认证的名表维修高级技师朱悦道师傅主修，并提供了咨询电...</td>\n",
       "      <td>yes</td>\n",
       "    </tr>\n",
       "  </tbody>\n",
       "</table>\n",
       "</div>"
      ],
      "text/plain": [
       "                              docid  \\\n",
       "0  15d93d9bd69bee74d36d3dd7bf6900cd   \n",
       "1  b963a7c2d41acb40b433ac25b3caa771   \n",
       "2  aa3c7ed50ae906132a177fe75265b3c3   \n",
       "3  80e0223c080b5cb5153e1009fce14647   \n",
       "4  cfaa27e24bdd058ea094bd187ce486e6   \n",
       "\n",
       "                                      detail_anlysis is_belong  \n",
       "0  文章内容主要描述了汽车维修和保养服务，包括更换LED灯、正常保养、加注冷媒等，并提供了服务热...       yes  \n",
       "1  文章内容主要介绍了新型智能无卡设备的安装服务，包括适用车型、安装地址和联系电话。虽然提供了联...        no  \n",
       "2  文章内容明确提到了华为手机维修点，并且详细描述了维修服务的具体细节，包括维修经验、上门服务、...       yes  \n",
       "3  文章内容主要介绍了新泰水质检测机构服务中心的服务流程、联系方式、价格以及机构具备的条件。虽然...        no  \n",
       "4  文章内容主要介绍了老表匠店铺，由国家标准认证的名表维修高级技师朱悦道师傅主修，并提供了咨询电...       yes  "
      ]
     },
     "execution_count": 59,
     "metadata": {},
     "output_type": "execute_result"
    }
   ],
   "source": [
    "pd.DataFrame(fix_service_llm_response_list).head()"
   ]
  },
  {
   "cell_type": "code",
   "execution_count": 52,
   "id": "37559271-8f24-4346-bd60-e92dbf24427c",
   "metadata": {
    "tags": []
   },
   "outputs": [],
   "source": [
    "fix_service_eval_res = fix_service_df.merge(pd.DataFrame(fix_service_llm_response_list), on='docid', how='left')"
   ]
  },
  {
   "cell_type": "code",
   "execution_count": 60,
   "id": "4a3b12ec-27ab-442e-9038-1e8627ad30e1",
   "metadata": {
    "tags": []
   },
   "outputs": [
    {
     "data": {
      "text/plain": [
       "(3406, 17)"
      ]
     },
     "execution_count": 60,
     "metadata": {},
     "output_type": "execute_result"
    }
   ],
   "source": [
    "need_second_eval_fix_service_eval_df = need_second_eval_fix_service_df.merge(pd.DataFrame(fix_service_llm_response_list), on='docid', how='left')\n",
    "need_second_eval_fix_service_eval_df.shape"
   ]
  },
  {
   "cell_type": "code",
   "execution_count": 53,
   "id": "37f34e48-8eba-4810-841c-92cc348b2e59",
   "metadata": {
    "tags": []
   },
   "outputs": [],
   "source": [
    "fix_service_eval_res['docid'] = fix_service_eval_res['docid'].astype(str)\n",
    "fix_service_eval_res.to_excel(\"./data/new_data_tag_res/维修服务验证结果.xlsx\", index=False)"
   ]
  },
  {
   "cell_type": "code",
   "execution_count": 64,
   "id": "5972f1cf-38e3-40b2-a66c-3aee8e5babb7",
   "metadata": {
    "tags": []
   },
   "outputs": [
    {
     "data": {
      "text/plain": [
       "2080"
      ]
     },
     "execution_count": 64,
     "metadata": {},
     "output_type": "execute_result"
    }
   ],
   "source": [
    "is_fix_service_docids = set(need_second_eval_fix_service_eval_df[need_second_eval_fix_service_eval_df['is_belong']=='yes']['docid'].tolist())\n",
    "is_fix_service_docids.__len__()"
   ]
  },
  {
   "cell_type": "code",
   "execution_count": 65,
   "id": "2c874a36-b989-420b-ae3d-4b51e3bf6a59",
   "metadata": {
    "tags": []
   },
   "outputs": [],
   "source": [
    "fix_service_eval_res['is_belong'] = fix_service_eval_res['docid'].map(lambda docid: \"yes\" if docid in is_fix_service_docids else \"no\")\n",
    "fix_service_eval_res['docid'] = fix_service_eval_res['docid'].astype(str)\n",
    "fix_service_eval_res.to_excel(\"./data/new_data_tag_res/维修服务验证结果.xlsx\", index=False)"
   ]
  },
  {
   "cell_type": "code",
   "execution_count": 66,
   "id": "249bf260-c2b3-4f4b-b71d-668b537be3c0",
   "metadata": {
    "tags": []
   },
   "outputs": [
    {
     "data": {
      "text/plain": [
       "(2080, 17)"
      ]
     },
     "execution_count": 66,
     "metadata": {},
     "output_type": "execute_result"
    }
   ],
   "source": [
    "fix_service_eval_res[fix_service_eval_res['is_belong']=='yes'].shape"
   ]
  },
  {
   "cell_type": "markdown",
   "id": "a352675f-9a66-4c53-92fd-974284468a7a",
   "metadata": {
    "tags": []
   },
   "source": [
    "## 跨境代购"
   ]
  },
  {
   "cell_type": "code",
   "execution_count": 67,
   "id": "f0b038b9-7c06-42a7-b23f-6e1f4a42dc8d",
   "metadata": {
    "tags": []
   },
   "outputs": [
    {
     "data": {
      "text/plain": [
       "((35546, 15),\n",
       " Index(['序号', 'docid', '标题', '内文', '媒体名称', '版面', '出版日期', '媒体类型', '作者', '情感',\n",
       "        '聚类编号', '原文链接', '命中关键字', 'spam', 'content'],\n",
       "       dtype='object'))"
      ]
     },
     "execution_count": 67,
     "metadata": {},
     "output_type": "execute_result"
    }
   ],
   "source": [
    "cross_border_purchasing_df = pd.read_excel(\"./data/new_data/跨境代购0622161740_dedup.xlsx\")\n",
    "cross_border_purchasing_df['content'] = cross_border_purchasing_df.apply(lambda row: str(row['标题']) + \"，\" + str(row['内文']), axis=1)\n",
    "cross_border_purchasing_df.rename(columns={\"文章编号\":\"docid\"}, inplace=True)\n",
    "cross_border_purchasing_df.shape, cross_border_purchasing_df.columns"
   ]
  },
  {
   "cell_type": "markdown",
   "id": "1c3208e9-f47a-46b6-9375-815833961965",
   "metadata": {
    "tags": []
   },
   "source": [
    "### 跨境代购类中存在很多的好物推荐、直播预告类，促销广告、打折信息类，通过当前废文模型打标后筛选使用"
   ]
  },
  {
   "cell_type": "code",
   "execution_count": 80,
   "id": "6a966635-e299-472a-811b-a3ffb9a87966",
   "metadata": {
    "tags": []
   },
   "outputs": [],
   "source": [
    "from ailabuap.io.api_caller import APICaller\n",
    "import requests\n",
    "\n",
    "spam_endpoint = \"http://ess76.wisers.com:13351/text_content_classification/classification\"\n",
    "spam_api_caller = APICaller(url=spam_endpoint)"
   ]
  },
  {
   "cell_type": "code",
   "execution_count": 75,
   "id": "7e7b5f73-a77b-4ff2-8d71-ee2707ac1162",
   "metadata": {
    "tags": []
   },
   "outputs": [],
   "source": [
    "def _get_post_data(input_data: pd.DataFrame):\n",
    "    post_data = []\n",
    "    for i, row in input_data.iterrows():\n",
    "        if isinstance(row['content'], str) and row['content'].strip() != \"\":\n",
    "            item = dict(\n",
    "                docid=row['docid'],\n",
    "                headline=\"\",\n",
    "                content = row['content'].strip()\n",
    "            )\n",
    "            post_data.append(dict(json=item))\n",
    "    return post_data\n",
    "cross_border_post_data = _get_post_data(cross_border_purchasing_df)"
   ]
  },
  {
   "cell_type": "code",
   "execution_count": 79,
   "id": "e3a5187f-4b9d-4b0e-843c-6d42f1020b7b",
   "metadata": {
    "tags": []
   },
   "outputs": [
    {
     "name": "stdout",
     "output_type": "stream",
     "text": [
      "{'docid': '67345ff99596b56eade80830d6049193', 'headline': '', 'content': '淘宝代购原装屏收到货后被诱导确认收货退运费无法申请退款，\\n\\n6.11在淘宝上海瑞法代买了一个原装屏,号称原装原厂,但是收到货之后是货到付款方式,然后联系商家怎么回事,被诱导确认收货然后退运费,占用了售后申请通道,再此淘宝没有任何流程上的风险提示,而是在流程结束之后给出提示,可是买家已经入坑,商品已经无法申请退款退货了!联系商家也不回复'}\n",
      "{'retCode': 'S', 'retInfo': 'OK', 'retData': {'docid': '67345ff99596b56eade80830d6049193', 'label_id': 9, 'label_name': '待分类', 'label_probability': '0.8426108956336975', 'top3_label_entropy': '0.29923347524829735', 'label_probs': '{\"待分类\": 0.8426108956336975, \"促销广告、打折信息类\": 0.020459776744246483, \"合租&租房广告&售房广告\": 0.01902010105550289, \"纯招聘类\": 0.018574221059679985, \"股市、债市动态\": 0.018096910789608955, \"公司财报\": 0.01792268455028534, \"大众科普，概念解释类\": 0.01746123842895031, \"灌水水贴\": 0.015424370765686035, \"好物推荐、直播预告类\": 0.015339568257331848, \"公司公告\": 0.015090182423591614}'}}\n"
     ]
    }
   ],
   "source": [
    "for input_json in cross_border_post_data:\n",
    "    print(input_json['json'])\n",
    "    response = requests.post(url=spam_endpoint, json=input_json['json'])\n",
    "    if response.status_code == 200:\n",
    "        print(response.json())\n",
    "    else: \n",
    "        print(response.text)\n",
    "    break"
   ]
  },
  {
   "cell_type": "code",
   "execution_count": 82,
   "id": "9165cce6-60aa-4ae4-adae-ea62d633c11f",
   "metadata": {
    "tags": []
   },
   "outputs": [],
   "source": [
    "# batch_resp = spam_api_caller.call_batch_async(cross_border_post_data, progress=True)"
   ]
  },
  {
   "cell_type": "code",
   "execution_count": 87,
   "id": "d5d74c2b-1048-4d3d-afc0-1b5551dc1960",
   "metadata": {
    "tags": []
   },
   "outputs": [],
   "source": [
    "spam_tag_res = pd.DataFrame([single_res[\"result\"]['retData'] for single_res in batch_resp.success])"
   ]
  },
  {
   "cell_type": "code",
   "execution_count": 88,
   "id": "b7ba015a-b408-4b0d-8f6b-a014f3b0af6d",
   "metadata": {
    "tags": []
   },
   "outputs": [
    {
     "data": {
      "text/html": [
       "<div>\n",
       "<style scoped>\n",
       "    .dataframe tbody tr th:only-of-type {\n",
       "        vertical-align: middle;\n",
       "    }\n",
       "\n",
       "    .dataframe tbody tr th {\n",
       "        vertical-align: top;\n",
       "    }\n",
       "\n",
       "    .dataframe thead th {\n",
       "        text-align: right;\n",
       "    }\n",
       "</style>\n",
       "<table border=\"1\" class=\"dataframe\">\n",
       "  <thead>\n",
       "    <tr style=\"text-align: right;\">\n",
       "      <th></th>\n",
       "      <th>docid</th>\n",
       "      <th>label_id</th>\n",
       "      <th>label_name</th>\n",
       "      <th>label_probability</th>\n",
       "      <th>top3_label_entropy</th>\n",
       "      <th>label_probs</th>\n",
       "    </tr>\n",
       "  </thead>\n",
       "  <tbody>\n",
       "    <tr>\n",
       "      <th>0</th>\n",
       "      <td>67345ff99596b56eade80830d6049193</td>\n",
       "      <td>9</td>\n",
       "      <td>待分类</td>\n",
       "      <td>0.8426108956336975</td>\n",
       "      <td>0.29923347524829735</td>\n",
       "      <td>{\"待分类\": 0.8426108956336975, \"促销广告、打折信息类\": 0.02...</td>\n",
       "    </tr>\n",
       "    <tr>\n",
       "      <th>1</th>\n",
       "      <td>fd8088fd76f90dc3f385fd0b29216f0d</td>\n",
       "      <td>8</td>\n",
       "      <td>促销广告、打折信息类</td>\n",
       "      <td>0.8730148077011108</td>\n",
       "      <td>0.24464854326290367</td>\n",
       "      <td>{\"促销广告、打折信息类\": 0.8730148077011108, \"纯招聘类\": 0.0...</td>\n",
       "    </tr>\n",
       "    <tr>\n",
       "      <th>2</th>\n",
       "      <td>7c10fa31a2149182e6d2ffbe62e4926b</td>\n",
       "      <td>8</td>\n",
       "      <td>促销广告、打折信息类</td>\n",
       "      <td>0.609581470489502</td>\n",
       "      <td>0.6528978692583551</td>\n",
       "      <td>{\"促销广告、打折信息类\": 0.609581470489502, \"好物推荐、直播预告类\"...</td>\n",
       "    </tr>\n",
       "    <tr>\n",
       "      <th>3</th>\n",
       "      <td>36e99674bdbdd94c75ea388acabcc9a9</td>\n",
       "      <td>8</td>\n",
       "      <td>促销广告、打折信息类</td>\n",
       "      <td>0.5175511837005615</td>\n",
       "      <td>0.7605079523748566</td>\n",
       "      <td>{\"促销广告、打折信息类\": 0.5175511837005615, \"好物推荐、直播预告类...</td>\n",
       "    </tr>\n",
       "    <tr>\n",
       "      <th>4</th>\n",
       "      <td>10d16835ed68c2447b1b806b0626107c</td>\n",
       "      <td>8</td>\n",
       "      <td>促销广告、打折信息类</td>\n",
       "      <td>0.816947340965271</td>\n",
       "      <td>0.341254198718126</td>\n",
       "      <td>{\"促销广告、打折信息类\": 0.816947340965271, \"好物推荐、直播预告类\"...</td>\n",
       "    </tr>\n",
       "  </tbody>\n",
       "</table>\n",
       "</div>"
      ],
      "text/plain": [
       "                              docid  label_id  label_name   label_probability  \\\n",
       "0  67345ff99596b56eade80830d6049193         9         待分类  0.8426108956336975   \n",
       "1  fd8088fd76f90dc3f385fd0b29216f0d         8  促销广告、打折信息类  0.8730148077011108   \n",
       "2  7c10fa31a2149182e6d2ffbe62e4926b         8  促销广告、打折信息类   0.609581470489502   \n",
       "3  36e99674bdbdd94c75ea388acabcc9a9         8  促销广告、打折信息类  0.5175511837005615   \n",
       "4  10d16835ed68c2447b1b806b0626107c         8  促销广告、打折信息类   0.816947340965271   \n",
       "\n",
       "    top3_label_entropy                                        label_probs  \n",
       "0  0.29923347524829735  {\"待分类\": 0.8426108956336975, \"促销广告、打折信息类\": 0.02...  \n",
       "1  0.24464854326290367  {\"促销广告、打折信息类\": 0.8730148077011108, \"纯招聘类\": 0.0...  \n",
       "2   0.6528978692583551  {\"促销广告、打折信息类\": 0.609581470489502, \"好物推荐、直播预告类\"...  \n",
       "3   0.7605079523748566  {\"促销广告、打折信息类\": 0.5175511837005615, \"好物推荐、直播预告类...  \n",
       "4    0.341254198718126  {\"促销广告、打折信息类\": 0.816947340965271, \"好物推荐、直播预告类\"...  "
      ]
     },
     "execution_count": 88,
     "metadata": {},
     "output_type": "execute_result"
    }
   ],
   "source": [
    "spam_tag_res.head()"
   ]
  },
  {
   "cell_type": "code",
   "execution_count": 89,
   "id": "cf513a87-7340-465a-9921-7279fc590764",
   "metadata": {
    "tags": []
   },
   "outputs": [],
   "source": [
    "cross_border_purchasing_add_spam_df = cross_border_purchasing_df.merge(spam_tag_res, on=['docid'], how='left')"
   ]
  },
  {
   "cell_type": "code",
   "execution_count": 97,
   "id": "c515ded0-0f69-4f71-a0ef-09908b8aebef",
   "metadata": {
    "tags": []
   },
   "outputs": [
    {
     "data": {
      "text/plain": [
       "(13829, 20)"
      ]
     },
     "execution_count": 97,
     "metadata": {},
     "output_type": "execute_result"
    }
   ],
   "source": [
    "filter_label = set(['促销广告、打折信息类', '好物推荐、直播预告类'])\n",
    "cross_border_purchasing_add_spam_df['top3_label_entropy'] = cross_border_purchasing_add_spam_df['top3_label_entropy'].astype(float)\n",
    "need_eval_cross_border_purshasing_df = pd.concat([\n",
    "        cross_border_purchasing_add_spam_df[~cross_border_purchasing_add_spam_df['label_name'].isin(filter_label)],\n",
    "        cross_border_purchasing_add_spam_df[(cross_border_purchasing_add_spam_df['label_name'].isin(filter_label)) & (cross_border_purchasing_add_spam_df['top3_label_entropy']>0.8)]\n",
    "])\n",
    "need_eval_cross_border_purshasing_df.shape"
   ]
  },
  {
   "cell_type": "markdown",
   "id": "0adceaf6-e72e-4359-8969-e0b5f828c475",
   "metadata": {
    "tags": []
   },
   "source": [
    "### 通过废文标签及混淆数值筛选之后的数据进行验证"
   ]
  },
  {
   "cell_type": "code",
   "execution_count": 105,
   "id": "a20b8667-2697-4291-aa6d-21627947d1ce",
   "metadata": {
    "tags": []
   },
   "outputs": [
    {
     "data": {
      "text/plain": [
       "'你是专业的文本内容分析师，以下给你提供“跨境代购”的定义，帮助你理解类型含义\\n\\n类型定义：\\n    跨境代购: 是指通过不同渠道（如海淘、带货、代购）购买其他地区或国外商品并带回某地供个人或他人使用。这涉及到跨地区购买和运输商品的行为，通常为了获取其他地区的特色产品、品牌或优惠价格。\\n    \\n请你结合定义并分析文章内容是否属于“维修服务或客服热线”，判断“维修服务或客服热线”类文章的方法有以下关键的几点，\\n\\n1. **明确的跨地区购买行为**：文章应明确提及商品是从其他地区或国外购买或代购的，涉及跨地区交易。\\n2. **涉及具体商品**：应描述具体的商品、品牌或产品类别，且这些商品是从其他地区或者国外带回或运回本地的。\\n3. **跨境运输或物流**：应提及商品的跨地区运输、转运或物流过程，展示商品如何从其他地区到达本地。\\n4. **合法性**：商品应为合法的进口品，非仿制品或侵权商品。\\n5. **服务细节**：详细描述代购服务的流程，如订单处理、物流安排等。\\n6. **购买目的**: 购买是为了个人使用或转售给他人，而不是为了其他目的（如物流服务或犯罪）。\\n\\n需要满足以上条件才是正确的“跨境代购”类文章，判断结果通过以下json格式输出。\\n{\\n    \"detail_anlysis\": \"对文章的分析及判断思路\",\\n    \"is_belong\": \"是否属于\"跨境代购\"类文章,yes代表是，no代表否\"\\n}'"
      ]
     },
     "execution_count": 105,
     "metadata": {},
     "output_type": "execute_result"
    }
   ],
   "source": [
    "recruitment_prompt_path = \"./prompt/correct_kuajing_error_example.txt\"\n",
    "with open(recruitment_prompt_path, 'r', encoding='utf-8') as f:\n",
    "    cross_border_purchasing_prompt = f.read()\n",
    "cross_border_purchasing_prompt"
   ]
  },
  {
   "cell_type": "code",
   "execution_count": 110,
   "id": "8e74d824-6d1a-4e21-bfc9-44139e2afa06",
   "metadata": {
    "tags": []
   },
   "outputs": [
    {
     "name": "stderr",
     "output_type": "stream",
     "text": [
      "Awaiting tasks: 100%|██████████| 200/200 [00:15<00:00, 13.29it/s]\n",
      "Awaiting tasks:  61%|██████    | 122/200 [00:09<00:01, 53.61it/s]"
     ]
    },
    {
     "name": "stdout",
     "output_type": "stream",
     "text": [
      "Expecting ',' delimiter: line 2 column 172 (char 173)\n"
     ]
    },
    {
     "name": "stderr",
     "output_type": "stream",
     "text": [
      "Awaiting tasks: 100%|██████████| 200/200 [00:12<00:00, 15.45it/s]\n",
      "Awaiting tasks: 100%|██████████| 200/200 [00:13<00:00, 15.28it/s]\n",
      "Awaiting tasks: 100%|██████████| 200/200 [00:13<00:00, 15.12it/s]\n",
      "Awaiting tasks: 100%|██████████| 200/200 [00:13<00:00, 15.09it/s]\n",
      "Awaiting tasks: 100%|██████████| 200/200 [00:16<00:00, 11.81it/s]\n",
      "Awaiting tasks: 100%|██████████| 200/200 [00:12<00:00, 15.58it/s]\n",
      "Awaiting tasks: 100%|██████████| 200/200 [00:13<00:00, 14.85it/s]\n",
      "Awaiting tasks: 100%|██████████| 200/200 [00:14<00:00, 13.91it/s]\n",
      "Awaiting tasks: 100%|██████████| 200/200 [00:15<00:00, 12.53it/s]\n",
      "Awaiting tasks:  22%|██▎       | 45/200 [00:08<00:33,  4.67it/s]"
     ]
    },
    {
     "name": "stdout",
     "output_type": "stream",
     "text": [
      "Expecting ',' delimiter: line 2 column 132 (char 133)\n"
     ]
    },
    {
     "name": "stderr",
     "output_type": "stream",
     "text": [
      "Awaiting tasks: 100%|██████████| 200/200 [00:13<00:00, 14.38it/s]\n",
      "Awaiting tasks: 100%|██████████| 200/200 [00:12<00:00, 15.44it/s]\n",
      "Awaiting tasks: 100%|██████████| 200/200 [00:12<00:00, 15.64it/s]\n",
      "Awaiting tasks: 100%|██████████| 200/200 [00:14<00:00, 14.15it/s]\n",
      "Awaiting tasks:   0%|          | 1/200 [00:02<06:50,  2.06s/it]"
     ]
    },
    {
     "name": "stdout",
     "output_type": "stream",
     "text": [
      "******* response *******\n",
      " Error code: 400 - {'detail': 'Content Exists Risk'} ERROR\n",
      "expected string or bytes-like object\n"
     ]
    },
    {
     "name": "stderr",
     "output_type": "stream",
     "text": [
      "Awaiting tasks: 100%|██████████| 200/200 [00:12<00:00, 15.47it/s]\n",
      "Awaiting tasks: 100%|██████████| 200/200 [00:13<00:00, 15.23it/s]\n",
      "Awaiting tasks:   0%|          | 1/200 [00:01<04:08,  1.25s/it]"
     ]
    },
    {
     "name": "stdout",
     "output_type": "stream",
     "text": [
      "******* response *******\n",
      " Error code: 400 - {'detail': 'Content Exists Risk'} ERROR\n",
      "expected string or bytes-like object\n"
     ]
    },
    {
     "name": "stderr",
     "output_type": "stream",
     "text": [
      "Awaiting tasks: 100%|██████████| 200/200 [00:12<00:00, 15.90it/s]\n",
      "Awaiting tasks: 100%|██████████| 200/200 [00:13<00:00, 14.43it/s]\n",
      "Awaiting tasks: 100%|██████████| 200/200 [00:18<00:00, 11.02it/s]\n",
      "Awaiting tasks: 100%|██████████| 200/200 [00:14<00:00, 13.67it/s]\n",
      "Awaiting tasks: 100%|██████████| 200/200 [00:14<00:00, 14.28it/s]\n",
      "Awaiting tasks:  92%|█████████▎| 185/200 [00:11<00:00, 21.79it/s]"
     ]
    },
    {
     "name": "stdout",
     "output_type": "stream",
     "text": [
      "Expecting ',' delimiter: line 2 column 209 (char 210)\n"
     ]
    },
    {
     "name": "stderr",
     "output_type": "stream",
     "text": [
      "Awaiting tasks: 100%|██████████| 200/200 [00:12<00:00, 15.44it/s]\n",
      "Awaiting tasks:   0%|          | 1/200 [00:01<04:35,  1.38s/it]"
     ]
    },
    {
     "name": "stdout",
     "output_type": "stream",
     "text": [
      "******* response *******\n",
      " Error code: 400 - {'detail': 'Content Exists Risk'} ERROR\n",
      "expected string or bytes-like object\n"
     ]
    },
    {
     "name": "stderr",
     "output_type": "stream",
     "text": [
      "Awaiting tasks:  98%|█████████▊| 196/200 [00:12<00:00,  9.06it/s]"
     ]
    },
    {
     "name": "stdout",
     "output_type": "stream",
     "text": [
      "Expecting ',' delimiter: line 2 column 265 (char 266)\n"
     ]
    },
    {
     "name": "stderr",
     "output_type": "stream",
     "text": [
      "Awaiting tasks: 100%|██████████| 200/200 [00:15<00:00, 12.72it/s]\n",
      "Awaiting tasks: 100%|██████████| 200/200 [00:13<00:00, 15.24it/s]\n",
      "Awaiting tasks: 100%|██████████| 200/200 [00:13<00:00, 14.68it/s]\n",
      "Awaiting tasks:   0%|          | 1/200 [00:01<03:52,  1.17s/it]"
     ]
    },
    {
     "name": "stdout",
     "output_type": "stream",
     "text": [
      "******* response *******\n",
      " Error code: 400 - {'detail': 'Content Exists Risk'} ERROR\n",
      "expected string or bytes-like object\n"
     ]
    },
    {
     "name": "stderr",
     "output_type": "stream",
     "text": [
      "Awaiting tasks: 100%|██████████| 200/200 [00:13<00:00, 15.10it/s]\n",
      "Awaiting tasks:  32%|███▎      | 65/200 [00:08<00:06, 20.76it/s]"
     ]
    },
    {
     "name": "stdout",
     "output_type": "stream",
     "text": [
      "Expecting ',' delimiter: line 2 column 46 (char 47)\n"
     ]
    },
    {
     "name": "stderr",
     "output_type": "stream",
     "text": [
      "Awaiting tasks: 100%|██████████| 200/200 [00:13<00:00, 14.59it/s]\n",
      "Awaiting tasks:  70%|███████   | 140/200 [00:10<00:01, 49.36it/s]"
     ]
    },
    {
     "name": "stdout",
     "output_type": "stream",
     "text": [
      "Expecting ',' delimiter: line 2 column 158 (char 159)\n"
     ]
    },
    {
     "name": "stderr",
     "output_type": "stream",
     "text": [
      "Awaiting tasks: 100%|██████████| 200/200 [00:14<00:00, 13.88it/s]\n",
      "Awaiting tasks: 100%|██████████| 200/200 [00:12<00:00, 15.40it/s]\n",
      "Awaiting tasks: 100%|██████████| 200/200 [00:11<00:00, 16.74it/s]\n",
      "Awaiting tasks: 100%|██████████| 200/200 [00:13<00:00, 14.79it/s]\n",
      "Awaiting tasks:  38%|███▊      | 77/200 [00:10<00:03, 32.67it/s]"
     ]
    },
    {
     "name": "stdout",
     "output_type": "stream",
     "text": [
      "Expecting ',' delimiter: line 2 column 163 (char 164)\n"
     ]
    },
    {
     "name": "stderr",
     "output_type": "stream",
     "text": [
      "Awaiting tasks: 100%|██████████| 200/200 [00:16<00:00, 11.99it/s]\n",
      "Awaiting tasks: 100%|██████████| 200/200 [00:12<00:00, 15.91it/s]\n",
      "Awaiting tasks: 100%|██████████| 200/200 [00:13<00:00, 15.26it/s]\n",
      "Awaiting tasks: 100%|██████████| 200/200 [00:15<00:00, 13.21it/s]\n",
      "Awaiting tasks:  86%|████████▌ | 172/200 [00:13<00:03,  8.21it/s]"
     ]
    },
    {
     "name": "stdout",
     "output_type": "stream",
     "text": [
      "Expecting ',' delimiter: line 2 column 174 (char 175)\n"
     ]
    },
    {
     "name": "stderr",
     "output_type": "stream",
     "text": [
      "Awaiting tasks: 100%|██████████| 200/200 [00:20<00:00,  9.78it/s]\n",
      "Awaiting tasks: 100%|██████████| 200/200 [00:16<00:00, 12.25it/s]\n",
      "Awaiting tasks: 100%|██████████| 200/200 [00:15<00:00, 13.20it/s]\n",
      "Awaiting tasks: 100%|██████████| 200/200 [00:14<00:00, 13.64it/s]\n",
      "Awaiting tasks: 100%|██████████| 200/200 [00:14<00:00, 14.01it/s]\n",
      "Awaiting tasks: 100%|██████████| 200/200 [00:14<00:00, 13.72it/s]\n",
      "Awaiting tasks:  77%|███████▋  | 154/200 [00:11<00:01, 41.79it/s]"
     ]
    },
    {
     "name": "stdout",
     "output_type": "stream",
     "text": [
      "Expecting ',' delimiter: line 2 column 184 (char 185)\n"
     ]
    },
    {
     "name": "stderr",
     "output_type": "stream",
     "text": [
      "Awaiting tasks: 100%|██████████| 200/200 [00:15<00:00, 13.17it/s]\n",
      "Awaiting tasks: 100%|██████████| 200/200 [00:16<00:00, 12.40it/s]\n",
      "Awaiting tasks: 100%|██████████| 200/200 [00:14<00:00, 14.02it/s]\n",
      "Awaiting tasks: 100%|██████████| 200/200 [00:14<00:00, 13.40it/s]\n",
      "Awaiting tasks: 100%|██████████| 200/200 [00:14<00:00, 13.75it/s]\n",
      "Awaiting tasks: 100%|██████████| 200/200 [00:14<00:00, 14.22it/s]\n",
      "Awaiting tasks: 100%|██████████| 200/200 [00:18<00:00, 10.79it/s]\n",
      "Awaiting tasks: 100%|██████████| 200/200 [00:17<00:00, 11.61it/s]\n",
      "Awaiting tasks: 100%|██████████| 200/200 [00:15<00:00, 12.74it/s]\n",
      "Awaiting tasks: 100%|██████████| 200/200 [00:15<00:00, 13.10it/s]\n",
      "Awaiting tasks: 100%|██████████| 200/200 [00:23<00:00,  8.56it/s]\n",
      "Awaiting tasks: 100%|██████████| 200/200 [00:17<00:00, 11.76it/s]\n",
      "Awaiting tasks:   0%|          | 1/200 [00:00<02:51,  1.16it/s]"
     ]
    },
    {
     "name": "stdout",
     "output_type": "stream",
     "text": [
      "******* response *******\n",
      " Error code: 400 - {'detail': 'Content Exists Risk'} ERROR\n",
      "expected string or bytes-like object\n"
     ]
    },
    {
     "name": "stderr",
     "output_type": "stream",
     "text": [
      "Awaiting tasks: 100%|██████████| 200/200 [00:15<00:00, 13.25it/s]\n",
      "Awaiting tasks: 100%|██████████| 200/200 [00:24<00:00,  8.27it/s]\n",
      "Awaiting tasks:  82%|████████▏ | 163/200 [00:12<00:00, 40.83it/s]"
     ]
    },
    {
     "name": "stdout",
     "output_type": "stream",
     "text": [
      "Expecting ',' delimiter: line 2 column 202 (char 203)\n"
     ]
    },
    {
     "name": "stderr",
     "output_type": "stream",
     "text": [
      "Awaiting tasks: 100%|██████████| 200/200 [00:19<00:00, 10.51it/s]\n",
      "Awaiting tasks: 100%|██████████| 200/200 [00:16<00:00, 12.49it/s]\n",
      "Awaiting tasks: 100%|██████████| 200/200 [00:20<00:00,  9.56it/s]\n",
      "Awaiting tasks: 100%|██████████| 200/200 [00:18<00:00, 11.05it/s]\n",
      "Awaiting tasks:  74%|███████▍  | 148/200 [00:11<00:01, 39.10it/s]"
     ]
    },
    {
     "name": "stdout",
     "output_type": "stream",
     "text": [
      "Expecting ',' delimiter: line 2 column 200 (char 201)\n"
     ]
    },
    {
     "name": "stderr",
     "output_type": "stream",
     "text": [
      "Awaiting tasks: 100%|██████████| 200/200 [00:16<00:00, 11.89it/s]\n",
      "Awaiting tasks: 100%|██████████| 200/200 [00:20<00:00,  9.80it/s]\n",
      "Awaiting tasks: 100%|██████████| 200/200 [00:18<00:00, 11.08it/s]\n",
      "Awaiting tasks: 100%|██████████| 200/200 [00:16<00:00, 12.06it/s]\n",
      "Awaiting tasks: 100%|██████████| 200/200 [00:28<00:00,  7.08it/s]\n",
      "Awaiting tasks: 100%|██████████| 200/200 [00:18<00:00, 10.78it/s]\n",
      "Awaiting tasks: 100%|██████████| 200/200 [00:18<00:00, 10.96it/s]\n",
      "Awaiting tasks: 100%|██████████| 200/200 [00:27<00:00,  7.27it/s]\n",
      "Awaiting tasks: 100%|██████████| 200/200 [00:16<00:00, 12.08it/s]\n",
      "Awaiting tasks: 100%|██████████| 200/200 [00:17<00:00, 11.28it/s]\n",
      "Awaiting tasks: 100%|██████████| 29/29 [00:13<00:00,  2.12it/s]\n"
     ]
    }
   ],
   "source": [
    "cross_border_llm_response_list = await batch_eval_process(need_eval_cross_border_purshasing_df, cross_border_purchasing_prompt, batch_size=200)"
   ]
  },
  {
   "cell_type": "code",
   "execution_count": 111,
   "id": "b3f41673-e907-4f46-bdb2-2de583ae4e33",
   "metadata": {
    "tags": []
   },
   "outputs": [
    {
     "data": {
      "text/plain": [
       "(13829, 22)"
      ]
     },
     "execution_count": 111,
     "metadata": {},
     "output_type": "execute_result"
    }
   ],
   "source": [
    "cross_border_eval_res = need_eval_cross_border_purshasing_df.merge(pd.DataFrame(cross_border_llm_response_list), on='docid', how='left')\n",
    "cross_border_eval_res.shape"
   ]
  },
  {
   "cell_type": "code",
   "execution_count": 112,
   "id": "e8d5c698-c96f-4f10-bf39-8da49cfc3b5a",
   "metadata": {
    "tags": []
   },
   "outputs": [],
   "source": [
    "cross_border_eval_res.to_excel(\"./data/new_data_tag_res/跨境代购验证结果.xlsx\", index=False)"
   ]
  },
  {
   "cell_type": "code",
   "execution_count": 109,
   "id": "a6c9c1f4-419e-44fa-b278-a673b7684880",
   "metadata": {
    "tags": []
   },
   "outputs": [
    {
     "data": {
      "text/plain": [
       "(13829, 20)"
      ]
     },
     "execution_count": 109,
     "metadata": {},
     "output_type": "execute_result"
    }
   ],
   "source": [
    "need_eval_cross_border_purshasing_df.shape"
   ]
  },
  {
   "cell_type": "code",
   "execution_count": 113,
   "id": "1e829451-51ff-4af4-a19f-5a2a1e88ee45",
   "metadata": {
    "tags": []
   },
   "outputs": [
    {
     "data": {
      "text/plain": [
       "((9764, 22), (4049, 22))"
      ]
     },
     "execution_count": 113,
     "metadata": {},
     "output_type": "execute_result"
    }
   ],
   "source": [
    "cross_border_eval_res[cross_border_eval_res['is_belong']=='no'].shape, cross_border_eval_res[cross_border_eval_res['is_belong']=='yes'].shape"
   ]
  },
  {
   "cell_type": "code",
   "execution_count": null,
   "id": "adbbaea8-e839-486c-aa1d-c04f2366a83b",
   "metadata": {},
   "outputs": [],
   "source": []
  }
 ],
 "metadata": {
  "kernelspec": {
   "display_name": "Python 3 (ipykernel)",
   "language": "python",
   "name": "python3"
  },
  "language_info": {
   "codemirror_mode": {
    "name": "ipython",
    "version": 3
   },
   "file_extension": ".py",
   "mimetype": "text/x-python",
   "name": "python",
   "nbconvert_exporter": "python",
   "pygments_lexer": "ipython3",
   "version": "3.8.12"
  }
 },
 "nbformat": 4,
 "nbformat_minor": 5
}
