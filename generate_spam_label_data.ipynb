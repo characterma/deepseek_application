{
 "cells": [
  {
   "cell_type": "code",
   "execution_count": 1,
   "id": "678ddf62-acd2-44bf-ac32-db1a91d6d472",
   "metadata": {
    "tags": []
   },
   "outputs": [],
   "source": [
    "%load_ext autoreload\n",
    "%autoreload 1\n",
    "%aimport asyncio_gpt\n",
    "import pickle\n",
    "import json\n",
    "import pandas as pd\n",
    "from asyncio_gpt import AsyncioRequestGPT\n",
    "import asyncio\n",
    "from tqdm import tqdm\n",
    "import os"
   ]
  },
  {
   "cell_type": "markdown",
   "id": "e97267aa-1dea-4e5c-8614-cde1430b8dae",
   "metadata": {
    "tags": []
   },
   "source": [
    "# 读取定义"
   ]
  },
  {
   "cell_type": "code",
   "execution_count": 2,
   "id": "2e530e9c-fca9-411a-9d0b-2706a773e0bf",
   "metadata": {
    "tags": []
   },
   "outputs": [
    {
     "data": {
      "text/plain": [
       "{'纯招聘类': '纯招聘类是指以招聘职位，职位描述，薪资，待遇，要求等。也包括招聘工人。',\n",
       " '促销广告、打折信息类': '促销广告是指为了促进销售而发布的广告，通常包括打折、赠品、抽奖等促销活动信息，打折信息类是指商家为了促销而对商品或服务进行的降价优惠活动，通常以折扣比例或具体金额的方式呈现，例如“全场8折”、“满100元减20元”等。\\u3000包括有明确的折扣，价格， 优惠券， 折扣，卖多少送多少，赠品，返现，礼包）',\n",
       " '大众科普，概念解释类': '大众科普是指将专有名词或者某种概念、意识传播给广大公众，它旨在让公众理解专有名词，增加概念含义的认知。该解释是能获得群众普遍认可的，不能带有个人的主观观点和思考偏向',\n",
       " '好物推荐、直播预告类': '好物推荐是实质用户根据根据使用心得推荐一些优质的产品或服务，店铺，影音书籍等，不能有明确的打折信息， 广告促销的内容，主要围绕讲使用，购买经历，晒单，薅羊毛等。直播预告类是指编辑或专家提前宣传即将进行的直播活动，包括时间、主题、嘉宾等信息，吸引观众关注并提前做好准备',\n",
       " '合租&租房广告&售房广告': '合租是指多个人共同租住一套房屋，每个人只租用其中的一部分空间，例如租用单间或者合租公寓中的一个房间。租房广告是指房东或中介发布的出租房屋的广告，通常包括房屋的位置、面积、租金、房屋设施等信息。售房广告是指房东或中介发布的出售房屋的广告，通常包括房屋的位置、面积、售价、房屋设施等信息',\n",
       " '灌水水贴': '小说，段子，故事分享，心情分享，明星打call，八卦讨论， 音乐，影视分享，心灵鸡汤等内容',\n",
       " '股市、债市动态': '大宗商品价格,期货行情波动播报,包括大盘 基金综述, 大盘,板块儿等以及个股的涨跌数字的堆积复述,不包括个人或者机构的点评分析',\n",
       " '公司公告': '通常是为了向员工、股东、客户或其他相关方面传达特定的信息或消息。公司官方公告可以涉及各种主题，例如公司业务、重要事件、财务状况、人员变动、政策变化、市场趋势',\n",
       " '公司财报': '公司财报是指公司在一定时间内的财务状况和经营业绩的报告，通常包括资产负债表、利润表和现金流量表等内容',\n",
       " '便民信息': '提供生活服务、交通、天气等实用资讯，方便日常生活。',\n",
       " '汽车经销商新闻': '汽车商家以及汽车相关的新闻报道，如新车上市、参数配置、销售数据以及车市动态等',\n",
       " '维修服务或客服热线': '产品维修及上门信息类宣传广告或者全国各类的客服电话类文章',\n",
       " '提问求答鉴定类': '发表提问，求专业知识解答与物品真伪鉴定，互动交流解疑惑',\n",
       " '假冒仿制商品': '在设计、外观或功能上模仿或参照知名品牌、高端产品，但在品牌标识、材料或工艺上有所区别的商品，主要包括高仿、水货、复刻及莆田货',\n",
       " '跨洋购物': '通过不同渠道进行跨国购物，例如海淘、带货、代购'}"
      ]
     },
     "execution_count": 2,
     "metadata": {},
     "output_type": "execute_result"
    }
   ],
   "source": [
    "topic_define_dict = json.load(open(\"/workspace/spam_optimization/config/topic_name_define.json\", 'r'))\n",
    "topic_define_dict"
   ]
  },
  {
   "cell_type": "markdown",
   "id": "9a48a085-ea58-4b71-99bc-d6505d0f72f5",
   "metadata": {},
   "source": [
    "# 通过prompt source 接口获取数据的embedding"
   ]
  },
  {
   "cell_type": "code",
   "execution_count": 3,
   "id": "cfc748d0-bcef-4a0c-9b8e-e8d4876d256d",
   "metadata": {
    "tags": []
   },
   "outputs": [],
   "source": [
    "template_code = 688\n",
    "api_url = 'http://aiapi.wisers.com/openai-result-service-api/common/invoke'\n",
    "semaphore_num = 80\n",
    "tags = 'spam_optimization'\n",
    "embedding_tools = AsyncioRequestGPT(TEMPLATE_ID=template_code, tags=tags, API_URL=api_url, semaphore_number=semaphore_num)\n"
   ]
  },
  {
   "cell_type": "code",
   "execution_count": 4,
   "id": "fbf973aa-2b87-4abc-9398-b886a100fc41",
   "metadata": {
    "tags": []
   },
   "outputs": [],
   "source": [
    "async def main(tools: AsyncioRequestGPT, data: dict, batch_number: int = 300):\n",
    "    semaphore = asyncio.Semaphore(batch_number)\n",
    "    tasks = [\n",
    "        asyncio.create_task(tools.request_post(\n",
    "            index=topic_name,\n",
    "            data={\n",
    "                \"headline\": \"\",\n",
    "                \"content\": topic_defination,\n",
    "            }, semaphore=semaphore\n",
    "        )) for topic_name, topic_defination in data.items()\n",
    "    ]\n",
    "    responses = [await f for f in tqdm(asyncio.as_completed(tasks), total=len(tasks))]\n"
   ]
  },
  {
   "cell_type": "code",
   "execution_count": 5,
   "id": "dc96c757-47cf-4648-a67a-9c8d4f56461b",
   "metadata": {
    "tags": []
   },
   "outputs": [
    {
     "name": "stderr",
     "output_type": "stream",
     "text": [
      "100%|██████████| 15/15 [00:01<00:00,  8.98it/s]\n"
     ]
    }
   ],
   "source": [
    "done = await main(embedding_tools, topic_define_dict)"
   ]
  },
  {
   "cell_type": "code",
   "execution_count": 6,
   "id": "4ab334d1-30b8-4851-b086-a2b66785d624",
   "metadata": {
    "tags": []
   },
   "outputs": [],
   "source": [
    "topic_define2embedding = {dic[\"doc_id\"]:dic['llm_response'] for dic in embedding_tools.complete_result if \"doc_id\" in dic and \"llm_response\" in dic and isinstance(dic['llm_response'], list)}"
   ]
  },
  {
   "cell_type": "code",
   "execution_count": 7,
   "id": "e015549c-3b70-4523-9ce8-396a7030f9b3",
   "metadata": {
    "tags": []
   },
   "outputs": [],
   "source": [
    "async def topic_name_main(tools: AsyncioRequestGPT, data: dict, batch_number: int = 300):\n",
    "    semaphore = asyncio.Semaphore(batch_number)\n",
    "    tasks = [\n",
    "        asyncio.create_task(tools.request_post(\n",
    "            index=topic_name,\n",
    "            data={\n",
    "                \"headline\": \"\",\n",
    "                \"content\": topic_name,\n",
    "            }, semaphore=semaphore\n",
    "        )) for topic_name, topic_defination in data.items()\n",
    "    ]\n",
    "    responses = [await f for f in tqdm(asyncio.as_completed(tasks), total=len(tasks))]"
   ]
  },
  {
   "cell_type": "code",
   "execution_count": 8,
   "id": "16783f80-e2f4-434a-b1b1-827d84f2abf4",
   "metadata": {
    "tags": []
   },
   "outputs": [
    {
     "name": "stderr",
     "output_type": "stream",
     "text": [
      "100%|██████████| 15/15 [00:02<00:00,  5.30it/s]\n"
     ]
    }
   ],
   "source": [
    "embedding_tools.complete_result = []\n",
    "done = await topic_name_main(embedding_tools, topic_define_dict)"
   ]
  },
  {
   "cell_type": "code",
   "execution_count": 9,
   "id": "ec0fbabd-87fd-43f3-9ba9-6aa5867842da",
   "metadata": {
    "tags": []
   },
   "outputs": [],
   "source": [
    "topic_name2embedding = {dic[\"doc_id\"]:dic['llm_response'] for dic in embedding_tools.complete_result if \"doc_id\" in dic and \"llm_response\" in dic and isinstance(dic['llm_response'], list)}"
   ]
  },
  {
   "cell_type": "code",
   "execution_count": 10,
   "id": "93f2bcec-78ec-48b4-8c9c-f71fd2ac5cde",
   "metadata": {
    "tags": []
   },
   "outputs": [],
   "source": [
    "pickle.dump((topic_name2embedding, topic_define2embedding), open(\"./config/topic2embedding.pkl\", 'wb'))"
   ]
  },
  {
   "cell_type": "markdown",
   "id": "7f9e6534-7cd0-4816-9728-b0a3d9f20944",
   "metadata": {
    "jp-MarkdownHeadingCollapsed": true,
    "tags": []
   },
   "source": [
    "## 测试生成的定义向量和标签名称向量的相似度"
   ]
  },
  {
   "cell_type": "code",
   "execution_count": 11,
   "id": "09bfc7a6-8308-49eb-83ee-e8284ef80826",
   "metadata": {
    "tags": []
   },
   "outputs": [],
   "source": [
    "import numpy as np\n",
    "\n",
    "arr1 = []\n",
    "arr2 = []\n",
    "col = []\n",
    "for topic_name, _ in topic_define_dict.items():\n",
    "    if topic_name in topic_name2embedding and topic_name in topic_define2embedding:\n",
    "        col.append(topic_name)\n",
    "        arr1.append(topic_name2embedding[topic_name])\n",
    "        arr2.append(topic_define2embedding[topic_name])\n",
    "\n",
    "        "
   ]
  },
  {
   "cell_type": "code",
   "execution_count": 12,
   "id": "ae35f6f2-3060-4fd8-9f15-b63e5d9a66a5",
   "metadata": {
    "tags": []
   },
   "outputs": [],
   "source": [
    "pd.DataFrame(\n",
    "np.around(np.dot(np.array(arr1), np.array(arr2).T), 3), columns=col, index=col).to_csv(\"./data/topic_vecter_similar.csv\")"
   ]
  },
  {
   "cell_type": "markdown",
   "id": "cfdc0ee1-9e29-4b8f-8acc-af3dd8941f0b",
   "metadata": {},
   "source": [
    "# 对文本内容进行向量化"
   ]
  },
  {
   "cell_type": "code",
   "execution_count": 13,
   "id": "bbb70c29-71bb-46c3-8bec-8d8d67fd254d",
   "metadata": {
    "tags": []
   },
   "outputs": [],
   "source": [
    "content_data_dir = \"/workspace/canton-target-sentiment/nlp_pipeline/data/datasets/sample/sequence_classification/ten_clean_data/\"\n",
    "file_name_list = [\"train.json\", 'test.json', \"eval.json\", \"no_label_9w.json\"]"
   ]
  },
  {
   "cell_type": "code",
   "execution_count": 14,
   "id": "be6ee6ae-fd4e-477f-9799-bc7d5ce8b533",
   "metadata": {
    "tags": []
   },
   "outputs": [],
   "source": [
    "data_list = []\n",
    "for file_name in file_name_list:\n",
    "    file_path = os.path.join(content_data_dir, file_name)\n",
    "    part_df = pd.DataFrame(json.load(open(file_path, 'rb')))\n",
    "    part_df['source'] = file_name\n",
    "    data_list.append(part_df)"
   ]
  },
  {
   "cell_type": "code",
   "execution_count": 15,
   "id": "a7ff1e22-2d8c-450f-b3db-f0fafd2c58dc",
   "metadata": {
    "tags": []
   },
   "outputs": [],
   "source": [
    "model_used_data = pd.concat(data_list)"
   ]
  },
  {
   "cell_type": "code",
   "execution_count": 16,
   "id": "5d8ade2d-dcca-48b6-8cb4-23ee51904388",
   "metadata": {
    "tags": []
   },
   "outputs": [],
   "source": [
    "async def content_embedding_main(tools: AsyncioRequestGPT, data: pd.DataFrame, batch_number: int = 300):\n",
    "    semaphore = asyncio.Semaphore(batch_number)\n",
    "    tasks = [\n",
    "        asyncio.create_task(tools.request_post(\n",
    "            index=row['docid'],\n",
    "            data={\n",
    "                \"headline\": \"\",\n",
    "                \"content\": row['content'],\n",
    "            }, semaphore=semaphore\n",
    "        )) for index, row in data.iterrows()\n",
    "    ]\n",
    "    responses = [await f for f in tqdm(asyncio.as_completed(tasks), total=len(tasks))]"
   ]
  },
  {
   "cell_type": "code",
   "execution_count": 17,
   "id": "1b0ec5c5-154f-4f33-843e-6b8f80dd0d2e",
   "metadata": {
    "tags": []
   },
   "outputs": [
    {
     "name": "stderr",
     "output_type": "stream",
     "text": [
      "100%|██████████| 5/5 [00:01<00:00,  4.54it/s]\n"
     ]
    }
   ],
   "source": [
    "embedding_tools.complete_result = []\n",
    "done = await content_embedding_main(embedding_tools, model_used_data.head())"
   ]
  },
  {
   "cell_type": "code",
   "execution_count": 18,
   "id": "ee148963-b08b-4b7b-a667-df1be9b6a80d",
   "metadata": {
    "tags": []
   },
   "outputs": [],
   "source": [
    "# embedding_tools.complete_result"
   ]
  },
  {
   "cell_type": "code",
   "execution_count": 19,
   "id": "2cb393ad-6728-4cf5-a8c2-bbbad50c56c1",
   "metadata": {
    "tags": []
   },
   "outputs": [
    {
     "data": {
      "text/html": [
       "<div>\n",
       "<style scoped>\n",
       "    .dataframe tbody tr th:only-of-type {\n",
       "        vertical-align: middle;\n",
       "    }\n",
       "\n",
       "    .dataframe tbody tr th {\n",
       "        vertical-align: top;\n",
       "    }\n",
       "\n",
       "    .dataframe thead th {\n",
       "        text-align: right;\n",
       "    }\n",
       "</style>\n",
       "<table border=\"1\" class=\"dataframe\">\n",
       "  <thead>\n",
       "    <tr style=\"text-align: right;\">\n",
       "      <th></th>\n",
       "      <th>docid</th>\n",
       "      <th>content</th>\n",
       "      <th>label</th>\n",
       "      <th>source</th>\n",
       "    </tr>\n",
       "  </thead>\n",
       "  <tbody>\n",
       "    <tr>\n",
       "      <th>0</th>\n",
       "      <td>20230322A01JG83</td>\n",
       "      <td>上海电影:关于股票交易异常波动的公告 查看pdf原文公告日期:2023-03-23证券代码:...</td>\n",
       "      <td>公司公告</td>\n",
       "      <td>train.json</td>\n",
       "    </tr>\n",
       "    <tr>\n",
       "      <th>1</th>\n",
       "      <td>202302247733980</td>\n",
       "      <td>平安人寿荣获 \"金理财\"年度保险保障品牌奖、年度保险服务奖、年度保障型保险产品奖三项大奖　　...</td>\n",
       "      <td>待分类</td>\n",
       "      <td>train.json</td>\n",
       "    </tr>\n",
       "    <tr>\n",
       "      <th>2</th>\n",
       "      <td>202303161408094</td>\n",
       "      <td>第48届中国国际\"医博会\"在济南市举办中工网讯(工人日报-中工网记者田国垒 通讯员杨华 葛红...</td>\n",
       "      <td>待分类</td>\n",
       "      <td>train.json</td>\n",
       "    </tr>\n",
       "    <tr>\n",
       "      <th>3</th>\n",
       "      <td>20230320A00HM2S</td>\n",
       "      <td>推荐给朋友婚礼上的喜糖！因为是无蔗糖添加的,适合所有人吃 彩虹糖,好看好吃? 水果味的、不齁...</td>\n",
       "      <td>好物推荐、直播预告类</td>\n",
       "      <td>train.json</td>\n",
       "    </tr>\n",
       "    <tr>\n",
       "      <th>4</th>\n",
       "      <td>20230224A012HLO</td>\n",
       "      <td>成绩斐然，看大众如何破局转型之路撰文 | 李京卓题图 | IC Photo进入电气化元年后,...</td>\n",
       "      <td>待分类</td>\n",
       "      <td>train.json</td>\n",
       "    </tr>\n",
       "  </tbody>\n",
       "</table>\n",
       "</div>"
      ],
      "text/plain": [
       "             docid                                            content  \\\n",
       "0  20230322A01JG83  上海电影:关于股票交易异常波动的公告 查看pdf原文公告日期:2023-03-23证券代码:...   \n",
       "1  202302247733980  平安人寿荣获 \"金理财\"年度保险保障品牌奖、年度保险服务奖、年度保障型保险产品奖三项大奖　　...   \n",
       "2  202303161408094  第48届中国国际\"医博会\"在济南市举办中工网讯(工人日报-中工网记者田国垒 通讯员杨华 葛红...   \n",
       "3  20230320A00HM2S  推荐给朋友婚礼上的喜糖！因为是无蔗糖添加的,适合所有人吃 彩虹糖,好看好吃? 水果味的、不齁...   \n",
       "4  20230224A012HLO  成绩斐然，看大众如何破局转型之路撰文 | 李京卓题图 | IC Photo进入电气化元年后,...   \n",
       "\n",
       "        label      source  \n",
       "0        公司公告  train.json  \n",
       "1         待分类  train.json  \n",
       "2         待分类  train.json  \n",
       "3  好物推荐、直播预告类  train.json  \n",
       "4         待分类  train.json  "
      ]
     },
     "execution_count": 19,
     "metadata": {},
     "output_type": "execute_result"
    }
   ],
   "source": [
    "model_used_data.head()"
   ]
  },
  {
   "cell_type": "code",
   "execution_count": 101,
   "id": "43793030-550e-4ab8-81d2-778a7a1e071f",
   "metadata": {
    "tags": []
   },
   "outputs": [
    {
     "name": "stdout",
     "output_type": "stream",
     "text": [
      "0 50000\n",
      "50000 100000\n",
      "100000 150000\n",
      "150000 200000\n"
     ]
    }
   ],
   "source": [
    "# 将文章内容数据按照没批50000保存文件\n",
    "model_used_data['headline'] = \"\"\n",
    "batch_number = 50000\n",
    "import math\n",
    "for i in range(math.ceil(model_used_data.shape[0]/batch_number)):\n",
    "    start_index, end_index = i*batch_number, (i+1)*batch_number\n",
    "    print(start_index, end_index)\n",
    "    model_used_data[start_index:end_index].to_csv(f\"./data/model_used_data{i}.csv\")\n"
   ]
  },
  {
   "cell_type": "markdown",
   "id": "69402dbd-173f-4a7e-a07d-4303e76ee991",
   "metadata": {},
   "source": [
    "# 读取文章内容embedding数据"
   ]
  },
  {
   "cell_type": "code",
   "execution_count": 20,
   "id": "e6201f00-9fbe-45ba-842d-d8ea1716a0c4",
   "metadata": {
    "tags": []
   },
   "outputs": [],
   "source": [
    "content_embedding_df = pd.read_csv(\"/workspace/spam_optimization/data/embedding/model_used_data0-688-embedding-3-small-embedding-3-small-V1-result.csv.gz\")"
   ]
  },
  {
   "cell_type": "code",
   "execution_count": 21,
   "id": "49192cc1-178a-4882-8398-f97233c72ec9",
   "metadata": {
    "tags": []
   },
   "outputs": [
    {
     "data": {
      "text/plain": [
       "((50044, 10), (49945, 10))"
      ]
     },
     "execution_count": 21,
     "metadata": {},
     "output_type": "execute_result"
    }
   ],
   "source": [
    "# content_embedding_df.head(1).to_dict('records')\n",
    "content_embedding_df['llm_response'] = content_embedding_df['llm_response'].map(lambda row: eval(row) if isinstance(row, str) else None)\n",
    "nona_content_embedding_df = content_embedding_df[~content_embedding_df['llm_response'].isna()]\n",
    "content_embedding_df.shape, nona_content_embedding_df.shape"
   ]
  },
  {
   "cell_type": "code",
   "execution_count": 22,
   "id": "1bf83709-2378-4893-8e7b-46c3cd290ba2",
   "metadata": {
    "tags": []
   },
   "outputs": [],
   "source": [
    "select_part_test_sample = nona_content_embedding_df.sample(frac=1).sample(1000)\n",
    "select_part_test_sample.to_excel(\"./data/select_part_test_sample.xlsx\")"
   ]
  },
  {
   "cell_type": "markdown",
   "id": "68d660eb-86a6-4420-a8b9-0bdc8ee48f22",
   "metadata": {},
   "source": [
    "# 计算文章内容和标签定义的相似度并为每个文章找到最相近的3个标签，（是否通过相似度的熵判断文章的混淆程度）"
   ]
  },
  {
   "cell_type": "code",
   "execution_count": 23,
   "id": "3b1a28be-492f-4177-b422-7b7708980e24",
   "metadata": {
    "tags": []
   },
   "outputs": [],
   "source": [
    "def cos_similar(content2embedding: dict, topic2embedding: dict):\n",
    "    # content2docid = zip(content2embedding.keys(), list(range(len(content2embedding))))\n",
    "    index2topic = dict(zip(list(range(len(topic2embedding))), topic2embedding.keys()))\n",
    "    content_arr = np.array(list(content2embedding.values()))\n",
    "    topic_arr = np.array(list(topic2embedding.values())).T\n",
    "    print(content_arr.shape, topic_arr.shape)\n",
    "    cos_similar_arr = np.dot(content_arr, topic_arr)\n",
    "    \n",
    "    cos_similar_arr_norm = (cos_similar_arr-np.min(cos_similar_arr))/(np.max(cos_similar_arr)-np.min(cos_similar_arr))\n",
    "\n",
    "    sorted_arr = np.argsort(cos_similar_arr, axis=1)\n",
    "    sorted_cos_similar_arr = np.sort(cos_similar_arr, axis=1)\n",
    "    # print(sorted_arr[0,:], \"\\n\", cos_similar_arr[0, :], \"\\n\", sorted_cos_similar_arr[0, :])\n",
    "\n",
    "    \n",
    "    content_most_similar_df = pd.DataFrame(sorted_arr[:, -5:], columns=['top1', 'top2', 'top3', \"top4\", \"top5\"])\n",
    "    content_most_similar_df['docid'] = list(content2embedding.keys())\n",
    "    content_most_similar_df['top1_name'] = content_most_similar_df['top1'].map(index2topic)\n",
    "    content_most_similar_df['top1_prob'] = sorted_cos_similar_arr[:, -1]\n",
    "    content_most_similar_df['top2_name'] = content_most_similar_df['top2'].map(index2topic)\n",
    "    content_most_similar_df['top2_prob'] = sorted_cos_similar_arr[:, -2]\n",
    "    content_most_similar_df['top3_name'] = content_most_similar_df['top3'].map(index2topic)\n",
    "    content_most_similar_df['top3_prob'] = sorted_cos_similar_arr[:, -3]\n",
    "    \n",
    "    content_most_similar_df['top4_name'] = content_most_similar_df['top4'].map(index2topic)\n",
    "    content_most_similar_df['top4_prob'] = sorted_cos_similar_arr[:, -3]\n",
    "    content_most_similar_df['top5_name'] = content_most_similar_df['top5'].map(index2topic)\n",
    "    content_most_similar_df['top5_prob'] = sorted_cos_similar_arr[:, -3]\n",
    "    drop_cols = [\"top1\", \"top2\", \"top3\"]\n",
    "    return content_most_similar_df.drop(columns=drop_cols)\n",
    "    \n"
   ]
  },
  {
   "cell_type": "code",
   "execution_count": 24,
   "id": "fe96fe97-47ca-421f-b09c-9c9f5494e1f2",
   "metadata": {
    "tags": []
   },
   "outputs": [
    {
     "data": {
      "text/plain": [
       "996"
      ]
     },
     "execution_count": 24,
     "metadata": {},
     "output_type": "execute_result"
    }
   ],
   "source": [
    "content2embedding = {dic[\"docid\"]:dic['llm_response'] for index, dic in select_part_test_sample.iterrows() if \"docid\" in dic and \"llm_response\" in dic and isinstance(dic['llm_response'], list)}\n",
    "content2embedding.__len__()"
   ]
  },
  {
   "cell_type": "code",
   "execution_count": 25,
   "id": "6d396781-4bac-4798-811b-4aa4a16edbab",
   "metadata": {
    "tags": []
   },
   "outputs": [
    {
     "name": "stdout",
     "output_type": "stream",
     "text": [
      "(996, 1536) (1536, 15)\n"
     ]
    }
   ],
   "source": [
    "content_and_name_most_similar_df = cos_similar(content2embedding, topic_name2embedding)"
   ]
  },
  {
   "cell_type": "code",
   "execution_count": 26,
   "id": "15e6b974-70ed-4121-95fe-53f0ede74f2c",
   "metadata": {
    "tags": []
   },
   "outputs": [
    {
     "name": "stdout",
     "output_type": "stream",
     "text": [
      "(996, 1536) (1536, 15)\n"
     ]
    }
   ],
   "source": [
    "content_and_define_most_similar_df = cos_similar(content2embedding, topic_define2embedding)"
   ]
  },
  {
   "cell_type": "code",
   "execution_count": 27,
   "id": "649cfba6-9d82-43a8-9613-573d5163ef95",
   "metadata": {
    "tags": []
   },
   "outputs": [
    {
     "data": {
      "text/html": [
       "<div>\n",
       "<style scoped>\n",
       "    .dataframe tbody tr th:only-of-type {\n",
       "        vertical-align: middle;\n",
       "    }\n",
       "\n",
       "    .dataframe tbody tr th {\n",
       "        vertical-align: top;\n",
       "    }\n",
       "\n",
       "    .dataframe thead th {\n",
       "        text-align: right;\n",
       "    }\n",
       "</style>\n",
       "<table border=\"1\" class=\"dataframe\">\n",
       "  <thead>\n",
       "    <tr style=\"text-align: right;\">\n",
       "      <th></th>\n",
       "      <th>top4</th>\n",
       "      <th>top5</th>\n",
       "      <th>docid</th>\n",
       "      <th>top1_name</th>\n",
       "      <th>top1_prob</th>\n",
       "      <th>top2_name</th>\n",
       "      <th>top2_prob</th>\n",
       "      <th>top3_name</th>\n",
       "      <th>top3_prob</th>\n",
       "      <th>top4_name</th>\n",
       "      <th>top4_prob</th>\n",
       "      <th>top5_name</th>\n",
       "      <th>top5_prob</th>\n",
       "    </tr>\n",
       "  </thead>\n",
       "  <tbody>\n",
       "    <tr>\n",
       "      <th>0</th>\n",
       "      <td>0</td>\n",
       "      <td>10</td>\n",
       "      <td>202303147144401</td>\n",
       "      <td>提问求答鉴定类</td>\n",
       "      <td>0.326589</td>\n",
       "      <td>公司财报</td>\n",
       "      <td>0.300008</td>\n",
       "      <td>灌水水贴</td>\n",
       "      <td>0.297395</td>\n",
       "      <td>股市、债市动态</td>\n",
       "      <td>0.297395</td>\n",
       "      <td>公司公告</td>\n",
       "      <td>0.297395</td>\n",
       "    </tr>\n",
       "    <tr>\n",
       "      <th>1</th>\n",
       "      <td>4</td>\n",
       "      <td>10</td>\n",
       "      <td>202303091396210</td>\n",
       "      <td>汽车经销商新闻</td>\n",
       "      <td>0.292806</td>\n",
       "      <td>提问求答鉴定类</td>\n",
       "      <td>0.253772</td>\n",
       "      <td>股市、债市动态</td>\n",
       "      <td>0.249672</td>\n",
       "      <td>公司财报</td>\n",
       "      <td>0.249672</td>\n",
       "      <td>公司公告</td>\n",
       "      <td>0.249672</td>\n",
       "    </tr>\n",
       "    <tr>\n",
       "      <th>2</th>\n",
       "      <td>8</td>\n",
       "      <td>2</td>\n",
       "      <td>20230227A0261B7</td>\n",
       "      <td>好物推荐、直播预告类</td>\n",
       "      <td>0.322935</td>\n",
       "      <td>公司公告</td>\n",
       "      <td>0.276871</td>\n",
       "      <td>纯招聘类</td>\n",
       "      <td>0.258700</td>\n",
       "      <td>便民信息</td>\n",
       "      <td>0.258700</td>\n",
       "      <td>维修服务或客服热线</td>\n",
       "      <td>0.258700</td>\n",
       "    </tr>\n",
       "    <tr>\n",
       "      <th>3</th>\n",
       "      <td>10</td>\n",
       "      <td>4</td>\n",
       "      <td>20230320A00HAKV</td>\n",
       "      <td>好物推荐、直播预告类</td>\n",
       "      <td>0.350727</td>\n",
       "      <td>汽车经销商新闻</td>\n",
       "      <td>0.329309</td>\n",
       "      <td>股市、债市动态</td>\n",
       "      <td>0.294523</td>\n",
       "      <td>公司公告</td>\n",
       "      <td>0.294523</td>\n",
       "      <td>公司财报</td>\n",
       "      <td>0.294523</td>\n",
       "    </tr>\n",
       "    <tr>\n",
       "      <th>4</th>\n",
       "      <td>4</td>\n",
       "      <td>0</td>\n",
       "      <td>202302275419308</td>\n",
       "      <td>维修服务或客服热线</td>\n",
       "      <td>0.277153</td>\n",
       "      <td>灌水水贴</td>\n",
       "      <td>0.224435</td>\n",
       "      <td>公司公告</td>\n",
       "      <td>0.214941</td>\n",
       "      <td>公司财报</td>\n",
       "      <td>0.214941</td>\n",
       "      <td>股市、债市动态</td>\n",
       "      <td>0.214941</td>\n",
       "    </tr>\n",
       "  </tbody>\n",
       "</table>\n",
       "</div>"
      ],
      "text/plain": [
       "   top4  top5            docid   top1_name  top1_prob top2_name  top2_prob  \\\n",
       "0     0    10  202303147144401     提问求答鉴定类   0.326589      公司财报   0.300008   \n",
       "1     4    10  202303091396210     汽车经销商新闻   0.292806   提问求答鉴定类   0.253772   \n",
       "2     8     2  20230227A0261B7  好物推荐、直播预告类   0.322935      公司公告   0.276871   \n",
       "3    10     4  20230320A00HAKV  好物推荐、直播预告类   0.350727   汽车经销商新闻   0.329309   \n",
       "4     4     0  202302275419308   维修服务或客服热线   0.277153      灌水水贴   0.224435   \n",
       "\n",
       "  top3_name  top3_prob top4_name  top4_prob  top5_name  top5_prob  \n",
       "0      灌水水贴   0.297395   股市、债市动态   0.297395       公司公告   0.297395  \n",
       "1   股市、债市动态   0.249672      公司财报   0.249672       公司公告   0.249672  \n",
       "2      纯招聘类   0.258700      便民信息   0.258700  维修服务或客服热线   0.258700  \n",
       "3   股市、债市动态   0.294523      公司公告   0.294523       公司财报   0.294523  \n",
       "4      公司公告   0.214941      公司财报   0.214941    股市、债市动态   0.214941  "
      ]
     },
     "execution_count": 27,
     "metadata": {},
     "output_type": "execute_result"
    }
   ],
   "source": [
    "content_and_define_most_similar_df.head()"
   ]
  },
  {
   "cell_type": "code",
   "execution_count": 28,
   "id": "f8e2a7ca-b22e-4e75-8630-4f54f70fb6d7",
   "metadata": {
    "tags": []
   },
   "outputs": [
    {
     "data": {
      "text/html": [
       "<div>\n",
       "<style scoped>\n",
       "    .dataframe tbody tr th:only-of-type {\n",
       "        vertical-align: middle;\n",
       "    }\n",
       "\n",
       "    .dataframe tbody tr th {\n",
       "        vertical-align: top;\n",
       "    }\n",
       "\n",
       "    .dataframe thead th {\n",
       "        text-align: right;\n",
       "    }\n",
       "</style>\n",
       "<table border=\"1\" class=\"dataframe\">\n",
       "  <thead>\n",
       "    <tr style=\"text-align: right;\">\n",
       "      <th></th>\n",
       "      <th>Unnamed: 0</th>\n",
       "      <th>docid</th>\n",
       "      <th>content</th>\n",
       "      <th>label</th>\n",
       "      <th>source</th>\n",
       "      <th>headline</th>\n",
       "      <th>llm_task_id</th>\n",
       "      <th>llm_status</th>\n",
       "      <th>llm_response</th>\n",
       "      <th>llm_msg</th>\n",
       "      <th>...</th>\n",
       "      <th>top1_name_y</th>\n",
       "      <th>top1_prob_y</th>\n",
       "      <th>top2_name_y</th>\n",
       "      <th>top2_prob_y</th>\n",
       "      <th>top3_name_y</th>\n",
       "      <th>top3_prob_y</th>\n",
       "      <th>top4_name_y</th>\n",
       "      <th>top4_prob_y</th>\n",
       "      <th>top5_name_y</th>\n",
       "      <th>top5_prob_y</th>\n",
       "    </tr>\n",
       "  </thead>\n",
       "  <tbody>\n",
       "    <tr>\n",
       "      <th>0</th>\n",
       "      <td>40120</td>\n",
       "      <td>202303147144401</td>\n",
       "      <td>山东财经大学校友经济发展论坛(2023)成功举办为\"汇集校友 聚创泉城\"，发挥\"财大系校友\"...</td>\n",
       "      <td>待分类</td>\n",
       "      <td>train.json</td>\n",
       "      <td>NaN</td>\n",
       "      <td>model_used_data0.csv_34449c36-f4bc-3252-b4b3-f...</td>\n",
       "      <td>0.0</td>\n",
       "      <td>[0.01423714030534029, -0.053102362900972366, 0...</td>\n",
       "      <td>NaN</td>\n",
       "      <td>...</td>\n",
       "      <td>提问求答鉴定类</td>\n",
       "      <td>0.326589</td>\n",
       "      <td>公司财报</td>\n",
       "      <td>0.300008</td>\n",
       "      <td>灌水水贴</td>\n",
       "      <td>0.297395</td>\n",
       "      <td>股市、债市动态</td>\n",
       "      <td>0.297395</td>\n",
       "      <td>公司公告</td>\n",
       "      <td>0.297395</td>\n",
       "    </tr>\n",
       "    <tr>\n",
       "      <th>1</th>\n",
       "      <td>25244</td>\n",
       "      <td>202303091396210</td>\n",
       "      <td>安永内部对税务部门命运意见不一,据悉已暂停分拆咨询业务计划据英国《金融时报》和《华尔街日报》...</td>\n",
       "      <td>待分类</td>\n",
       "      <td>train.json</td>\n",
       "      <td>NaN</td>\n",
       "      <td>model_used_data0.csv_b9861acc-ce98-3bdc-8242-3...</td>\n",
       "      <td>0.0</td>\n",
       "      <td>[0.023206759244203568, 0.02385387010872364, 0....</td>\n",
       "      <td>NaN</td>\n",
       "      <td>...</td>\n",
       "      <td>汽车经销商新闻</td>\n",
       "      <td>0.292806</td>\n",
       "      <td>提问求答鉴定类</td>\n",
       "      <td>0.253772</td>\n",
       "      <td>股市、债市动态</td>\n",
       "      <td>0.249672</td>\n",
       "      <td>公司财报</td>\n",
       "      <td>0.249672</td>\n",
       "      <td>公司公告</td>\n",
       "      <td>0.249672</td>\n",
       "    </tr>\n",
       "    <tr>\n",
       "      <th>2</th>\n",
       "      <td>16714</td>\n",
       "      <td>20230227A0261B7</td>\n",
       "      <td>华电宿州公司：狠抓技能培训 助力青工成长为进一步提高青年职工的业务素质和技能水平，华电宿州公...</td>\n",
       "      <td>待分类</td>\n",
       "      <td>train.json</td>\n",
       "      <td>NaN</td>\n",
       "      <td>model_used_data0.csv_c3d0a88e-72d1-3944-aec5-b...</td>\n",
       "      <td>0.0</td>\n",
       "      <td>[-0.006939513608813286, 0.005614547058939934, ...</td>\n",
       "      <td>NaN</td>\n",
       "      <td>...</td>\n",
       "      <td>好物推荐、直播预告类</td>\n",
       "      <td>0.322935</td>\n",
       "      <td>公司公告</td>\n",
       "      <td>0.276871</td>\n",
       "      <td>纯招聘类</td>\n",
       "      <td>0.258700</td>\n",
       "      <td>便民信息</td>\n",
       "      <td>0.258700</td>\n",
       "      <td>维修服务或客服热线</td>\n",
       "      <td>0.258700</td>\n",
       "    </tr>\n",
       "    <tr>\n",
       "      <th>3</th>\n",
       "      <td>7008</td>\n",
       "      <td>20230320A00HAKV</td>\n",
       "      <td>华翔股份董秘回复：公司所参与建设的光伏发电项目目前正在积极地进行筹建华翔股份(603112)...</td>\n",
       "      <td>公司财报</td>\n",
       "      <td>train.json</td>\n",
       "      <td>NaN</td>\n",
       "      <td>model_used_data0.csv_81e186f9-d659-3aea-b83d-9...</td>\n",
       "      <td>0.0</td>\n",
       "      <td>[0.0057653384283185005, -0.01999935507774353, ...</td>\n",
       "      <td>NaN</td>\n",
       "      <td>...</td>\n",
       "      <td>好物推荐、直播预告类</td>\n",
       "      <td>0.350727</td>\n",
       "      <td>汽车经销商新闻</td>\n",
       "      <td>0.329309</td>\n",
       "      <td>股市、债市动态</td>\n",
       "      <td>0.294523</td>\n",
       "      <td>公司公告</td>\n",
       "      <td>0.294523</td>\n",
       "      <td>公司财报</td>\n",
       "      <td>0.294523</td>\n",
       "    </tr>\n",
       "    <tr>\n",
       "      <th>4</th>\n",
       "      <td>21380</td>\n",
       "      <td>202302275419308</td>\n",
       "      <td>香港中文大学(深圳)发布2022届本科毕业生就业质量报告，平均年薪16.69万元  2月26...</td>\n",
       "      <td>待分类</td>\n",
       "      <td>train.json</td>\n",
       "      <td>NaN</td>\n",
       "      <td>model_used_data0.csv_143010d2-17b0-3e6b-9de0-5...</td>\n",
       "      <td>0.0</td>\n",
       "      <td>[0.005017169285565615, 0.024495039135217667, 0...</td>\n",
       "      <td>NaN</td>\n",
       "      <td>...</td>\n",
       "      <td>维修服务或客服热线</td>\n",
       "      <td>0.277153</td>\n",
       "      <td>灌水水贴</td>\n",
       "      <td>0.224435</td>\n",
       "      <td>公司公告</td>\n",
       "      <td>0.214941</td>\n",
       "      <td>公司财报</td>\n",
       "      <td>0.214941</td>\n",
       "      <td>股市、债市动态</td>\n",
       "      <td>0.214941</td>\n",
       "    </tr>\n",
       "  </tbody>\n",
       "</table>\n",
       "<p>5 rows × 34 columns</p>\n",
       "</div>"
      ],
      "text/plain": [
       "  Unnamed: 0            docid  \\\n",
       "0      40120  202303147144401   \n",
       "1      25244  202303091396210   \n",
       "2      16714  20230227A0261B7   \n",
       "3       7008  20230320A00HAKV   \n",
       "4      21380  202302275419308   \n",
       "\n",
       "                                             content label      source  \\\n",
       "0  山东财经大学校友经济发展论坛(2023)成功举办为\"汇集校友 聚创泉城\"，发挥\"财大系校友\"...   待分类  train.json   \n",
       "1  安永内部对税务部门命运意见不一,据悉已暂停分拆咨询业务计划据英国《金融时报》和《华尔街日报》...   待分类  train.json   \n",
       "2  华电宿州公司：狠抓技能培训 助力青工成长为进一步提高青年职工的业务素质和技能水平，华电宿州公...   待分类  train.json   \n",
       "3  华翔股份董秘回复：公司所参与建设的光伏发电项目目前正在积极地进行筹建华翔股份(603112)...  公司财报  train.json   \n",
       "4  香港中文大学(深圳)发布2022届本科毕业生就业质量报告，平均年薪16.69万元  2月26...   待分类  train.json   \n",
       "\n",
       "   headline                                        llm_task_id  llm_status  \\\n",
       "0       NaN  model_used_data0.csv_34449c36-f4bc-3252-b4b3-f...         0.0   \n",
       "1       NaN  model_used_data0.csv_b9861acc-ce98-3bdc-8242-3...         0.0   \n",
       "2       NaN  model_used_data0.csv_c3d0a88e-72d1-3944-aec5-b...         0.0   \n",
       "3       NaN  model_used_data0.csv_81e186f9-d659-3aea-b83d-9...         0.0   \n",
       "4       NaN  model_used_data0.csv_143010d2-17b0-3e6b-9de0-5...         0.0   \n",
       "\n",
       "                                        llm_response llm_msg  ...  \\\n",
       "0  [0.01423714030534029, -0.053102362900972366, 0...     NaN  ...   \n",
       "1  [0.023206759244203568, 0.02385387010872364, 0....     NaN  ...   \n",
       "2  [-0.006939513608813286, 0.005614547058939934, ...     NaN  ...   \n",
       "3  [0.0057653384283185005, -0.01999935507774353, ...     NaN  ...   \n",
       "4  [0.005017169285565615, 0.024495039135217667, 0...     NaN  ...   \n",
       "\n",
       "   top1_name_y  top1_prob_y top2_name_y  top2_prob_y top3_name_y  top3_prob_y  \\\n",
       "0      提问求答鉴定类     0.326589        公司财报     0.300008        灌水水贴     0.297395   \n",
       "1      汽车经销商新闻     0.292806     提问求答鉴定类     0.253772     股市、债市动态     0.249672   \n",
       "2   好物推荐、直播预告类     0.322935        公司公告     0.276871        纯招聘类     0.258700   \n",
       "3   好物推荐、直播预告类     0.350727     汽车经销商新闻     0.329309     股市、债市动态     0.294523   \n",
       "4    维修服务或客服热线     0.277153        灌水水贴     0.224435        公司公告     0.214941   \n",
       "\n",
       "  top4_name_y  top4_prob_y top5_name_y  top5_prob_y  \n",
       "0     股市、债市动态     0.297395        公司公告     0.297395  \n",
       "1        公司财报     0.249672        公司公告     0.249672  \n",
       "2        便民信息     0.258700   维修服务或客服热线     0.258700  \n",
       "3        公司公告     0.294523        公司财报     0.294523  \n",
       "4        公司财报     0.214941     股市、债市动态     0.214941  \n",
       "\n",
       "[5 rows x 34 columns]"
      ]
     },
     "execution_count": 28,
     "metadata": {},
     "output_type": "execute_result"
    }
   ],
   "source": [
    "content_and_name_most_similar_df['docid'] = content_and_name_most_similar_df['docid'].astype(str)\n",
    "content_and_define_most_similar_df['docid'] = content_and_define_most_similar_df['docid'].astype(str)\n",
    "\n",
    "similar_topic_df = select_part_test_sample.merge(content_and_name_most_similar_df, on='docid', how='left').merge(content_and_define_most_similar_df, on='docid', how='left')\n",
    "similar_topic_df.head()"
   ]
  },
  {
   "cell_type": "markdown",
   "id": "7a6c1302-01b8-486b-aff4-1e544607deaa",
   "metadata": {
    "tags": []
   },
   "source": [
    "# 通过prompt验证标签名称和定义召回的类别是否正确"
   ]
  },
  {
   "cell_type": "code",
   "execution_count": 248,
   "id": "2655935b-8bf3-4395-88d1-d213fa369d2a",
   "metadata": {
    "tags": []
   },
   "outputs": [
    {
     "name": "stdout",
     "output_type": "stream",
     "text": [
      "['top1_name_x', 'top2_name_x', 'top3_name_x', 'top4_name_x', 'top5_name_x', 'top1_name_y', 'top2_name_y', 'top3_name_y', 'top4_name_y', 'top5_name_y']\n"
     ]
    }
   ],
   "source": [
    "topic_cols = [cols for cols in similar_topic_df.columns if 'top' in cols and \"name\" in cols]\n",
    "origin_cols = ['docid', 'content', 'label', \"source\"]\n",
    "# 将两个top5的召回标签和定义合并在一起\n",
    "def generate_possible_topic_info(row, topic_cols, topic_define_dict):\n",
    "    possible_topic_info = {}\n",
    "    for col in topic_cols:\n",
    "        if row[col] == \"股市、债市动态\": \n",
    "            possible_topic_info[\"股市、债市动态\"] = topic_define_dict[\"股市债市动态\"]  \n",
    "        else: \n",
    "            possible_topic_info[row[col]] = topic_define_dict[row[col]]\n",
    "    return possible_topic_info"
   ]
  },
  {
   "cell_type": "code",
   "execution_count": 249,
   "id": "e8bc6f73-9b76-4ab6-a91c-9cf178cfe638",
   "metadata": {
    "tags": []
   },
   "outputs": [],
   "source": [
    "prompt_test_df = similar_topic_df[similar_topic_df['label']!='待分类'].sample(100, random_state=1)"
   ]
  },
  {
   "cell_type": "code",
   "execution_count": 250,
   "id": "8a23b63b-7c2e-489f-a036-950df8d79da1",
   "metadata": {
    "tags": []
   },
   "outputs": [],
   "source": [
    "prompt_test_df['sign5'] = prompt_test_df.apply(lambda row: row['label'] in [row[cols] for cols in topic_cols], axis=1)\n",
    "topic4_cols = ['top1_name_x', 'top2_name_x', 'top3_name_x', 'top4_name_x', 'top1_name_y', 'top2_name_y', 'top3_name_y', 'top4_name_y']\n",
    "prompt_test_df['sign4'] = prompt_test_df.apply(lambda row: row['label'] in [row[cols] for cols in topic4_cols], axis=1)\n",
    "topic3_cols = ['top1_name_x', 'top2_name_x', 'top3_name_x', 'top1_name_y', 'top2_name_y', 'top3_name_y']\n",
    "prompt_test_df['sign3'] = prompt_test_df.apply(lambda row: row['label'] in [row[cols] for cols in topic3_cols], axis=1)\n",
    "\n"
   ]
  },
  {
   "cell_type": "code",
   "execution_count": 251,
   "id": "86b04014-e4cf-4c38-8e65-74e0fb23d6cc",
   "metadata": {
    "tags": []
   },
   "outputs": [
    {
     "data": {
      "text/plain": [
       "((91, 37), (56, 37), (36, 37))"
      ]
     },
     "execution_count": 251,
     "metadata": {},
     "output_type": "execute_result"
    }
   ],
   "source": [
    "prompt_test_df[prompt_test_df['sign5']==True].shape, prompt_test_df[prompt_test_df['sign4']==True].shape, prompt_test_df[prompt_test_df['sign3']==True].shape"
   ]
  },
  {
   "cell_type": "code",
   "execution_count": 252,
   "id": "c2c12a78-5160-4732-86ed-350f64f736eb",
   "metadata": {
    "tags": []
   },
   "outputs": [],
   "source": [
    "prompt_test_df['docid'] = prompt_test_df['docid'].astype(str)\n"
   ]
  },
  {
   "cell_type": "code",
   "execution_count": 253,
   "id": "102b38a8-779c-488a-b142-29add05f34c9",
   "metadata": {
    "tags": []
   },
   "outputs": [],
   "source": [
    "define_col = []\n",
    "for col in topic_cols:\n",
    "    \n",
    "    new_col = col.replace(\"_name_\", \"_define_\")\n",
    "    define_col.append(new_col)\n",
    "    prompt_test_df[new_col] = prompt_test_df[col].map(topic_define_dict)\n",
    "    \n",
    "    "
   ]
  },
  {
   "cell_type": "code",
   "execution_count": 254,
   "id": "04c76e0f-2f61-41c4-ae16-f8cd48c22463",
   "metadata": {
    "tags": []
   },
   "outputs": [
    {
     "data": {
      "text/html": [
       "<div>\n",
       "<style scoped>\n",
       "    .dataframe tbody tr th:only-of-type {\n",
       "        vertical-align: middle;\n",
       "    }\n",
       "\n",
       "    .dataframe tbody tr th {\n",
       "        vertical-align: top;\n",
       "    }\n",
       "\n",
       "    .dataframe thead th {\n",
       "        text-align: right;\n",
       "    }\n",
       "</style>\n",
       "<table border=\"1\" class=\"dataframe\">\n",
       "  <thead>\n",
       "    <tr style=\"text-align: right;\">\n",
       "      <th></th>\n",
       "      <th>Unnamed: 0</th>\n",
       "      <th>docid</th>\n",
       "      <th>content</th>\n",
       "      <th>label</th>\n",
       "      <th>source</th>\n",
       "      <th>headline</th>\n",
       "      <th>llm_task_id</th>\n",
       "      <th>llm_status</th>\n",
       "      <th>llm_response</th>\n",
       "      <th>llm_msg</th>\n",
       "      <th>...</th>\n",
       "      <th>top1_define_x</th>\n",
       "      <th>top2_define_x</th>\n",
       "      <th>top3_define_x</th>\n",
       "      <th>top4_define_x</th>\n",
       "      <th>top5_define_x</th>\n",
       "      <th>top1_define_y</th>\n",
       "      <th>top2_define_y</th>\n",
       "      <th>top3_define_y</th>\n",
       "      <th>top4_define_y</th>\n",
       "      <th>top5_define_y</th>\n",
       "    </tr>\n",
       "  </thead>\n",
       "  <tbody>\n",
       "    <tr>\n",
       "      <th>155</th>\n",
       "      <td>13937</td>\n",
       "      <td>202303212710287</td>\n",
       "      <td>#时光里幸福一帧#@苏宁易购@海信电视@vivo#时光里幸福一帧#@苏宁易购@海信电视@vi...</td>\n",
       "      <td>促销广告、打折信息类</td>\n",
       "      <td>train.json</td>\n",
       "      <td>NaN</td>\n",
       "      <td>model_used_data0.csv_652fd58f-0089-3a9a-a933-6...</td>\n",
       "      <td>0.0</td>\n",
       "      <td>[0.06530198454856873, -0.043340038508176804, -...</td>\n",
       "      <td>NaN</td>\n",
       "      <td>...</td>\n",
       "      <td>通过不同渠道进行跨国购物，例如海淘、带货、代购</td>\n",
       "      <td>通常是为了向员工、股东、客户或其他相关方面传达特定的信息或消息。公司官方公告可以涉及各种主题...</td>\n",
       "      <td>小说，段子，故事分享，心情分享，明星打call，八卦讨论， 音乐，影视分享，心灵鸡汤等内容</td>\n",
       "      <td>好物推荐是实质用户根据根据使用心得推荐一些优质的产品或服务，店铺，影音书籍等，不能有明确的打...</td>\n",
       "      <td>促销广告是指为了促进销售而发布的广告，通常包括打折、赠品、抽奖等促销活动信息，打折信息类是指...</td>\n",
       "      <td>发表提问，求专业知识解答与物品真伪鉴定，互动交流解疑惑</td>\n",
       "      <td>提供生活服务、交通、天气等实用资讯，方便日常生活。</td>\n",
       "      <td>小说，段子，故事分享，心情分享，明星打call，八卦讨论， 音乐，影视分享，心灵鸡汤等内容</td>\n",
       "      <td>促销广告是指为了促进销售而发布的广告，通常包括打折、赠品、抽奖等促销活动信息，打折信息类是指...</td>\n",
       "      <td>好物推荐是实质用户根据根据使用心得推荐一些优质的产品或服务，店铺，影音书籍等，不能有明确的打...</td>\n",
       "    </tr>\n",
       "  </tbody>\n",
       "</table>\n",
       "<p>1 rows × 47 columns</p>\n",
       "</div>"
      ],
      "text/plain": [
       "    Unnamed: 0            docid  \\\n",
       "155      13937  202303212710287   \n",
       "\n",
       "                                               content       label  \\\n",
       "155  #时光里幸福一帧#@苏宁易购@海信电视@vivo#时光里幸福一帧#@苏宁易购@海信电视@vi...  促销广告、打折信息类   \n",
       "\n",
       "         source  headline                                        llm_task_id  \\\n",
       "155  train.json       NaN  model_used_data0.csv_652fd58f-0089-3a9a-a933-6...   \n",
       "\n",
       "     llm_status                                       llm_response llm_msg  \\\n",
       "155         0.0  [0.06530198454856873, -0.043340038508176804, -...     NaN   \n",
       "\n",
       "     ...            top1_define_x  \\\n",
       "155  ...  通过不同渠道进行跨国购物，例如海淘、带货、代购   \n",
       "\n",
       "                                         top2_define_x  \\\n",
       "155  通常是为了向员工、股东、客户或其他相关方面传达特定的信息或消息。公司官方公告可以涉及各种主题...   \n",
       "\n",
       "                                     top3_define_x  \\\n",
       "155  小说，段子，故事分享，心情分享，明星打call，八卦讨论， 音乐，影视分享，心灵鸡汤等内容   \n",
       "\n",
       "                                         top4_define_x  \\\n",
       "155  好物推荐是实质用户根据根据使用心得推荐一些优质的产品或服务，店铺，影音书籍等，不能有明确的打...   \n",
       "\n",
       "                                         top5_define_x  \\\n",
       "155  促销广告是指为了促进销售而发布的广告，通常包括打折、赠品、抽奖等促销活动信息，打折信息类是指...   \n",
       "\n",
       "                   top1_define_y              top2_define_y  \\\n",
       "155  发表提问，求专业知识解答与物品真伪鉴定，互动交流解疑惑  提供生活服务、交通、天气等实用资讯，方便日常生活。   \n",
       "\n",
       "                                     top3_define_y  \\\n",
       "155  小说，段子，故事分享，心情分享，明星打call，八卦讨论， 音乐，影视分享，心灵鸡汤等内容   \n",
       "\n",
       "                                         top4_define_y  \\\n",
       "155  促销广告是指为了促进销售而发布的广告，通常包括打折、赠品、抽奖等促销活动信息，打折信息类是指...   \n",
       "\n",
       "                                         top5_define_y  \n",
       "155  好物推荐是实质用户根据根据使用心得推荐一些优质的产品或服务，店铺，影音书籍等，不能有明确的打...  \n",
       "\n",
       "[1 rows x 47 columns]"
      ]
     },
     "execution_count": 254,
     "metadata": {},
     "output_type": "execute_result"
    }
   ],
   "source": [
    "prompt_test_df.head(1)"
   ]
  },
  {
   "cell_type": "code",
   "execution_count": 255,
   "id": "a39247c7-b389-4170-8200-726fd720022a",
   "metadata": {
    "tags": []
   },
   "outputs": [],
   "source": [
    "\n",
    "\n",
    "prompt_test_df['possible_topic_info'] = prompt_test_df.apply(generate_possible_topic_info, args=(topic_cols, topic_define_dict,), axis=1)"
   ]
  },
  {
   "cell_type": "code",
   "execution_count": 257,
   "id": "d429e57f-d2d7-4e60-a9e0-b6f1bdedc003",
   "metadata": {
    "tags": []
   },
   "outputs": [],
   "source": [
    "prompt_test_df[origin_cols+topic_cols+define_col+['sign3','sign4','sign5', \"possible_topic_info\"]].to_csv(\"./data/spam_prompt_test_df.csv\")"
   ]
  },
  {
   "cell_type": "code",
   "execution_count": 260,
   "id": "960dad87-9be5-4cca-b589-df6272e63e37",
   "metadata": {
    "tags": []
   },
   "outputs": [],
   "source": [
    "prompt_test_df['len'] = prompt_test_df['possible_topic_info'].map(len)\n"
   ]
  },
  {
   "cell_type": "code",
   "execution_count": 261,
   "id": "8f0dc00c-0916-4fa9-886a-f41f9e87e766",
   "metadata": {
    "tags": []
   },
   "outputs": [
    {
     "data": {
      "text/plain": [
       "7    38\n",
       "6    28\n",
       "8    23\n",
       "9     7\n",
       "5     4\n",
       "Name: len, dtype: int64"
      ]
     },
     "execution_count": 261,
     "metadata": {},
     "output_type": "execute_result"
    }
   ],
   "source": [
    "prompt_test_df['len'].value_counts()"
   ]
  },
  {
   "cell_type": "code",
   "execution_count": 263,
   "id": "9006b31e-29df-4e39-9e19-58fa63aa3c13",
   "metadata": {
    "tags": []
   },
   "outputs": [],
   "source": [
    "pd.Series(topic_define_dict).to_csv(\"topic_define.csv\")"
   ]
  },
  {
   "cell_type": "markdown",
   "id": "19e6b74a-e235-49d4-ac6d-2098d8b2676f",
   "metadata": {
    "tags": []
   },
   "source": [
    "# 从有标签的数据中采样500条数据，并将金融行业数据选取500条"
   ]
  },
  {
   "cell_type": "code",
   "execution_count": 29,
   "id": "2cedfd5e-eebe-4132-9a65-aa672f86a636",
   "metadata": {
    "tags": []
   },
   "outputs": [],
   "source": [
    "def group_sample(data: pd.DataFrame, sample_number=50):\n",
    "    sample_list = []\n",
    "    for label, groupdf in data.groupby(\"label\"):\n",
    "        if groupdf.shape[0] >= sample_number:\n",
    "            sample_list.append(groupdf.sample(sample_number))\n",
    "        else:\n",
    "            sample_list.append(groupdf)\n",
    "\n",
    "    return pd.concat(sample_list)\n",
    "\n",
    "have_label_test_sample = group_sample(content_embedding_df)"
   ]
  },
  {
   "cell_type": "code",
   "execution_count": 30,
   "id": "16c88974-630c-46fd-9738-a49d10b8d8a1",
   "metadata": {
    "tags": []
   },
   "outputs": [
    {
     "data": {
      "text/html": [
       "<div>\n",
       "<style scoped>\n",
       "    .dataframe tbody tr th:only-of-type {\n",
       "        vertical-align: middle;\n",
       "    }\n",
       "\n",
       "    .dataframe tbody tr th {\n",
       "        vertical-align: top;\n",
       "    }\n",
       "\n",
       "    .dataframe thead th {\n",
       "        text-align: right;\n",
       "    }\n",
       "</style>\n",
       "<table border=\"1\" class=\"dataframe\">\n",
       "  <thead>\n",
       "    <tr style=\"text-align: right;\">\n",
       "      <th></th>\n",
       "      <th>Unnamed: 0</th>\n",
       "      <th>docid</th>\n",
       "      <th>content</th>\n",
       "      <th>label</th>\n",
       "      <th>source</th>\n",
       "      <th>headline</th>\n",
       "      <th>llm_task_id</th>\n",
       "      <th>llm_status</th>\n",
       "      <th>llm_response</th>\n",
       "      <th>llm_msg</th>\n",
       "    </tr>\n",
       "  </thead>\n",
       "  <tbody>\n",
       "    <tr>\n",
       "      <th>44902</th>\n",
       "      <td>1368</td>\n",
       "      <td>202205262392895</td>\n",
       "      <td>​西雅图/加拿大周边游:海岸星光号列车+波特兰+101公路神奇海岸线+神木步道+红木公园+旧...</td>\n",
       "      <td>促销广告、打折信息类</td>\n",
       "      <td>test.json</td>\n",
       "      <td>NaN</td>\n",
       "      <td>model_used_data0.csv_cb10d15c-ae79-3dec-aab7-2...</td>\n",
       "      <td>0.0</td>\n",
       "      <td>[-0.008920187130570412, 0.0063757398165762424,...</td>\n",
       "      <td>NaN</td>\n",
       "    </tr>\n",
       "    <tr>\n",
       "      <th>19852</th>\n",
       "      <td>19832</td>\n",
       "      <td>c069cb10d2e60a8e6aee82d5638803f6</td>\n",
       "      <td>【平论+赞随机揪免单】卷后42.9【百草味】罐装夏威夷果奶油味500g,坚果旺季来了,开壳不...</td>\n",
       "      <td>促销广告、打折信息类</td>\n",
       "      <td>train.json</td>\n",
       "      <td>NaN</td>\n",
       "      <td>model_used_data0.csv_f835d151-3477-3b51-87ad-2...</td>\n",
       "      <td>0.0</td>\n",
       "      <td>[-0.008494753390550613, -0.03978944942355156, ...</td>\n",
       "      <td>NaN</td>\n",
       "    </tr>\n",
       "    <tr>\n",
       "      <th>20168</th>\n",
       "      <td>20148</td>\n",
       "      <td>202303206118888</td>\n",
       "      <td>春日见喜，镇江月星\"狂享家\"活动圆满收官！3月19日 镇江月星\"狂享家\"活动 圆满收官! 三...</td>\n",
       "      <td>促销广告、打折信息类</td>\n",
       "      <td>train.json</td>\n",
       "      <td>NaN</td>\n",
       "      <td>model_used_data0.csv_7b612578-2b21-3e9b-a4bb-c...</td>\n",
       "      <td>0.0</td>\n",
       "      <td>[0.020520830526947975, 0.028596319258213043, -...</td>\n",
       "      <td>NaN</td>\n",
       "    </tr>\n",
       "    <tr>\n",
       "      <th>15307</th>\n",
       "      <td>15291</td>\n",
       "      <td>20230323A05KI1E</td>\n",
       "      <td>摩恩公司2023春季全国招商活动开始了!看看我能把与摩恩一起创造财富机会的送给那位有缘人! ...</td>\n",
       "      <td>促销广告、打折信息类</td>\n",
       "      <td>train.json</td>\n",
       "      <td>NaN</td>\n",
       "      <td>model_used_data0.csv_df773f60-22ff-35db-94ff-c...</td>\n",
       "      <td>0.0</td>\n",
       "      <td>[0.005606198217719793, 0.019215792417526245, 0...</td>\n",
       "      <td>NaN</td>\n",
       "    </tr>\n",
       "    <tr>\n",
       "      <th>46613</th>\n",
       "      <td>3079</td>\n",
       "      <td>20230322A01G7Y1</td>\n",
       "      <td>露营季将至厂商既喜且忧:爆单抢单持续 价格战苗头已现财联社3月22日讯(记者 陈抗)五一露营...</td>\n",
       "      <td>促销广告、打折信息类</td>\n",
       "      <td>test.json</td>\n",
       "      <td>NaN</td>\n",
       "      <td>model_used_data0.csv_c2cef771-fe1b-393a-999e-b...</td>\n",
       "      <td>0.0</td>\n",
       "      <td>[0.02227720245718956, 0.010503695346415043, 0....</td>\n",
       "      <td>NaN</td>\n",
       "    </tr>\n",
       "  </tbody>\n",
       "</table>\n",
       "</div>"
      ],
      "text/plain": [
       "      Unnamed: 0                             docid  \\\n",
       "44902       1368                   202205262392895   \n",
       "19852      19832  c069cb10d2e60a8e6aee82d5638803f6   \n",
       "20168      20148                   202303206118888   \n",
       "15307      15291                   20230323A05KI1E   \n",
       "46613       3079                   20230322A01G7Y1   \n",
       "\n",
       "                                                 content       label  \\\n",
       "44902  ​西雅图/加拿大周边游:海岸星光号列车+波特兰+101公路神奇海岸线+神木步道+红木公园+旧...  促销广告、打折信息类   \n",
       "19852  【平论+赞随机揪免单】卷后42.9【百草味】罐装夏威夷果奶油味500g,坚果旺季来了,开壳不...  促销广告、打折信息类   \n",
       "20168  春日见喜，镇江月星\"狂享家\"活动圆满收官！3月19日 镇江月星\"狂享家\"活动 圆满收官! 三...  促销广告、打折信息类   \n",
       "15307  摩恩公司2023春季全国招商活动开始了!看看我能把与摩恩一起创造财富机会的送给那位有缘人! ...  促销广告、打折信息类   \n",
       "46613  露营季将至厂商既喜且忧:爆单抢单持续 价格战苗头已现财联社3月22日讯(记者 陈抗)五一露营...  促销广告、打折信息类   \n",
       "\n",
       "           source  headline  \\\n",
       "44902   test.json       NaN   \n",
       "19852  train.json       NaN   \n",
       "20168  train.json       NaN   \n",
       "15307  train.json       NaN   \n",
       "46613   test.json       NaN   \n",
       "\n",
       "                                             llm_task_id  llm_status  \\\n",
       "44902  model_used_data0.csv_cb10d15c-ae79-3dec-aab7-2...         0.0   \n",
       "19852  model_used_data0.csv_f835d151-3477-3b51-87ad-2...         0.0   \n",
       "20168  model_used_data0.csv_7b612578-2b21-3e9b-a4bb-c...         0.0   \n",
       "15307  model_used_data0.csv_df773f60-22ff-35db-94ff-c...         0.0   \n",
       "46613  model_used_data0.csv_c2cef771-fe1b-393a-999e-b...         0.0   \n",
       "\n",
       "                                            llm_response llm_msg  \n",
       "44902  [-0.008920187130570412, 0.0063757398165762424,...     NaN  \n",
       "19852  [-0.008494753390550613, -0.03978944942355156, ...     NaN  \n",
       "20168  [0.020520830526947975, 0.028596319258213043, -...     NaN  \n",
       "15307  [0.005606198217719793, 0.019215792417526245, 0...     NaN  \n",
       "46613  [0.02227720245718956, 0.010503695346415043, 0....     NaN  "
      ]
     },
     "execution_count": 30,
     "metadata": {},
     "output_type": "execute_result"
    }
   ],
   "source": [
    "have_label_test_sample.head()"
   ]
  },
  {
   "cell_type": "code",
   "execution_count": 31,
   "id": "89073157-119b-4503-a90a-3426495602bb",
   "metadata": {
    "tags": []
   },
   "outputs": [],
   "source": [
    "five_client_test_sample = pd.read_json(\"/workspace/canton-target-sentiment/nlp_pipeline/data/datasets/sample/sequence_classification/nine_clean_data/five_client_manual_fix_0829.json\")"
   ]
  },
  {
   "cell_type": "code",
   "execution_count": 32,
   "id": "5ad0c3cf-b819-4aa5-a7c1-024b6f9594e4",
   "metadata": {
    "tags": []
   },
   "outputs": [],
   "source": [
    "financial_test_sample = pd.read_excel(\"/workspace/spam_optimization/data/废文分类汇总2024-06-04 (1).xlsx\", sheet_name='金融行业废文')\n",
    "financial_test_sample['content'] = financial_test_sample.apply(lambda row: row['内文'] if str(row['标题']) in str(row['内文']) else str(row['标题'])+str(row['内文']), axis=1)\n",
    "financial_test_sample = financial_test_sample[(~financial_test_sample['content'].isna()) & (financial_test_sample['content']!=\"\")].rename(columns={\"文章编号\": \"docid\"})\n",
    "financial_test_sample['label'] = financial_test_sample['内容标签']"
   ]
  },
  {
   "cell_type": "code",
   "execution_count": 36,
   "id": "ae346afa-00d0-4b75-8256-d19beb19d5e1",
   "metadata": {
    "tags": []
   },
   "outputs": [],
   "source": [
    "five_client_test_sample['source'] = \"five_client_test_sample\"\n",
    "financial_test_sample['source'] = 'financial_test_sample'\n",
    "business_test_sample = pd.concat([five_client_test_sample[['docid', 'content', 'label', 'source']], financial_test_sample[['docid', 'content', 'label', 'source']]]).drop_duplicates(subset=['docid'])\n",
    "business_test_sample_500 = business_test_sample.sample(500, random_state=1)"
   ]
  },
  {
   "cell_type": "code",
   "execution_count": 37,
   "id": "7fa51ac8-89a6-4e10-b766-c9fee0e704f0",
   "metadata": {
    "tags": []
   },
   "outputs": [
    {
     "name": "stderr",
     "output_type": "stream",
     "text": [
      " 99%|█████████▉| 496/500 [00:04<00:00, 23.66it/s]2024-06-20 17:05:59.988 | ERROR    | asyncio_gpt:request_post:41 - response result is except， <ClientResponse(http://aiapi.wisers.com/openai-result-service-api/common/invoke) [200 OK]>\n",
      "<CIMultiDictProxy('date': 'Thu, 20 Jun 2024 09:05:56 GMT', 'server': 'envoy', 'content-length': '474', 'content-type': 'application/json', 'x-envoy-upstream-service-time': '2733')>\n",
      "\n",
      "2024-06-20 17:06:00.020 | ERROR    | asyncio_gpt:request_post:41 - response result is except， <ClientResponse(http://aiapi.wisers.com/openai-result-service-api/common/invoke) [200 OK]>\n",
      "<CIMultiDictProxy('date': 'Thu, 20 Jun 2024 09:05:56 GMT', 'server': 'envoy', 'content-length': '476', 'content-type': 'application/json', 'x-envoy-upstream-service-time': '2445')>\n",
      "\n",
      "100%|██████████| 500/500 [00:05<00:00, 90.72it/s]\n"
     ]
    }
   ],
   "source": [
    "embedding_tools.complete_result = []\n",
    "done = await content_embedding_main(embedding_tools, business_test_sample_500)"
   ]
  },
  {
   "cell_type": "code",
   "execution_count": 38,
   "id": "97d50610-ed56-41d5-acae-d2855892cafa",
   "metadata": {
    "tags": []
   },
   "outputs": [
    {
     "data": {
      "text/plain": [
       "498"
      ]
     },
     "execution_count": 38,
     "metadata": {},
     "output_type": "execute_result"
    }
   ],
   "source": [
    "docid2embedding = {dic['doc_id']: dic['llm_response'] for dic in embedding_tools.complete_result if \"doc_id\" in dic and \"llm_response\" in dic}\n",
    "docid2embedding.__len__()"
   ]
  },
  {
   "cell_type": "code",
   "execution_count": 39,
   "id": "a4241b26-5e39-4e84-b561-a9690789be38",
   "metadata": {
    "tags": []
   },
   "outputs": [],
   "source": [
    "business_test_sample_500['llm_response'] = business_test_sample_500['docid'].map(docid2embedding)\n"
   ]
  },
  {
   "cell_type": "code",
   "execution_count": 40,
   "id": "51b1457a-331a-48bf-b6dd-c62952beb23f",
   "metadata": {
    "tags": []
   },
   "outputs": [
    {
     "data": {
      "text/plain": [
       "Index(['Unnamed: 0', 'docid', 'content', 'label', 'source', 'headline',\n",
       "       'llm_task_id', 'llm_status', 'llm_response', 'llm_msg'],\n",
       "      dtype='object')"
      ]
     },
     "execution_count": 40,
     "metadata": {},
     "output_type": "execute_result"
    }
   ],
   "source": [
    "have_label_test_sample.columns"
   ]
  },
  {
   "cell_type": "code",
   "execution_count": 42,
   "id": "14e1558f-7b69-46f8-9c1f-62794f729704",
   "metadata": {
    "tags": []
   },
   "outputs": [
    {
     "data": {
      "text/plain": [
       "(1000, 5)"
      ]
     },
     "execution_count": 42,
     "metadata": {},
     "output_type": "execute_result"
    }
   ],
   "source": [
    "complete_test_df = pd.concat([have_label_test_sample[['docid', 'content', 'label', 'source', 'llm_response']], business_test_sample_500[['docid', 'content', 'label', 'source', 'llm_response']]])\n",
    "complete_test_df.shape"
   ]
  },
  {
   "cell_type": "code",
   "execution_count": 44,
   "id": "1d7bc5f3-ee93-4008-97df-72bd84c64388",
   "metadata": {
    "tags": []
   },
   "outputs": [
    {
     "name": "stdout",
     "output_type": "stream",
     "text": [
      "(994, 1536) (1536, 15)\n",
      "(994, 1536) (1536, 15)\n"
     ]
    }
   ],
   "source": [
    "\n",
    "complete_test_docid2embedding = {row['docid']:row['llm_response'] for index, row in complete_test_df[~complete_test_df['llm_response'].isna()].iterrows()}\n",
    "\n",
    "content_and_name_similar = cos_similar(complete_test_docid2embedding, topic_name2embedding)\n",
    "content_and_define_similar = cos_similar(complete_test_docid2embedding, topic_define2embedding)"
   ]
  },
  {
   "cell_type": "code",
   "execution_count": 45,
   "id": "347e7708-74e8-4418-b35b-63a3801fe1dd",
   "metadata": {
    "tags": []
   },
   "outputs": [
    {
     "data": {
      "text/html": [
       "<div>\n",
       "<style scoped>\n",
       "    .dataframe tbody tr th:only-of-type {\n",
       "        vertical-align: middle;\n",
       "    }\n",
       "\n",
       "    .dataframe tbody tr th {\n",
       "        vertical-align: top;\n",
       "    }\n",
       "\n",
       "    .dataframe thead th {\n",
       "        text-align: right;\n",
       "    }\n",
       "</style>\n",
       "<table border=\"1\" class=\"dataframe\">\n",
       "  <thead>\n",
       "    <tr style=\"text-align: right;\">\n",
       "      <th></th>\n",
       "      <th>top4</th>\n",
       "      <th>top5</th>\n",
       "      <th>docid</th>\n",
       "      <th>top1_name</th>\n",
       "      <th>top1_prob</th>\n",
       "      <th>top2_name</th>\n",
       "      <th>top2_prob</th>\n",
       "      <th>top3_name</th>\n",
       "      <th>top3_prob</th>\n",
       "      <th>top4_name</th>\n",
       "      <th>top4_prob</th>\n",
       "      <th>top5_name</th>\n",
       "      <th>top5_prob</th>\n",
       "    </tr>\n",
       "  </thead>\n",
       "  <tbody>\n",
       "    <tr>\n",
       "      <th>0</th>\n",
       "      <td>5</td>\n",
       "      <td>10</td>\n",
       "      <td>202205262392895</td>\n",
       "      <td>合租&amp;租房广告&amp;售房广告</td>\n",
       "      <td>0.290578</td>\n",
       "      <td>维修服务或客服热线</td>\n",
       "      <td>0.286016</td>\n",
       "      <td>假冒仿制商品</td>\n",
       "      <td>0.253500</td>\n",
       "      <td>跨洋购物</td>\n",
       "      <td>0.253500</td>\n",
       "      <td>好物推荐、直播预告类</td>\n",
       "      <td>0.253500</td>\n",
       "    </tr>\n",
       "    <tr>\n",
       "      <th>1</th>\n",
       "      <td>7</td>\n",
       "      <td>10</td>\n",
       "      <td>c069cb10d2e60a8e6aee82d5638803f6</td>\n",
       "      <td>跨洋购物</td>\n",
       "      <td>0.348942</td>\n",
       "      <td>促销广告、打折信息类</td>\n",
       "      <td>0.313595</td>\n",
       "      <td>灌水水贴</td>\n",
       "      <td>0.310440</td>\n",
       "      <td>假冒仿制商品</td>\n",
       "      <td>0.310440</td>\n",
       "      <td>好物推荐、直播预告类</td>\n",
       "      <td>0.310440</td>\n",
       "    </tr>\n",
       "    <tr>\n",
       "      <th>2</th>\n",
       "      <td>10</td>\n",
       "      <td>3</td>\n",
       "      <td>202303206118888</td>\n",
       "      <td>合租&amp;租房广告&amp;售房广告</td>\n",
       "      <td>0.336226</td>\n",
       "      <td>公司公告</td>\n",
       "      <td>0.282415</td>\n",
       "      <td>跨洋购物</td>\n",
       "      <td>0.278873</td>\n",
       "      <td>好物推荐、直播预告类</td>\n",
       "      <td>0.278873</td>\n",
       "      <td>促销广告、打折信息类</td>\n",
       "      <td>0.278873</td>\n",
       "    </tr>\n",
       "    <tr>\n",
       "      <th>3</th>\n",
       "      <td>0</td>\n",
       "      <td>5</td>\n",
       "      <td>20230323A05KI1E</td>\n",
       "      <td>公司公告</td>\n",
       "      <td>0.330342</td>\n",
       "      <td>汽车经销商新闻</td>\n",
       "      <td>0.327259</td>\n",
       "      <td>合租&amp;租房广告&amp;售房广告</td>\n",
       "      <td>0.302659</td>\n",
       "      <td>灌水水贴</td>\n",
       "      <td>0.302659</td>\n",
       "      <td>跨洋购物</td>\n",
       "      <td>0.302659</td>\n",
       "    </tr>\n",
       "    <tr>\n",
       "      <th>4</th>\n",
       "      <td>7</td>\n",
       "      <td>1</td>\n",
       "      <td>20230322A01G7Y1</td>\n",
       "      <td>公司财报</td>\n",
       "      <td>0.345675</td>\n",
       "      <td>跨洋购物</td>\n",
       "      <td>0.331557</td>\n",
       "      <td>促销广告、打折信息类</td>\n",
       "      <td>0.327215</td>\n",
       "      <td>假冒仿制商品</td>\n",
       "      <td>0.327215</td>\n",
       "      <td>汽车经销商新闻</td>\n",
       "      <td>0.327215</td>\n",
       "    </tr>\n",
       "  </tbody>\n",
       "</table>\n",
       "</div>"
      ],
      "text/plain": [
       "   top4  top5                             docid     top1_name  top1_prob  \\\n",
       "0     5    10                   202205262392895  合租&租房广告&售房广告   0.290578   \n",
       "1     7    10  c069cb10d2e60a8e6aee82d5638803f6          跨洋购物   0.348942   \n",
       "2    10     3                   202303206118888  合租&租房广告&售房广告   0.336226   \n",
       "3     0     5                   20230323A05KI1E          公司公告   0.330342   \n",
       "4     7     1                   20230322A01G7Y1          公司财报   0.345675   \n",
       "\n",
       "    top2_name  top2_prob     top3_name  top3_prob   top4_name  top4_prob  \\\n",
       "0   维修服务或客服热线   0.286016        假冒仿制商品   0.253500        跨洋购物   0.253500   \n",
       "1  促销广告、打折信息类   0.313595          灌水水贴   0.310440      假冒仿制商品   0.310440   \n",
       "2        公司公告   0.282415          跨洋购物   0.278873  好物推荐、直播预告类   0.278873   \n",
       "3     汽车经销商新闻   0.327259  合租&租房广告&售房广告   0.302659        灌水水贴   0.302659   \n",
       "4        跨洋购物   0.331557    促销广告、打折信息类   0.327215      假冒仿制商品   0.327215   \n",
       "\n",
       "    top5_name  top5_prob  \n",
       "0  好物推荐、直播预告类   0.253500  \n",
       "1  好物推荐、直播预告类   0.310440  \n",
       "2  促销广告、打折信息类   0.278873  \n",
       "3        跨洋购物   0.302659  \n",
       "4     汽车经销商新闻   0.327215  "
      ]
     },
     "execution_count": 45,
     "metadata": {},
     "output_type": "execute_result"
    }
   ],
   "source": [
    "content_and_name_similar.head()"
   ]
  },
  {
   "cell_type": "code",
   "execution_count": 46,
   "id": "e91a58be-20a2-42d2-95f4-272abe9dad2d",
   "metadata": {
    "tags": []
   },
   "outputs": [
    {
     "data": {
      "text/html": [
       "<div>\n",
       "<style scoped>\n",
       "    .dataframe tbody tr th:only-of-type {\n",
       "        vertical-align: middle;\n",
       "    }\n",
       "\n",
       "    .dataframe tbody tr th {\n",
       "        vertical-align: top;\n",
       "    }\n",
       "\n",
       "    .dataframe thead th {\n",
       "        text-align: right;\n",
       "    }\n",
       "</style>\n",
       "<table border=\"1\" class=\"dataframe\">\n",
       "  <thead>\n",
       "    <tr style=\"text-align: right;\">\n",
       "      <th></th>\n",
       "      <th>top4</th>\n",
       "      <th>top5</th>\n",
       "      <th>docid</th>\n",
       "      <th>top1_name</th>\n",
       "      <th>top1_prob</th>\n",
       "      <th>top2_name</th>\n",
       "      <th>top2_prob</th>\n",
       "      <th>top3_name</th>\n",
       "      <th>top3_prob</th>\n",
       "      <th>top4_name</th>\n",
       "      <th>top4_prob</th>\n",
       "      <th>top5_name</th>\n",
       "      <th>top5_prob</th>\n",
       "    </tr>\n",
       "  </thead>\n",
       "  <tbody>\n",
       "    <tr>\n",
       "      <th>0</th>\n",
       "      <td>12</td>\n",
       "      <td>7</td>\n",
       "      <td>202205262392895</td>\n",
       "      <td>便民信息</td>\n",
       "      <td>0.285306</td>\n",
       "      <td>灌水水贴</td>\n",
       "      <td>0.277640</td>\n",
       "      <td>好物推荐、直播预告类</td>\n",
       "      <td>0.260867</td>\n",
       "      <td>提问求答鉴定类</td>\n",
       "      <td>0.260867</td>\n",
       "      <td>跨洋购物</td>\n",
       "      <td>0.260867</td>\n",
       "    </tr>\n",
       "    <tr>\n",
       "      <th>1</th>\n",
       "      <td>7</td>\n",
       "      <td>5</td>\n",
       "      <td>c069cb10d2e60a8e6aee82d5638803f6</td>\n",
       "      <td>假冒仿制商品</td>\n",
       "      <td>0.365233</td>\n",
       "      <td>促销广告、打折信息类</td>\n",
       "      <td>0.338138</td>\n",
       "      <td>股市、债市动态</td>\n",
       "      <td>0.324761</td>\n",
       "      <td>跨洋购物</td>\n",
       "      <td>0.324761</td>\n",
       "      <td>好物推荐、直播预告类</td>\n",
       "      <td>0.324761</td>\n",
       "    </tr>\n",
       "    <tr>\n",
       "      <th>2</th>\n",
       "      <td>13</td>\n",
       "      <td>14</td>\n",
       "      <td>202303206118888</td>\n",
       "      <td>提问求答鉴定类</td>\n",
       "      <td>0.372233</td>\n",
       "      <td>便民信息</td>\n",
       "      <td>0.343823</td>\n",
       "      <td>好物推荐、直播预告类</td>\n",
       "      <td>0.339719</td>\n",
       "      <td>促销广告、打折信息类</td>\n",
       "      <td>0.339719</td>\n",
       "      <td>灌水水贴</td>\n",
       "      <td>0.339719</td>\n",
       "    </tr>\n",
       "    <tr>\n",
       "      <th>3</th>\n",
       "      <td>5</td>\n",
       "      <td>7</td>\n",
       "      <td>20230323A05KI1E</td>\n",
       "      <td>促销广告、打折信息类</td>\n",
       "      <td>0.287441</td>\n",
       "      <td>提问求答鉴定类</td>\n",
       "      <td>0.233171</td>\n",
       "      <td>汽车经销商新闻</td>\n",
       "      <td>0.231642</td>\n",
       "      <td>好物推荐、直播预告类</td>\n",
       "      <td>0.231642</td>\n",
       "      <td>跨洋购物</td>\n",
       "      <td>0.231642</td>\n",
       "    </tr>\n",
       "    <tr>\n",
       "      <th>4</th>\n",
       "      <td>7</td>\n",
       "      <td>0</td>\n",
       "      <td>20230322A01G7Y1</td>\n",
       "      <td>好物推荐、直播预告类</td>\n",
       "      <td>0.366286</td>\n",
       "      <td>假冒仿制商品</td>\n",
       "      <td>0.358491</td>\n",
       "      <td>促销广告、打折信息类</td>\n",
       "      <td>0.335790</td>\n",
       "      <td>跨洋购物</td>\n",
       "      <td>0.335790</td>\n",
       "      <td>股市、债市动态</td>\n",
       "      <td>0.335790</td>\n",
       "    </tr>\n",
       "  </tbody>\n",
       "</table>\n",
       "</div>"
      ],
      "text/plain": [
       "   top4  top5                             docid   top1_name  top1_prob  \\\n",
       "0    12     7                   202205262392895        便民信息   0.285306   \n",
       "1     7     5  c069cb10d2e60a8e6aee82d5638803f6      假冒仿制商品   0.365233   \n",
       "2    13    14                   202303206118888     提问求答鉴定类   0.372233   \n",
       "3     5     7                   20230323A05KI1E  促销广告、打折信息类   0.287441   \n",
       "4     7     0                   20230322A01G7Y1  好物推荐、直播预告类   0.366286   \n",
       "\n",
       "    top2_name  top2_prob   top3_name  top3_prob   top4_name  top4_prob  \\\n",
       "0        灌水水贴   0.277640  好物推荐、直播预告类   0.260867     提问求答鉴定类   0.260867   \n",
       "1  促销广告、打折信息类   0.338138     股市、债市动态   0.324761        跨洋购物   0.324761   \n",
       "2        便民信息   0.343823  好物推荐、直播预告类   0.339719  促销广告、打折信息类   0.339719   \n",
       "3     提问求答鉴定类   0.233171     汽车经销商新闻   0.231642  好物推荐、直播预告类   0.231642   \n",
       "4      假冒仿制商品   0.358491  促销广告、打折信息类   0.335790        跨洋购物   0.335790   \n",
       "\n",
       "    top5_name  top5_prob  \n",
       "0        跨洋购物   0.260867  \n",
       "1  好物推荐、直播预告类   0.324761  \n",
       "2        灌水水贴   0.339719  \n",
       "3        跨洋购物   0.231642  \n",
       "4     股市、债市动态   0.335790  "
      ]
     },
     "execution_count": 46,
     "metadata": {},
     "output_type": "execute_result"
    }
   ],
   "source": [
    "content_and_define_similar.head()"
   ]
  },
  {
   "cell_type": "markdown",
   "id": "7915ca6a-1a62-4162-942e-558262dcb1a4",
   "metadata": {},
   "source": [
    "# 将两路召回结果合并在一起"
   ]
  },
  {
   "cell_type": "code",
   "execution_count": 50,
   "id": "2587166f-84ca-4c8a-b9dd-506da9329536",
   "metadata": {
    "tags": []
   },
   "outputs": [
    {
     "data": {
      "text/html": [
       "<div>\n",
       "<style scoped>\n",
       "    .dataframe tbody tr th:only-of-type {\n",
       "        vertical-align: middle;\n",
       "    }\n",
       "\n",
       "    .dataframe tbody tr th {\n",
       "        vertical-align: top;\n",
       "    }\n",
       "\n",
       "    .dataframe thead th {\n",
       "        text-align: right;\n",
       "    }\n",
       "</style>\n",
       "<table border=\"1\" class=\"dataframe\">\n",
       "  <thead>\n",
       "    <tr style=\"text-align: right;\">\n",
       "      <th></th>\n",
       "      <th>docid</th>\n",
       "      <th>content</th>\n",
       "      <th>label</th>\n",
       "      <th>source</th>\n",
       "      <th>llm_response</th>\n",
       "      <th>top4_x</th>\n",
       "      <th>top5_x</th>\n",
       "      <th>top1_name_x</th>\n",
       "      <th>top1_prob_x</th>\n",
       "      <th>top2_name_x</th>\n",
       "      <th>...</th>\n",
       "      <th>top1_name_y</th>\n",
       "      <th>top1_prob_y</th>\n",
       "      <th>top2_name_y</th>\n",
       "      <th>top2_prob_y</th>\n",
       "      <th>top3_name_y</th>\n",
       "      <th>top3_prob_y</th>\n",
       "      <th>top4_name_y</th>\n",
       "      <th>top4_prob_y</th>\n",
       "      <th>top5_name_y</th>\n",
       "      <th>top5_prob_y</th>\n",
       "    </tr>\n",
       "  </thead>\n",
       "  <tbody>\n",
       "    <tr>\n",
       "      <th>0</th>\n",
       "      <td>202205262392895</td>\n",
       "      <td>​西雅图/加拿大周边游:海岸星光号列车+波特兰+101公路神奇海岸线+神木步道+红木公园+旧...</td>\n",
       "      <td>促销广告、打折信息类</td>\n",
       "      <td>test.json</td>\n",
       "      <td>[-0.008920187130570412, 0.0063757398165762424,...</td>\n",
       "      <td>12.0</td>\n",
       "      <td>7.0</td>\n",
       "      <td>便民信息</td>\n",
       "      <td>0.285306</td>\n",
       "      <td>灌水水贴</td>\n",
       "      <td>...</td>\n",
       "      <td>合租&amp;租房广告&amp;售房广告</td>\n",
       "      <td>0.290578</td>\n",
       "      <td>维修服务或客服热线</td>\n",
       "      <td>0.286016</td>\n",
       "      <td>假冒仿制商品</td>\n",
       "      <td>0.253500</td>\n",
       "      <td>跨洋购物</td>\n",
       "      <td>0.253500</td>\n",
       "      <td>好物推荐、直播预告类</td>\n",
       "      <td>0.253500</td>\n",
       "    </tr>\n",
       "    <tr>\n",
       "      <th>1</th>\n",
       "      <td>c069cb10d2e60a8e6aee82d5638803f6</td>\n",
       "      <td>【平论+赞随机揪免单】卷后42.9【百草味】罐装夏威夷果奶油味500g,坚果旺季来了,开壳不...</td>\n",
       "      <td>促销广告、打折信息类</td>\n",
       "      <td>train.json</td>\n",
       "      <td>[-0.008494753390550613, -0.03978944942355156, ...</td>\n",
       "      <td>7.0</td>\n",
       "      <td>5.0</td>\n",
       "      <td>假冒仿制商品</td>\n",
       "      <td>0.365233</td>\n",
       "      <td>促销广告、打折信息类</td>\n",
       "      <td>...</td>\n",
       "      <td>跨洋购物</td>\n",
       "      <td>0.348942</td>\n",
       "      <td>促销广告、打折信息类</td>\n",
       "      <td>0.313595</td>\n",
       "      <td>灌水水贴</td>\n",
       "      <td>0.310440</td>\n",
       "      <td>假冒仿制商品</td>\n",
       "      <td>0.310440</td>\n",
       "      <td>好物推荐、直播预告类</td>\n",
       "      <td>0.310440</td>\n",
       "    </tr>\n",
       "    <tr>\n",
       "      <th>2</th>\n",
       "      <td>202303206118888</td>\n",
       "      <td>春日见喜，镇江月星\"狂享家\"活动圆满收官！3月19日 镇江月星\"狂享家\"活动 圆满收官! 三...</td>\n",
       "      <td>促销广告、打折信息类</td>\n",
       "      <td>train.json</td>\n",
       "      <td>[0.020520830526947975, 0.028596319258213043, -...</td>\n",
       "      <td>13.0</td>\n",
       "      <td>14.0</td>\n",
       "      <td>提问求答鉴定类</td>\n",
       "      <td>0.372233</td>\n",
       "      <td>便民信息</td>\n",
       "      <td>...</td>\n",
       "      <td>合租&amp;租房广告&amp;售房广告</td>\n",
       "      <td>0.336226</td>\n",
       "      <td>公司公告</td>\n",
       "      <td>0.282415</td>\n",
       "      <td>跨洋购物</td>\n",
       "      <td>0.278873</td>\n",
       "      <td>好物推荐、直播预告类</td>\n",
       "      <td>0.278873</td>\n",
       "      <td>促销广告、打折信息类</td>\n",
       "      <td>0.278873</td>\n",
       "    </tr>\n",
       "    <tr>\n",
       "      <th>3</th>\n",
       "      <td>20230323A05KI1E</td>\n",
       "      <td>摩恩公司2023春季全国招商活动开始了!看看我能把与摩恩一起创造财富机会的送给那位有缘人! ...</td>\n",
       "      <td>促销广告、打折信息类</td>\n",
       "      <td>train.json</td>\n",
       "      <td>[0.005606198217719793, 0.019215792417526245, 0...</td>\n",
       "      <td>5.0</td>\n",
       "      <td>7.0</td>\n",
       "      <td>促销广告、打折信息类</td>\n",
       "      <td>0.287441</td>\n",
       "      <td>提问求答鉴定类</td>\n",
       "      <td>...</td>\n",
       "      <td>公司公告</td>\n",
       "      <td>0.330342</td>\n",
       "      <td>汽车经销商新闻</td>\n",
       "      <td>0.327259</td>\n",
       "      <td>合租&amp;租房广告&amp;售房广告</td>\n",
       "      <td>0.302659</td>\n",
       "      <td>灌水水贴</td>\n",
       "      <td>0.302659</td>\n",
       "      <td>跨洋购物</td>\n",
       "      <td>0.302659</td>\n",
       "    </tr>\n",
       "    <tr>\n",
       "      <th>4</th>\n",
       "      <td>20230322A01G7Y1</td>\n",
       "      <td>露营季将至厂商既喜且忧:爆单抢单持续 价格战苗头已现财联社3月22日讯(记者 陈抗)五一露营...</td>\n",
       "      <td>促销广告、打折信息类</td>\n",
       "      <td>test.json</td>\n",
       "      <td>[0.02227720245718956, 0.010503695346415043, 0....</td>\n",
       "      <td>7.0</td>\n",
       "      <td>0.0</td>\n",
       "      <td>好物推荐、直播预告类</td>\n",
       "      <td>0.366286</td>\n",
       "      <td>假冒仿制商品</td>\n",
       "      <td>...</td>\n",
       "      <td>公司财报</td>\n",
       "      <td>0.345675</td>\n",
       "      <td>跨洋购物</td>\n",
       "      <td>0.331557</td>\n",
       "      <td>促销广告、打折信息类</td>\n",
       "      <td>0.327215</td>\n",
       "      <td>假冒仿制商品</td>\n",
       "      <td>0.327215</td>\n",
       "      <td>汽车经销商新闻</td>\n",
       "      <td>0.327215</td>\n",
       "    </tr>\n",
       "  </tbody>\n",
       "</table>\n",
       "<p>5 rows × 29 columns</p>\n",
       "</div>"
      ],
      "text/plain": [
       "                              docid  \\\n",
       "0                   202205262392895   \n",
       "1  c069cb10d2e60a8e6aee82d5638803f6   \n",
       "2                   202303206118888   \n",
       "3                   20230323A05KI1E   \n",
       "4                   20230322A01G7Y1   \n",
       "\n",
       "                                             content       label      source  \\\n",
       "0  ​西雅图/加拿大周边游:海岸星光号列车+波特兰+101公路神奇海岸线+神木步道+红木公园+旧...  促销广告、打折信息类   test.json   \n",
       "1  【平论+赞随机揪免单】卷后42.9【百草味】罐装夏威夷果奶油味500g,坚果旺季来了,开壳不...  促销广告、打折信息类  train.json   \n",
       "2  春日见喜，镇江月星\"狂享家\"活动圆满收官！3月19日 镇江月星\"狂享家\"活动 圆满收官! 三...  促销广告、打折信息类  train.json   \n",
       "3  摩恩公司2023春季全国招商活动开始了!看看我能把与摩恩一起创造财富机会的送给那位有缘人! ...  促销广告、打折信息类  train.json   \n",
       "4  露营季将至厂商既喜且忧:爆单抢单持续 价格战苗头已现财联社3月22日讯(记者 陈抗)五一露营...  促销广告、打折信息类   test.json   \n",
       "\n",
       "                                        llm_response  top4_x  top5_x  \\\n",
       "0  [-0.008920187130570412, 0.0063757398165762424,...    12.0     7.0   \n",
       "1  [-0.008494753390550613, -0.03978944942355156, ...     7.0     5.0   \n",
       "2  [0.020520830526947975, 0.028596319258213043, -...    13.0    14.0   \n",
       "3  [0.005606198217719793, 0.019215792417526245, 0...     5.0     7.0   \n",
       "4  [0.02227720245718956, 0.010503695346415043, 0....     7.0     0.0   \n",
       "\n",
       "  top1_name_x  top1_prob_x top2_name_x  ...   top1_name_y top1_prob_y  \\\n",
       "0        便民信息     0.285306        灌水水贴  ...  合租&租房广告&售房广告    0.290578   \n",
       "1      假冒仿制商品     0.365233  促销广告、打折信息类  ...          跨洋购物    0.348942   \n",
       "2     提问求答鉴定类     0.372233        便民信息  ...  合租&租房广告&售房广告    0.336226   \n",
       "3  促销广告、打折信息类     0.287441     提问求答鉴定类  ...          公司公告    0.330342   \n",
       "4  好物推荐、直播预告类     0.366286      假冒仿制商品  ...          公司财报    0.345675   \n",
       "\n",
       "   top2_name_y top2_prob_y   top3_name_y top3_prob_y  top4_name_y  \\\n",
       "0    维修服务或客服热线    0.286016        假冒仿制商品    0.253500         跨洋购物   \n",
       "1   促销广告、打折信息类    0.313595          灌水水贴    0.310440       假冒仿制商品   \n",
       "2         公司公告    0.282415          跨洋购物    0.278873   好物推荐、直播预告类   \n",
       "3      汽车经销商新闻    0.327259  合租&租房广告&售房广告    0.302659         灌水水贴   \n",
       "4         跨洋购物    0.331557    促销广告、打折信息类    0.327215       假冒仿制商品   \n",
       "\n",
       "   top4_prob_y  top5_name_y top5_prob_y  \n",
       "0     0.253500   好物推荐、直播预告类    0.253500  \n",
       "1     0.310440   好物推荐、直播预告类    0.310440  \n",
       "2     0.278873   促销广告、打折信息类    0.278873  \n",
       "3     0.302659         跨洋购物    0.302659  \n",
       "4     0.327215      汽车经销商新闻    0.327215  \n",
       "\n",
       "[5 rows x 29 columns]"
      ]
     },
     "execution_count": 50,
     "metadata": {},
     "output_type": "execute_result"
    }
   ],
   "source": [
    "content_and_name_similar['docid'] = content_and_name_similar['docid'].astype(str)\n",
    "content_and_define_similar['docid'] = content_and_define_similar['docid'].astype(str)\n",
    "\n",
    "complete_recall_topic_df = complete_test_df.merge(content_and_define_similar, on='docid', how='left').merge(content_and_name_similar, on='docid', how='left').dropna()\n",
    "complete_recall_topic_df.head()"
   ]
  },
  {
   "cell_type": "markdown",
   "id": "9e1aa98b-cf38-448d-aba1-1178cbc22841",
   "metadata": {},
   "source": [
    "# 获取召回标签的定义，通过召回标签prompt进行选择打标"
   ]
  },
  {
   "cell_type": "markdown",
   "id": "1b6b98c6-ef86-420c-a654-cb58f0b5a1df",
   "metadata": {},
   "source": [
    "## 组合prompt输入参数"
   ]
  },
  {
   "cell_type": "code",
   "execution_count": 53,
   "id": "a15308b1-35a1-435c-945c-1123759692af",
   "metadata": {
    "tags": []
   },
   "outputs": [],
   "source": [
    "complete_recall_topic_df.to_pickle(\"./data/complete_recall_topic_df.pkl\")"
   ]
  },
  {
   "cell_type": "code",
   "execution_count": 56,
   "id": "8a1c91fd-1eda-4e9a-9bd1-fca5bb6cb387",
   "metadata": {
    "tags": []
   },
   "outputs": [],
   "source": [
    "topic_cols = [cols for cols in similar_topic_df.columns if 'top' in cols and \"name\" in cols]\n",
    "origin_cols = ['docid', 'content', 'label', \"source\"]\n",
    "# 将两个top5的召回标签和定义合并在一起\n",
    "def generate_possible_topic_info(row, topic_cols, topic_define_dict):\n",
    "    possible_topic_info = {}\n",
    "    for col in topic_cols:\n",
    "        possible_topic_info[row[col]] = topic_define_dict[row[col]]\n",
    "\n",
    "        # if row[col] == \"股市、债市动态\": \n",
    "        #     possible_topic_info[\"股市、债市动态\"] = topic_define_dict[\"股市债市动态\"]  \n",
    "        # else: \n",
    "        #     possible_topic_info[row[col]] = topic_define_dict[row[col]]\n",
    "    return possible_topic_info"
   ]
  },
  {
   "cell_type": "code",
   "execution_count": 60,
   "id": "e2b89eda-99ed-4e31-96c1-439c8e636ccf",
   "metadata": {
    "tags": []
   },
   "outputs": [],
   "source": [
    "complete_recall_topic_df['possible_topic_info'] = complete_recall_topic_df.apply(generate_possible_topic_info, args=(topic_cols, topic_define_dict, ), axis=1)\n"
   ]
  },
  {
   "cell_type": "code",
   "execution_count": 61,
   "id": "61fbd17a-02c3-4356-a09e-a5ae78402f1a",
   "metadata": {
    "tags": []
   },
   "outputs": [
    {
     "data": {
      "text/html": [
       "<div>\n",
       "<style scoped>\n",
       "    .dataframe tbody tr th:only-of-type {\n",
       "        vertical-align: middle;\n",
       "    }\n",
       "\n",
       "    .dataframe tbody tr th {\n",
       "        vertical-align: top;\n",
       "    }\n",
       "\n",
       "    .dataframe thead th {\n",
       "        text-align: right;\n",
       "    }\n",
       "</style>\n",
       "<table border=\"1\" class=\"dataframe\">\n",
       "  <thead>\n",
       "    <tr style=\"text-align: right;\">\n",
       "      <th></th>\n",
       "      <th>docid</th>\n",
       "      <th>content</th>\n",
       "      <th>label</th>\n",
       "      <th>source</th>\n",
       "      <th>top1_name_x</th>\n",
       "      <th>top2_name_x</th>\n",
       "      <th>top3_name_x</th>\n",
       "      <th>top4_name_x</th>\n",
       "      <th>top5_name_x</th>\n",
       "      <th>top1_name_y</th>\n",
       "      <th>top2_name_y</th>\n",
       "      <th>top3_name_y</th>\n",
       "      <th>top4_name_y</th>\n",
       "      <th>top5_name_y</th>\n",
       "      <th>possible_topic_info</th>\n",
       "    </tr>\n",
       "  </thead>\n",
       "  <tbody>\n",
       "    <tr>\n",
       "      <th>0</th>\n",
       "      <td>202205262392895</td>\n",
       "      <td>​西雅图/加拿大周边游:海岸星光号列车+波特兰+101公路神奇海岸线+神木步道+红木公园+旧...</td>\n",
       "      <td>促销广告、打折信息类</td>\n",
       "      <td>test.json</td>\n",
       "      <td>便民信息</td>\n",
       "      <td>灌水水贴</td>\n",
       "      <td>好物推荐、直播预告类</td>\n",
       "      <td>提问求答鉴定类</td>\n",
       "      <td>跨洋购物</td>\n",
       "      <td>合租&amp;租房广告&amp;售房广告</td>\n",
       "      <td>维修服务或客服热线</td>\n",
       "      <td>假冒仿制商品</td>\n",
       "      <td>跨洋购物</td>\n",
       "      <td>好物推荐、直播预告类</td>\n",
       "      <td>{'便民信息': '提供生活服务、交通、天气等实用资讯，方便日常生活。', '灌水水贴': ...</td>\n",
       "    </tr>\n",
       "    <tr>\n",
       "      <th>1</th>\n",
       "      <td>c069cb10d2e60a8e6aee82d5638803f6</td>\n",
       "      <td>【平论+赞随机揪免单】卷后42.9【百草味】罐装夏威夷果奶油味500g,坚果旺季来了,开壳不...</td>\n",
       "      <td>促销广告、打折信息类</td>\n",
       "      <td>train.json</td>\n",
       "      <td>假冒仿制商品</td>\n",
       "      <td>促销广告、打折信息类</td>\n",
       "      <td>股市、债市动态</td>\n",
       "      <td>跨洋购物</td>\n",
       "      <td>好物推荐、直播预告类</td>\n",
       "      <td>跨洋购物</td>\n",
       "      <td>促销广告、打折信息类</td>\n",
       "      <td>灌水水贴</td>\n",
       "      <td>假冒仿制商品</td>\n",
       "      <td>好物推荐、直播预告类</td>\n",
       "      <td>{'假冒仿制商品': '在设计、外观或功能上模仿或参照知名品牌、高端产品，但在品牌标识、材料...</td>\n",
       "    </tr>\n",
       "    <tr>\n",
       "      <th>2</th>\n",
       "      <td>202303206118888</td>\n",
       "      <td>春日见喜，镇江月星\"狂享家\"活动圆满收官！3月19日 镇江月星\"狂享家\"活动 圆满收官! 三...</td>\n",
       "      <td>促销广告、打折信息类</td>\n",
       "      <td>train.json</td>\n",
       "      <td>提问求答鉴定类</td>\n",
       "      <td>便民信息</td>\n",
       "      <td>好物推荐、直播预告类</td>\n",
       "      <td>促销广告、打折信息类</td>\n",
       "      <td>灌水水贴</td>\n",
       "      <td>合租&amp;租房广告&amp;售房广告</td>\n",
       "      <td>公司公告</td>\n",
       "      <td>跨洋购物</td>\n",
       "      <td>好物推荐、直播预告类</td>\n",
       "      <td>促销广告、打折信息类</td>\n",
       "      <td>{'提问求答鉴定类': '发表提问，求专业知识解答与物品真伪鉴定，互动交流解疑惑', '便民...</td>\n",
       "    </tr>\n",
       "    <tr>\n",
       "      <th>3</th>\n",
       "      <td>20230323A05KI1E</td>\n",
       "      <td>摩恩公司2023春季全国招商活动开始了!看看我能把与摩恩一起创造财富机会的送给那位有缘人! ...</td>\n",
       "      <td>促销广告、打折信息类</td>\n",
       "      <td>train.json</td>\n",
       "      <td>促销广告、打折信息类</td>\n",
       "      <td>提问求答鉴定类</td>\n",
       "      <td>汽车经销商新闻</td>\n",
       "      <td>好物推荐、直播预告类</td>\n",
       "      <td>跨洋购物</td>\n",
       "      <td>公司公告</td>\n",
       "      <td>汽车经销商新闻</td>\n",
       "      <td>合租&amp;租房广告&amp;售房广告</td>\n",
       "      <td>灌水水贴</td>\n",
       "      <td>跨洋购物</td>\n",
       "      <td>{'促销广告、打折信息类': '促销广告是指为了促进销售而发布的广告，通常包括打折、赠品、抽...</td>\n",
       "    </tr>\n",
       "    <tr>\n",
       "      <th>4</th>\n",
       "      <td>20230322A01G7Y1</td>\n",
       "      <td>露营季将至厂商既喜且忧:爆单抢单持续 价格战苗头已现财联社3月22日讯(记者 陈抗)五一露营...</td>\n",
       "      <td>促销广告、打折信息类</td>\n",
       "      <td>test.json</td>\n",
       "      <td>好物推荐、直播预告类</td>\n",
       "      <td>假冒仿制商品</td>\n",
       "      <td>促销广告、打折信息类</td>\n",
       "      <td>跨洋购物</td>\n",
       "      <td>股市、债市动态</td>\n",
       "      <td>公司财报</td>\n",
       "      <td>跨洋购物</td>\n",
       "      <td>促销广告、打折信息类</td>\n",
       "      <td>假冒仿制商品</td>\n",
       "      <td>汽车经销商新闻</td>\n",
       "      <td>{'好物推荐、直播预告类': '好物推荐是实质用户根据根据使用心得推荐一些优质的产品或服务，...</td>\n",
       "    </tr>\n",
       "  </tbody>\n",
       "</table>\n",
       "</div>"
      ],
      "text/plain": [
       "                              docid  \\\n",
       "0                   202205262392895   \n",
       "1  c069cb10d2e60a8e6aee82d5638803f6   \n",
       "2                   202303206118888   \n",
       "3                   20230323A05KI1E   \n",
       "4                   20230322A01G7Y1   \n",
       "\n",
       "                                             content       label      source  \\\n",
       "0  ​西雅图/加拿大周边游:海岸星光号列车+波特兰+101公路神奇海岸线+神木步道+红木公园+旧...  促销广告、打折信息类   test.json   \n",
       "1  【平论+赞随机揪免单】卷后42.9【百草味】罐装夏威夷果奶油味500g,坚果旺季来了,开壳不...  促销广告、打折信息类  train.json   \n",
       "2  春日见喜，镇江月星\"狂享家\"活动圆满收官！3月19日 镇江月星\"狂享家\"活动 圆满收官! 三...  促销广告、打折信息类  train.json   \n",
       "3  摩恩公司2023春季全国招商活动开始了!看看我能把与摩恩一起创造财富机会的送给那位有缘人! ...  促销广告、打折信息类  train.json   \n",
       "4  露营季将至厂商既喜且忧:爆单抢单持续 价格战苗头已现财联社3月22日讯(记者 陈抗)五一露营...  促销广告、打折信息类   test.json   \n",
       "\n",
       "  top1_name_x top2_name_x top3_name_x top4_name_x top5_name_x   top1_name_y  \\\n",
       "0        便民信息        灌水水贴  好物推荐、直播预告类     提问求答鉴定类        跨洋购物  合租&租房广告&售房广告   \n",
       "1      假冒仿制商品  促销广告、打折信息类     股市、债市动态        跨洋购物  好物推荐、直播预告类          跨洋购物   \n",
       "2     提问求答鉴定类        便民信息  好物推荐、直播预告类  促销广告、打折信息类        灌水水贴  合租&租房广告&售房广告   \n",
       "3  促销广告、打折信息类     提问求答鉴定类     汽车经销商新闻  好物推荐、直播预告类        跨洋购物          公司公告   \n",
       "4  好物推荐、直播预告类      假冒仿制商品  促销广告、打折信息类        跨洋购物     股市、债市动态          公司财报   \n",
       "\n",
       "  top2_name_y   top3_name_y top4_name_y top5_name_y  \\\n",
       "0   维修服务或客服热线        假冒仿制商品        跨洋购物  好物推荐、直播预告类   \n",
       "1  促销广告、打折信息类          灌水水贴      假冒仿制商品  好物推荐、直播预告类   \n",
       "2        公司公告          跨洋购物  好物推荐、直播预告类  促销广告、打折信息类   \n",
       "3     汽车经销商新闻  合租&租房广告&售房广告        灌水水贴        跨洋购物   \n",
       "4        跨洋购物    促销广告、打折信息类      假冒仿制商品     汽车经销商新闻   \n",
       "\n",
       "                                 possible_topic_info  \n",
       "0  {'便民信息': '提供生活服务、交通、天气等实用资讯，方便日常生活。', '灌水水贴': ...  \n",
       "1  {'假冒仿制商品': '在设计、外观或功能上模仿或参照知名品牌、高端产品，但在品牌标识、材料...  \n",
       "2  {'提问求答鉴定类': '发表提问，求专业知识解答与物品真伪鉴定，互动交流解疑惑', '便民...  \n",
       "3  {'促销广告、打折信息类': '促销广告是指为了促进销售而发布的广告，通常包括打折、赠品、抽...  \n",
       "4  {'好物推荐、直播预告类': '好物推荐是实质用户根据根据使用心得推荐一些优质的产品或服务，...  "
      ]
     },
     "execution_count": 61,
     "metadata": {},
     "output_type": "execute_result"
    }
   ],
   "source": [
    "complete_recall_topic_df[origin_cols+topic_cols+['possible_topic_info']].head()"
   ]
  },
  {
   "cell_type": "markdown",
   "id": "e4f04f9e-06b1-4841-ac23-2cb982412eec",
   "metadata": {
    "tags": []
   },
   "source": [
    "## 第一步prompt从召回的多标签中选择最合理的标签"
   ]
  },
  {
   "cell_type": "code",
   "execution_count": 115,
   "id": "84511203-602d-4bd4-8baf-91d8a0d25d6e",
   "metadata": {
    "tags": []
   },
   "outputs": [],
   "source": [
    "template_code = 966\n",
    "api_url = 'http://aiapi.wisers.com/openai-result-service-api/common/invoke'\n",
    "semaphore_num = 100\n",
    "tags = 'spam_optimization'\n",
    "multi_label_tools = AsyncioRequestGPT(TEMPLATE_ID=template_code, tags=tags, API_URL=api_url, semaphore_number=semaphore_num)\n"
   ]
  },
  {
   "cell_type": "code",
   "execution_count": 116,
   "id": "9297cddb-fd9f-43a5-84a7-15b1af995901",
   "metadata": {
    "tags": []
   },
   "outputs": [],
   "source": [
    "async def multi_label_select(tools: AsyncioRequestGPT, data: dict, batch_number: int = 300):\n",
    "    semaphore = asyncio.Semaphore(batch_number)\n",
    "    tasks = [\n",
    "        asyncio.create_task(tools.request_post(\n",
    "            index=row['docid'],\n",
    "            data={\n",
    "                \"possible_topic_info\": row[\"possible_topic_info\"],\n",
    "                \"content\": row['content'],\n",
    "            }, semaphore=semaphore\n",
    "        )) for index, row in data.iterrows()\n",
    "    ]\n",
    "    responses = [await f for f in tqdm(asyncio.as_completed(tasks), total=len(tasks))]"
   ]
  },
  {
   "cell_type": "code",
   "execution_count": 119,
   "id": "6654a289-cb57-4255-8493-eb3e23a31e15",
   "metadata": {
    "tags": []
   },
   "outputs": [
    {
     "name": "stderr",
     "output_type": "stream",
     "text": [
      "  0%|          | 0/965 [00:00<?, ?it/s]/opt/conda/lib/python3.8/asyncio/tasks.py:907: RuntimeWarning: coroutine 'multi_label_evaluation' was never awaited\n",
      "  outer.add_done_callback(_outer_done_callback)\n",
      "RuntimeWarning: Enable tracemalloc to get the object allocation traceback\n",
      " 38%|███▊      | 367/965 [00:33<00:48, 12.29it/s]2024-06-21 11:39:48.183 | ERROR    | asyncio_gpt:request_post:41 - response result is except， <ClientResponse(http://aiapi.wisers.com/openai-result-service-api/common/invoke) [200 OK]>\n",
      "<CIMultiDictProxy('date': 'Fri, 21 Jun 2024 03:39:45 GMT', 'server': 'envoy', 'content-length': '212', 'content-type': 'application/json', 'x-envoy-upstream-service-time': '2408')>\n",
      "\n",
      " 69%|██████▉   | 666/965 [01:14<00:22, 13.31it/s]2024-06-21 11:40:29.547 | ERROR    | asyncio_gpt:request_post:41 - response result is except， <ClientResponse(http://aiapi.wisers.com/openai-result-service-api/common/invoke) [200 OK]>\n",
      "<CIMultiDictProxy('date': 'Fri, 21 Jun 2024 03:40:11 GMT', 'server': 'envoy', 'content-length': '2623', 'content-type': 'application/json', 'x-envoy-upstream-service-time': '68281')>\n",
      "\n",
      " 98%|█████████▊| 941/965 [01:40<00:03,  6.18it/s]2024-06-21 11:40:55.393 | ERROR    | asyncio_gpt:request_post:41 - response result is except， <ClientResponse(http://aiapi.wisers.com/openai-result-service-api/common/invoke) [200 OK]>\n",
      "<CIMultiDictProxy('date': 'Fri, 21 Jun 2024 03:40:36 GMT', 'server': 'envoy', 'content-length': '2624', 'content-type': 'application/json', 'x-envoy-upstream-service-time': '68889')>\n",
      "\n",
      "100%|██████████| 965/965 [02:05<00:00,  7.68it/s]\n"
     ]
    }
   ],
   "source": [
    "multi_label_tools.complete_result = []\n",
    "multi_label_select_done = await multi_label_select(multi_label_tools, complete_recall_topic_df, semaphore_num)"
   ]
  },
  {
   "cell_type": "code",
   "execution_count": 127,
   "id": "37310555-a643-4cf3-8281-4b6fd6428bff",
   "metadata": {
    "tags": []
   },
   "outputs": [
    {
     "data": {
      "text/plain": [
       "{'doc_id': '202303206118888',\n",
       " 'llm_response': {'result': [{'reasonable_topic': '促销广告、打折信息类',\n",
       "    'topic_relate_original': \"春日见喜，镇江月星'狂享家'活动圆满收官！3月19日 镇江月星'狂享家'活动 圆满收官! 三月,春日的气息越来越浓 家装的热情也不断高涨起来 下面带大家感受一下 月星'狂享家'的现场盛况~ 无需购物抽大奖、居家壕礼满额赠 家装大课堂等精彩活动环节 吸引了众多顾客前来参与 活动现场热闹非凡! 无论是活动区还是收银台处 都排起了长队,顾客络绎不绝 各楼层展位也强势出击 巨惠不停、签单不断! 01 无需购物抽奖 抽雅迪电动车 无需购物即可抽奖 百分百中奖,百分百惊喜 更有运气爆棚的顾客 一抽就是电动车,手气炸裂! 02 居家壕礼满额赠 60台洗地机全城乐享 洗地机、咖啡机 电动牙刷、煤油造型台灯 超值居家壕礼拿到手软 引发一波又一波的开单热潮! 03 0511家装大课堂 轻松扮靓理想家 干货满满的家装课堂 受到了现场顾客的一致好评! 而互动秒杀环节 更将现场气氛推向了高潮 顾客积极参与互动 空气炸锅、电炒蒸煮一体锅 喜临门枕头等丰厚的奖品 让每位顾客都满载而\",\n",
       "    'confidence': '高'}]}}"
      ]
     },
     "execution_count": 127,
     "metadata": {},
     "output_type": "execute_result"
    }
   ],
   "source": [
    "multi_label_tools.complete_result[0]"
   ]
  },
  {
   "cell_type": "code",
   "execution_count": 131,
   "id": "948e8b59-6d86-401f-8815-ed81f37e1c9d",
   "metadata": {
    "tags": []
   },
   "outputs": [
    {
     "data": {
      "text/plain": [
       "964"
      ]
     },
     "execution_count": 131,
     "metadata": {},
     "output_type": "execute_result"
    }
   ],
   "source": [
    "content_multi_label_res = [(\n",
    "        multi_label_result['doc_id'], \n",
    "        dic['reasonable_topic'] if \"reasonable_topic\" in dic else None, \n",
    "        dic['topic_relate_original'] if \"topic_relate_original\" in dic else None, \n",
    "        dic['confidence'] if \"confidence\" in dic else None\n",
    "    )\n",
    "    for multi_label_result in multi_label_tools.complete_result  for dic in multi_label_result['llm_response']['result'] if 'doc_id' in multi_label_result and \"llm_response\" in multi_label_result and \"result\" in multi_label_result['llm_response']]\n",
    "\n",
    "content_multi_label_res.__len__()\n"
   ]
  },
  {
   "cell_type": "code",
   "execution_count": 133,
   "id": "6d3c1ad5-cb4f-4eec-b26f-94278f5b40df",
   "metadata": {
    "tags": []
   },
   "outputs": [
    {
     "data": {
      "text/html": [
       "<div>\n",
       "<style scoped>\n",
       "    .dataframe tbody tr th:only-of-type {\n",
       "        vertical-align: middle;\n",
       "    }\n",
       "\n",
       "    .dataframe tbody tr th {\n",
       "        vertical-align: top;\n",
       "    }\n",
       "\n",
       "    .dataframe thead th {\n",
       "        text-align: right;\n",
       "    }\n",
       "</style>\n",
       "<table border=\"1\" class=\"dataframe\">\n",
       "  <thead>\n",
       "    <tr style=\"text-align: right;\">\n",
       "      <th></th>\n",
       "      <th>docid</th>\n",
       "      <th>reasonable_topic</th>\n",
       "      <th>topic_relate_original</th>\n",
       "      <th>confidence</th>\n",
       "    </tr>\n",
       "  </thead>\n",
       "  <tbody>\n",
       "    <tr>\n",
       "      <th>0</th>\n",
       "      <td>202303206118888</td>\n",
       "      <td>促销广告、打折信息类</td>\n",
       "      <td>春日见喜，镇江月星'狂享家'活动圆满收官！3月19日 镇江月星'狂享家'活动 圆满收官! 三...</td>\n",
       "      <td>高</td>\n",
       "    </tr>\n",
       "    <tr>\n",
       "      <th>1</th>\n",
       "      <td>20230323A05KI1E</td>\n",
       "      <td>促销广告、打折信息类</td>\n",
       "      <td>摩恩公司2023春季全国招商活动开始了!看看我能把与摩恩一起创造财富机会的送给那位有缘人! ...</td>\n",
       "      <td>高</td>\n",
       "    </tr>\n",
       "    <tr>\n",
       "      <th>2</th>\n",
       "      <td>202205262392895</td>\n",
       "      <td>跨洋购物</td>\n",
       "      <td>美国包邮:北美热销厨具!中国包邮:时装鞋帽装饰品、美容美发品、健康养生品!</td>\n",
       "      <td>中</td>\n",
       "    </tr>\n",
       "    <tr>\n",
       "      <th>3</th>\n",
       "      <td>20230322A01G7Y1</td>\n",
       "      <td>其他</td>\n",
       "      <td>露营季将至厂商既喜且忧:爆单抢单持续 价格战苗头已现财联社3月22日讯(记者 陈抗)五一露营...</td>\n",
       "      <td>中</td>\n",
       "    </tr>\n",
       "    <tr>\n",
       "      <th>4</th>\n",
       "      <td>c069cb10d2e60a8e6aee82d5638803f6</td>\n",
       "      <td>促销广告、打折信息类</td>\n",
       "      <td>【平论+赞随机揪免单】卷后42.9【百草味】罐装夏威夷果奶油味500g,坚果旺季来了,开壳不...</td>\n",
       "      <td>高</td>\n",
       "    </tr>\n",
       "  </tbody>\n",
       "</table>\n",
       "</div>"
      ],
      "text/plain": [
       "                              docid reasonable_topic  \\\n",
       "0                   202303206118888       促销广告、打折信息类   \n",
       "1                   20230323A05KI1E       促销广告、打折信息类   \n",
       "2                   202205262392895             跨洋购物   \n",
       "3                   20230322A01G7Y1               其他   \n",
       "4  c069cb10d2e60a8e6aee82d5638803f6       促销广告、打折信息类   \n",
       "\n",
       "                               topic_relate_original confidence  \n",
       "0  春日见喜，镇江月星'狂享家'活动圆满收官！3月19日 镇江月星'狂享家'活动 圆满收官! 三...          高  \n",
       "1  摩恩公司2023春季全国招商活动开始了!看看我能把与摩恩一起创造财富机会的送给那位有缘人! ...          高  \n",
       "2              美国包邮:北美热销厨具!中国包邮:时装鞋帽装饰品、美容美发品、健康养生品!          中  \n",
       "3  露营季将至厂商既喜且忧:爆单抢单持续 价格战苗头已现财联社3月22日讯(记者 陈抗)五一露营...          中  \n",
       "4  【平论+赞随机揪免单】卷后42.9【百草味】罐装夏威夷果奶油味500g,坚果旺季来了,开壳不...          高  "
      ]
     },
     "execution_count": 133,
     "metadata": {},
     "output_type": "execute_result"
    }
   ],
   "source": [
    "content_multi_label_res_df = pd.DataFrame(content_multi_label_res, columns=['docid', 'reasonable_topic', 'topic_relate_original', 'confidence'])\n",
    "content_multi_label_res_df.head()"
   ]
  },
  {
   "cell_type": "code",
   "execution_count": 136,
   "id": "6866354b-8deb-4c70-bfa5-d8bd83de1f0a",
   "metadata": {
    "tags": []
   },
   "outputs": [
    {
     "data": {
      "text/html": [
       "<div>\n",
       "<style scoped>\n",
       "    .dataframe tbody tr th:only-of-type {\n",
       "        vertical-align: middle;\n",
       "    }\n",
       "\n",
       "    .dataframe tbody tr th {\n",
       "        vertical-align: top;\n",
       "    }\n",
       "\n",
       "    .dataframe thead th {\n",
       "        text-align: right;\n",
       "    }\n",
       "</style>\n",
       "<table border=\"1\" class=\"dataframe\">\n",
       "  <thead>\n",
       "    <tr style=\"text-align: right;\">\n",
       "      <th></th>\n",
       "      <th>docid</th>\n",
       "      <th>content</th>\n",
       "      <th>label</th>\n",
       "      <th>source</th>\n",
       "      <th>embedding_recall_topics</th>\n",
       "      <th>reasonable_topic</th>\n",
       "      <th>topic_relate_original</th>\n",
       "      <th>confidence</th>\n",
       "    </tr>\n",
       "  </thead>\n",
       "  <tbody>\n",
       "    <tr>\n",
       "      <th>0</th>\n",
       "      <td>202205262392895</td>\n",
       "      <td>​西雅图/加拿大周边游:海岸星光号列车+波特兰+101公路神奇海岸线+神木步道+红木公园+旧...</td>\n",
       "      <td>促销广告、打折信息类</td>\n",
       "      <td>test.json</td>\n",
       "      <td>[便民信息, 灌水水贴, 好物推荐、直播预告类, 提问求答鉴定类, 跨洋购物, 合租&amp;租房广...</td>\n",
       "      <td>跨洋购物</td>\n",
       "      <td>美国包邮:北美热销厨具!中国包邮:时装鞋帽装饰品、美容美发品、健康养生品!</td>\n",
       "      <td>中</td>\n",
       "    </tr>\n",
       "    <tr>\n",
       "      <th>1</th>\n",
       "      <td>c069cb10d2e60a8e6aee82d5638803f6</td>\n",
       "      <td>【平论+赞随机揪免单】卷后42.9【百草味】罐装夏威夷果奶油味500g,坚果旺季来了,开壳不...</td>\n",
       "      <td>促销广告、打折信息类</td>\n",
       "      <td>train.json</td>\n",
       "      <td>[假冒仿制商品, 促销广告、打折信息类, 股市、债市动态, 跨洋购物, 好物推荐、直播预告类...</td>\n",
       "      <td>促销广告、打折信息类</td>\n",
       "      <td>【平论+赞随机揪免单】卷后42.9【百草味】罐装夏威夷果奶油味500g,坚果旺季来了,开壳不...</td>\n",
       "      <td>高</td>\n",
       "    </tr>\n",
       "    <tr>\n",
       "      <th>2</th>\n",
       "      <td>202303206118888</td>\n",
       "      <td>春日见喜，镇江月星\"狂享家\"活动圆满收官！3月19日 镇江月星\"狂享家\"活动 圆满收官! 三...</td>\n",
       "      <td>促销广告、打折信息类</td>\n",
       "      <td>train.json</td>\n",
       "      <td>[提问求答鉴定类, 便民信息, 好物推荐、直播预告类, 促销广告、打折信息类, 灌水水贴, ...</td>\n",
       "      <td>促销广告、打折信息类</td>\n",
       "      <td>春日见喜，镇江月星'狂享家'活动圆满收官！3月19日 镇江月星'狂享家'活动 圆满收官! 三...</td>\n",
       "      <td>高</td>\n",
       "    </tr>\n",
       "    <tr>\n",
       "      <th>3</th>\n",
       "      <td>20230323A05KI1E</td>\n",
       "      <td>摩恩公司2023春季全国招商活动开始了!看看我能把与摩恩一起创造财富机会的送给那位有缘人! ...</td>\n",
       "      <td>促销广告、打折信息类</td>\n",
       "      <td>train.json</td>\n",
       "      <td>[促销广告、打折信息类, 提问求答鉴定类, 汽车经销商新闻, 好物推荐、直播预告类, 跨洋购...</td>\n",
       "      <td>促销广告、打折信息类</td>\n",
       "      <td>摩恩公司2023春季全国招商活动开始了!看看我能把与摩恩一起创造财富机会的送给那位有缘人! ...</td>\n",
       "      <td>高</td>\n",
       "    </tr>\n",
       "    <tr>\n",
       "      <th>4</th>\n",
       "      <td>20230322A01G7Y1</td>\n",
       "      <td>露营季将至厂商既喜且忧:爆单抢单持续 价格战苗头已现财联社3月22日讯(记者 陈抗)五一露营...</td>\n",
       "      <td>促销广告、打折信息类</td>\n",
       "      <td>test.json</td>\n",
       "      <td>[好物推荐、直播预告类, 假冒仿制商品, 促销广告、打折信息类, 跨洋购物, 股市、债市动态...</td>\n",
       "      <td>其他</td>\n",
       "      <td>露营季将至厂商既喜且忧:爆单抢单持续 价格战苗头已现财联社3月22日讯(记者 陈抗)五一露营...</td>\n",
       "      <td>中</td>\n",
       "    </tr>\n",
       "  </tbody>\n",
       "</table>\n",
       "</div>"
      ],
      "text/plain": [
       "                              docid  \\\n",
       "0                   202205262392895   \n",
       "1  c069cb10d2e60a8e6aee82d5638803f6   \n",
       "2                   202303206118888   \n",
       "3                   20230323A05KI1E   \n",
       "4                   20230322A01G7Y1   \n",
       "\n",
       "                                             content       label      source  \\\n",
       "0  ​西雅图/加拿大周边游:海岸星光号列车+波特兰+101公路神奇海岸线+神木步道+红木公园+旧...  促销广告、打折信息类   test.json   \n",
       "1  【平论+赞随机揪免单】卷后42.9【百草味】罐装夏威夷果奶油味500g,坚果旺季来了,开壳不...  促销广告、打折信息类  train.json   \n",
       "2  春日见喜，镇江月星\"狂享家\"活动圆满收官！3月19日 镇江月星\"狂享家\"活动 圆满收官! 三...  促销广告、打折信息类  train.json   \n",
       "3  摩恩公司2023春季全国招商活动开始了!看看我能把与摩恩一起创造财富机会的送给那位有缘人! ...  促销广告、打折信息类  train.json   \n",
       "4  露营季将至厂商既喜且忧:爆单抢单持续 价格战苗头已现财联社3月22日讯(记者 陈抗)五一露营...  促销广告、打折信息类   test.json   \n",
       "\n",
       "                             embedding_recall_topics reasonable_topic  \\\n",
       "0  [便民信息, 灌水水贴, 好物推荐、直播预告类, 提问求答鉴定类, 跨洋购物, 合租&租房广...             跨洋购物   \n",
       "1  [假冒仿制商品, 促销广告、打折信息类, 股市、债市动态, 跨洋购物, 好物推荐、直播预告类...       促销广告、打折信息类   \n",
       "2  [提问求答鉴定类, 便民信息, 好物推荐、直播预告类, 促销广告、打折信息类, 灌水水贴, ...       促销广告、打折信息类   \n",
       "3  [促销广告、打折信息类, 提问求答鉴定类, 汽车经销商新闻, 好物推荐、直播预告类, 跨洋购...       促销广告、打折信息类   \n",
       "4  [好物推荐、直播预告类, 假冒仿制商品, 促销广告、打折信息类, 跨洋购物, 股市、债市动态...               其他   \n",
       "\n",
       "                               topic_relate_original confidence  \n",
       "0              美国包邮:北美热销厨具!中国包邮:时装鞋帽装饰品、美容美发品、健康养生品!          中  \n",
       "1  【平论+赞随机揪免单】卷后42.9【百草味】罐装夏威夷果奶油味500g,坚果旺季来了,开壳不...          高  \n",
       "2  春日见喜，镇江月星'狂享家'活动圆满收官！3月19日 镇江月星'狂享家'活动 圆满收官! 三...          高  \n",
       "3  摩恩公司2023春季全国招商活动开始了!看看我能把与摩恩一起创造财富机会的送给那位有缘人! ...          高  \n",
       "4  露营季将至厂商既喜且忧:爆单抢单持续 价格战苗头已现财联社3月22日讯(记者 陈抗)五一露营...          中  "
      ]
     },
     "execution_count": 136,
     "metadata": {},
     "output_type": "execute_result"
    }
   ],
   "source": [
    "complete_recall_topic_df['embedding_recall_topics'] = complete_recall_topic_df['possible_topic_info'].map(lambda row: list(row.keys()) if isinstance(row, dict) else None)\n",
    "need_save_cols = ['docid', 'content', 'label', 'source', 'embedding_recall_topics']\n",
    "complete_recall_topic_add_gpt_topic_df = complete_recall_topic_df[need_save_cols].merge(content_multi_label_res_df, on='docid', how='left')\n",
    "complete_recall_topic_add_gpt_topic_df.head()"
   ]
  },
  {
   "cell_type": "code",
   "execution_count": 141,
   "id": "b498f869-e7d3-4f02-96db-50060afa2df0",
   "metadata": {
    "tags": []
   },
   "outputs": [],
   "source": [
    "complete_recall_topic_add_gpt_topic_df['second_confirmation_topic'] = complete_recall_topic_add_gpt_topic_df['reasonable_topic'].map(lambda label: {\n",
    "        \"topic_name\": label,\n",
    "        \"topic_define\": topic_define_dict[label]\n",
    "    } if label in topic_define_dict else None)"
   ]
  },
  {
   "cell_type": "code",
   "execution_count": 142,
   "id": "aeaf9e3a-cfcc-48b7-9e30-4c0335cd0a01",
   "metadata": {
    "tags": []
   },
   "outputs": [
    {
     "data": {
      "text/html": [
       "<div>\n",
       "<style scoped>\n",
       "    .dataframe tbody tr th:only-of-type {\n",
       "        vertical-align: middle;\n",
       "    }\n",
       "\n",
       "    .dataframe tbody tr th {\n",
       "        vertical-align: top;\n",
       "    }\n",
       "\n",
       "    .dataframe thead th {\n",
       "        text-align: right;\n",
       "    }\n",
       "</style>\n",
       "<table border=\"1\" class=\"dataframe\">\n",
       "  <thead>\n",
       "    <tr style=\"text-align: right;\">\n",
       "      <th></th>\n",
       "      <th>docid</th>\n",
       "      <th>content</th>\n",
       "      <th>label</th>\n",
       "      <th>source</th>\n",
       "      <th>embedding_recall_topics</th>\n",
       "      <th>reasonable_topic</th>\n",
       "      <th>topic_relate_original</th>\n",
       "      <th>confidence</th>\n",
       "      <th>second_confirmation_topic</th>\n",
       "    </tr>\n",
       "  </thead>\n",
       "  <tbody>\n",
       "    <tr>\n",
       "      <th>0</th>\n",
       "      <td>202205262392895</td>\n",
       "      <td>​西雅图/加拿大周边游:海岸星光号列车+波特兰+101公路神奇海岸线+神木步道+红木公园+旧...</td>\n",
       "      <td>促销广告、打折信息类</td>\n",
       "      <td>test.json</td>\n",
       "      <td>[便民信息, 灌水水贴, 好物推荐、直播预告类, 提问求答鉴定类, 跨洋购物, 合租&amp;租房广...</td>\n",
       "      <td>跨洋购物</td>\n",
       "      <td>美国包邮:北美热销厨具!中国包邮:时装鞋帽装饰品、美容美发品、健康养生品!</td>\n",
       "      <td>中</td>\n",
       "      <td>{'topic_name': '跨洋购物', 'topic_define': '通过不同渠道...</td>\n",
       "    </tr>\n",
       "    <tr>\n",
       "      <th>1</th>\n",
       "      <td>c069cb10d2e60a8e6aee82d5638803f6</td>\n",
       "      <td>【平论+赞随机揪免单】卷后42.9【百草味】罐装夏威夷果奶油味500g,坚果旺季来了,开壳不...</td>\n",
       "      <td>促销广告、打折信息类</td>\n",
       "      <td>train.json</td>\n",
       "      <td>[假冒仿制商品, 促销广告、打折信息类, 股市、债市动态, 跨洋购物, 好物推荐、直播预告类...</td>\n",
       "      <td>促销广告、打折信息类</td>\n",
       "      <td>【平论+赞随机揪免单】卷后42.9【百草味】罐装夏威夷果奶油味500g,坚果旺季来了,开壳不...</td>\n",
       "      <td>高</td>\n",
       "      <td>{'topic_name': '促销广告、打折信息类', 'topic_define': '...</td>\n",
       "    </tr>\n",
       "    <tr>\n",
       "      <th>2</th>\n",
       "      <td>202303206118888</td>\n",
       "      <td>春日见喜，镇江月星\"狂享家\"活动圆满收官！3月19日 镇江月星\"狂享家\"活动 圆满收官! 三...</td>\n",
       "      <td>促销广告、打折信息类</td>\n",
       "      <td>train.json</td>\n",
       "      <td>[提问求答鉴定类, 便民信息, 好物推荐、直播预告类, 促销广告、打折信息类, 灌水水贴, ...</td>\n",
       "      <td>促销广告、打折信息类</td>\n",
       "      <td>春日见喜，镇江月星'狂享家'活动圆满收官！3月19日 镇江月星'狂享家'活动 圆满收官! 三...</td>\n",
       "      <td>高</td>\n",
       "      <td>{'topic_name': '促销广告、打折信息类', 'topic_define': '...</td>\n",
       "    </tr>\n",
       "    <tr>\n",
       "      <th>3</th>\n",
       "      <td>20230323A05KI1E</td>\n",
       "      <td>摩恩公司2023春季全国招商活动开始了!看看我能把与摩恩一起创造财富机会的送给那位有缘人! ...</td>\n",
       "      <td>促销广告、打折信息类</td>\n",
       "      <td>train.json</td>\n",
       "      <td>[促销广告、打折信息类, 提问求答鉴定类, 汽车经销商新闻, 好物推荐、直播预告类, 跨洋购...</td>\n",
       "      <td>促销广告、打折信息类</td>\n",
       "      <td>摩恩公司2023春季全国招商活动开始了!看看我能把与摩恩一起创造财富机会的送给那位有缘人! ...</td>\n",
       "      <td>高</td>\n",
       "      <td>{'topic_name': '促销广告、打折信息类', 'topic_define': '...</td>\n",
       "    </tr>\n",
       "    <tr>\n",
       "      <th>4</th>\n",
       "      <td>20230322A01G7Y1</td>\n",
       "      <td>露营季将至厂商既喜且忧:爆单抢单持续 价格战苗头已现财联社3月22日讯(记者 陈抗)五一露营...</td>\n",
       "      <td>促销广告、打折信息类</td>\n",
       "      <td>test.json</td>\n",
       "      <td>[好物推荐、直播预告类, 假冒仿制商品, 促销广告、打折信息类, 跨洋购物, 股市、债市动态...</td>\n",
       "      <td>其他</td>\n",
       "      <td>露营季将至厂商既喜且忧:爆单抢单持续 价格战苗头已现财联社3月22日讯(记者 陈抗)五一露营...</td>\n",
       "      <td>中</td>\n",
       "      <td>None</td>\n",
       "    </tr>\n",
       "  </tbody>\n",
       "</table>\n",
       "</div>"
      ],
      "text/plain": [
       "                              docid  \\\n",
       "0                   202205262392895   \n",
       "1  c069cb10d2e60a8e6aee82d5638803f6   \n",
       "2                   202303206118888   \n",
       "3                   20230323A05KI1E   \n",
       "4                   20230322A01G7Y1   \n",
       "\n",
       "                                             content       label      source  \\\n",
       "0  ​西雅图/加拿大周边游:海岸星光号列车+波特兰+101公路神奇海岸线+神木步道+红木公园+旧...  促销广告、打折信息类   test.json   \n",
       "1  【平论+赞随机揪免单】卷后42.9【百草味】罐装夏威夷果奶油味500g,坚果旺季来了,开壳不...  促销广告、打折信息类  train.json   \n",
       "2  春日见喜，镇江月星\"狂享家\"活动圆满收官！3月19日 镇江月星\"狂享家\"活动 圆满收官! 三...  促销广告、打折信息类  train.json   \n",
       "3  摩恩公司2023春季全国招商活动开始了!看看我能把与摩恩一起创造财富机会的送给那位有缘人! ...  促销广告、打折信息类  train.json   \n",
       "4  露营季将至厂商既喜且忧:爆单抢单持续 价格战苗头已现财联社3月22日讯(记者 陈抗)五一露营...  促销广告、打折信息类   test.json   \n",
       "\n",
       "                             embedding_recall_topics reasonable_topic  \\\n",
       "0  [便民信息, 灌水水贴, 好物推荐、直播预告类, 提问求答鉴定类, 跨洋购物, 合租&租房广...             跨洋购物   \n",
       "1  [假冒仿制商品, 促销广告、打折信息类, 股市、债市动态, 跨洋购物, 好物推荐、直播预告类...       促销广告、打折信息类   \n",
       "2  [提问求答鉴定类, 便民信息, 好物推荐、直播预告类, 促销广告、打折信息类, 灌水水贴, ...       促销广告、打折信息类   \n",
       "3  [促销广告、打折信息类, 提问求答鉴定类, 汽车经销商新闻, 好物推荐、直播预告类, 跨洋购...       促销广告、打折信息类   \n",
       "4  [好物推荐、直播预告类, 假冒仿制商品, 促销广告、打折信息类, 跨洋购物, 股市、债市动态...               其他   \n",
       "\n",
       "                               topic_relate_original confidence  \\\n",
       "0              美国包邮:北美热销厨具!中国包邮:时装鞋帽装饰品、美容美发品、健康养生品!          中   \n",
       "1  【平论+赞随机揪免单】卷后42.9【百草味】罐装夏威夷果奶油味500g,坚果旺季来了,开壳不...          高   \n",
       "2  春日见喜，镇江月星'狂享家'活动圆满收官！3月19日 镇江月星'狂享家'活动 圆满收官! 三...          高   \n",
       "3  摩恩公司2023春季全国招商活动开始了!看看我能把与摩恩一起创造财富机会的送给那位有缘人! ...          高   \n",
       "4  露营季将至厂商既喜且忧:爆单抢单持续 价格战苗头已现财联社3月22日讯(记者 陈抗)五一露营...          中   \n",
       "\n",
       "                           second_confirmation_topic  \n",
       "0  {'topic_name': '跨洋购物', 'topic_define': '通过不同渠道...  \n",
       "1  {'topic_name': '促销广告、打折信息类', 'topic_define': '...  \n",
       "2  {'topic_name': '促销广告、打折信息类', 'topic_define': '...  \n",
       "3  {'topic_name': '促销广告、打折信息类', 'topic_define': '...  \n",
       "4                                               None  "
      ]
     },
     "execution_count": 142,
     "metadata": {},
     "output_type": "execute_result"
    }
   ],
   "source": [
    "complete_recall_topic_add_gpt_topic_df.head()"
   ]
  },
  {
   "cell_type": "code",
   "execution_count": 172,
   "id": "8e0128d1-45fa-4846-bc37-63f941ae0ffa",
   "metadata": {
    "tags": []
   },
   "outputs": [
    {
     "data": {
      "text/plain": [
       "公司公告            243\n",
       "股市、债市动态         148\n",
       "汽车经销商新闻         117\n",
       "公司财报             75\n",
       "好物推荐、直播预告类       58\n",
       "纯招聘类             47\n",
       "便民信息             47\n",
       "促销广告、打折信息类       46\n",
       "合租&租房广告&售房广告     45\n",
       "大众科普，概念解释类       45\n",
       "灌水水贴             44\n",
       "其他               20\n",
       "维修服务或客服热线        12\n",
       "售房广告              8\n",
       "假冒仿制商品            5\n",
       "跨洋购物              4\n",
       "提问求答鉴定类           2\n",
       "公司合作公告            1\n",
       "能源化工简报            1\n",
       "创新营销赋能            1\n",
       "政府信息              1\n",
       "Name: reasonable_topic, dtype: int64"
      ]
     },
     "execution_count": 172,
     "metadata": {},
     "output_type": "execute_result"
    }
   ],
   "source": [
    "complete_recall_topic_add_gpt_topic_df['reasonable_topic'].value_counts()"
   ]
  },
  {
   "cell_type": "markdown",
   "id": "a149179b-c306-408d-8e03-28646546eb22",
   "metadata": {},
   "source": [
    "## 第二步prompt验证第一步中打得标签是否正确"
   ]
  },
  {
   "cell_type": "code",
   "execution_count": 171,
   "id": "0e7a5532-1f09-4f9f-b88d-49ef7f0c4e24",
   "metadata": {
    "tags": []
   },
   "outputs": [],
   "source": [
    "template_code = 968\n",
    "api_url = 'http://aiapi.wisers.com/openai-result-service-api/common/invoke'\n",
    "semaphore_num = 100\n",
    "tags = 'spam_optimization'\n",
    "label_evaluation_tools = AsyncioRequestGPT(TEMPLATE_ID=template_code, tags=tags, API_URL=api_url, semaphore_number=semaphore_num)\n"
   ]
  },
  {
   "cell_type": "code",
   "execution_count": 173,
   "id": "17fe843f-4865-4857-becf-0af48037f29f",
   "metadata": {
    "tags": []
   },
   "outputs": [],
   "source": [
    "async def label_evaluation(tools: AsyncioRequestGPT, data: dict, batch_number: int = 300):\n",
    "    semaphore = asyncio.Semaphore(batch_number)\n",
    "    tasks = [\n",
    "        asyncio.create_task(tools.request_post(\n",
    "            index=row['docid'],\n",
    "            data={\n",
    "                # \"possible_topic_info\": row[\"second_confirmation_topic\"],\n",
    "                \"content\": row['content'],\n",
    "                \"label\": row['reasonable_topic'],\n",
    "                \"possible_topic_info\": topic_define_dict[row['reasonable_topic']] if row['reasonable_topic'] in topic_define_dict else None\n",
    "            }, semaphore=semaphore\n",
    "        )) for index, row in data.iterrows()\n",
    "    ]\n",
    "    responses = [await f for f in tqdm(asyncio.as_completed(tasks), total=len(tasks))]"
   ]
  },
  {
   "cell_type": "code",
   "execution_count": 176,
   "id": "31294608-4566-4df5-93f2-6e8e25566c7d",
   "metadata": {
    "tags": []
   },
   "outputs": [
    {
     "name": "stderr",
     "output_type": "stream",
     "text": [
      "100%|██████████| 938/938 [01:07<00:00, 13.86it/s]\n"
     ]
    }
   ],
   "source": [
    "label_evaluation_tools.complete_result = []\n",
    "label_evaluation_done = await label_evaluation(label_evaluation_tools, complete_recall_topic_add_gpt_topic_df[~complete_recall_topic_add_gpt_topic_df['second_confirmation_topic'].isna()], semaphore_num)"
   ]
  },
  {
   "cell_type": "code",
   "execution_count": 177,
   "id": "2022ef5d-d8bf-44c3-92f6-a1521e39e2dc",
   "metadata": {
    "tags": []
   },
   "outputs": [
    {
     "data": {
      "text/plain": [
       "938"
      ]
     },
     "execution_count": 177,
     "metadata": {},
     "output_type": "execute_result"
    }
   ],
   "source": [
    "label_evaluation_tools.complete_result.__len__()"
   ]
  },
  {
   "cell_type": "code",
   "execution_count": 178,
   "id": "64d7ae13-5f0b-4d53-95f4-6f5239d70cb0",
   "metadata": {
    "tags": []
   },
   "outputs": [],
   "source": [
    "# for result in label_evaluation_tools.complete_result:\n",
    "#     if \"doc_id\" in result and \"llm_response\" in result and \"topic_is_right\" in result['llm_response'] and 'explanation' in result['llm_response']:\n",
    "        \n",
    "\n",
    "label_evaluation_result = pd.DataFrame([(result['doc_id'], result['llm_response']['topic_name'], result['llm_response']['topic_is_right'], result['llm_response']['explanation']) for result in label_evaluation_tools.complete_result \n",
    "if \"doc_id\" in result and \"llm_response\" in result and isinstance(result['llm_response'], dict) and \"topic_is_right\" in result['llm_response'] and 'explanation' in result['llm_response']], \n",
    "                                       columns=['docid', \"topic_name\", 'topic_is_right', \"explanation\"])"
   ]
  },
  {
   "cell_type": "code",
   "execution_count": 179,
   "id": "7c338138-9695-4638-93a9-811031fa438c",
   "metadata": {
    "tags": []
   },
   "outputs": [
    {
     "data": {
      "text/plain": [
       "(937, 4)"
      ]
     },
     "execution_count": 179,
     "metadata": {},
     "output_type": "execute_result"
    }
   ],
   "source": [
    "label_evaluation_result.shape"
   ]
  },
  {
   "cell_type": "code",
   "execution_count": 180,
   "id": "1b499eb9-9e27-4e26-b201-1c809e2efcf4",
   "metadata": {
    "tags": []
   },
   "outputs": [
    {
     "data": {
      "text/plain": [
       "(1051, 12)"
      ]
     },
     "execution_count": 180,
     "metadata": {},
     "output_type": "execute_result"
    }
   ],
   "source": [
    "label_evaluation_result['docid'] = label_evaluation_result['docid'].astype(str)\n",
    "two_step_tag_result = complete_recall_topic_add_gpt_topic_df.merge(label_evaluation_result, on='docid', how='left')\n",
    "two_step_tag_result.shape"
   ]
  },
  {
   "cell_type": "code",
   "execution_count": 181,
   "id": "38fa24ac-50fb-4ed2-8154-dd338cbaac6f",
   "metadata": {
    "tags": []
   },
   "outputs": [
    {
     "data": {
      "text/plain": [
       "Index(['docid', 'content', 'label', 'source', 'embedding_recall_topics',\n",
       "       'reasonable_topic', 'topic_relate_original', 'confidence',\n",
       "       'second_confirmation_topic', 'topic_name', 'topic_is_right',\n",
       "       'explanation'],\n",
       "      dtype='object')"
      ]
     },
     "execution_count": 181,
     "metadata": {},
     "output_type": "execute_result"
    }
   ],
   "source": [
    "two_step_tag_result.columns"
   ]
  },
  {
   "cell_type": "code",
   "execution_count": 182,
   "id": "15641004-bd01-4d3b-a292-d365bb82b695",
   "metadata": {
    "tags": []
   },
   "outputs": [],
   "source": [
    "two_step_tag_result['docid'] = two_step_tag_result['docid'].astype(str)\n",
    "two_step_tag_result['sign'] = two_step_tag_result.apply(lambda row: row['label'] in row['embedding_recall_topics'], axis=1)\n",
    "two_step_tag_result.to_csv(\"./data/complete_step_tag_result.csv\")"
   ]
  },
  {
   "cell_type": "markdown",
   "id": "d79bcb85-3a47-4b5f-aa97-283cc5d281f5",
   "metadata": {},
   "source": [
    "# 直接将embedding召回的结果进行多标签确认，选择GPT任务正确的类型"
   ]
  },
  {
   "cell_type": "code",
   "execution_count": 103,
   "id": "c29c5444-2d2e-48d2-ae71-f0c3b3f2a057",
   "metadata": {
    "tags": []
   },
   "outputs": [],
   "source": [
    "template_code = 964\n",
    "api_url = 'http://aiapi.wisers.com/openai-result-service-api/common/invoke'\n",
    "semaphore_num = 100\n",
    "tags = 'spam_optimization'\n",
    "multi_label_evaluation_tools = AsyncioRequestGPT(TEMPLATE_ID=template_code, tags=tags, API_URL=api_url, semaphore_number=semaphore_num)\n"
   ]
  },
  {
   "cell_type": "code",
   "execution_count": 104,
   "id": "02d2e0bf-9676-4b2a-b0a0-3801505ca708",
   "metadata": {
    "tags": []
   },
   "outputs": [
    {
     "data": {
      "text/html": [
       "<div>\n",
       "<style scoped>\n",
       "    .dataframe tbody tr th:only-of-type {\n",
       "        vertical-align: middle;\n",
       "    }\n",
       "\n",
       "    .dataframe tbody tr th {\n",
       "        vertical-align: top;\n",
       "    }\n",
       "\n",
       "    .dataframe thead th {\n",
       "        text-align: right;\n",
       "    }\n",
       "</style>\n",
       "<table border=\"1\" class=\"dataframe\">\n",
       "  <thead>\n",
       "    <tr style=\"text-align: right;\">\n",
       "      <th></th>\n",
       "      <th>docid</th>\n",
       "      <th>content</th>\n",
       "      <th>label</th>\n",
       "      <th>source</th>\n",
       "      <th>top1_name_x</th>\n",
       "      <th>top2_name_x</th>\n",
       "      <th>top3_name_x</th>\n",
       "      <th>top4_name_x</th>\n",
       "      <th>top5_name_x</th>\n",
       "      <th>top1_name_y</th>\n",
       "      <th>top2_name_y</th>\n",
       "      <th>top3_name_y</th>\n",
       "      <th>top4_name_y</th>\n",
       "      <th>top5_name_y</th>\n",
       "      <th>possible_topic_info</th>\n",
       "    </tr>\n",
       "  </thead>\n",
       "  <tbody>\n",
       "    <tr>\n",
       "      <th>0</th>\n",
       "      <td>202205262392895</td>\n",
       "      <td>​西雅图/加拿大周边游:海岸星光号列车+波特兰+101公路神奇海岸线+神木步道+红木公园+旧...</td>\n",
       "      <td>促销广告、打折信息类</td>\n",
       "      <td>test.json</td>\n",
       "      <td>便民信息</td>\n",
       "      <td>灌水水贴</td>\n",
       "      <td>好物推荐、直播预告类</td>\n",
       "      <td>提问求答鉴定类</td>\n",
       "      <td>跨洋购物</td>\n",
       "      <td>合租&amp;租房广告&amp;售房广告</td>\n",
       "      <td>维修服务或客服热线</td>\n",
       "      <td>假冒仿制商品</td>\n",
       "      <td>跨洋购物</td>\n",
       "      <td>好物推荐、直播预告类</td>\n",
       "      <td>{'便民信息': '提供生活服务、交通、天气等实用资讯，方便日常生活。', '灌水水贴': ...</td>\n",
       "    </tr>\n",
       "    <tr>\n",
       "      <th>1</th>\n",
       "      <td>c069cb10d2e60a8e6aee82d5638803f6</td>\n",
       "      <td>【平论+赞随机揪免单】卷后42.9【百草味】罐装夏威夷果奶油味500g,坚果旺季来了,开壳不...</td>\n",
       "      <td>促销广告、打折信息类</td>\n",
       "      <td>train.json</td>\n",
       "      <td>假冒仿制商品</td>\n",
       "      <td>促销广告、打折信息类</td>\n",
       "      <td>股市、债市动态</td>\n",
       "      <td>跨洋购物</td>\n",
       "      <td>好物推荐、直播预告类</td>\n",
       "      <td>跨洋购物</td>\n",
       "      <td>促销广告、打折信息类</td>\n",
       "      <td>灌水水贴</td>\n",
       "      <td>假冒仿制商品</td>\n",
       "      <td>好物推荐、直播预告类</td>\n",
       "      <td>{'假冒仿制商品': '在设计、外观或功能上模仿或参照知名品牌、高端产品，但在品牌标识、材料...</td>\n",
       "    </tr>\n",
       "    <tr>\n",
       "      <th>2</th>\n",
       "      <td>202303206118888</td>\n",
       "      <td>春日见喜，镇江月星\"狂享家\"活动圆满收官！3月19日 镇江月星\"狂享家\"活动 圆满收官! 三...</td>\n",
       "      <td>促销广告、打折信息类</td>\n",
       "      <td>train.json</td>\n",
       "      <td>提问求答鉴定类</td>\n",
       "      <td>便民信息</td>\n",
       "      <td>好物推荐、直播预告类</td>\n",
       "      <td>促销广告、打折信息类</td>\n",
       "      <td>灌水水贴</td>\n",
       "      <td>合租&amp;租房广告&amp;售房广告</td>\n",
       "      <td>公司公告</td>\n",
       "      <td>跨洋购物</td>\n",
       "      <td>好物推荐、直播预告类</td>\n",
       "      <td>促销广告、打折信息类</td>\n",
       "      <td>{'提问求答鉴定类': '发表提问，求专业知识解答与物品真伪鉴定，互动交流解疑惑', '便民...</td>\n",
       "    </tr>\n",
       "    <tr>\n",
       "      <th>3</th>\n",
       "      <td>20230323A05KI1E</td>\n",
       "      <td>摩恩公司2023春季全国招商活动开始了!看看我能把与摩恩一起创造财富机会的送给那位有缘人! ...</td>\n",
       "      <td>促销广告、打折信息类</td>\n",
       "      <td>train.json</td>\n",
       "      <td>促销广告、打折信息类</td>\n",
       "      <td>提问求答鉴定类</td>\n",
       "      <td>汽车经销商新闻</td>\n",
       "      <td>好物推荐、直播预告类</td>\n",
       "      <td>跨洋购物</td>\n",
       "      <td>公司公告</td>\n",
       "      <td>汽车经销商新闻</td>\n",
       "      <td>合租&amp;租房广告&amp;售房广告</td>\n",
       "      <td>灌水水贴</td>\n",
       "      <td>跨洋购物</td>\n",
       "      <td>{'促销广告、打折信息类': '促销广告是指为了促进销售而发布的广告，通常包括打折、赠品、抽...</td>\n",
       "    </tr>\n",
       "    <tr>\n",
       "      <th>4</th>\n",
       "      <td>20230322A01G7Y1</td>\n",
       "      <td>露营季将至厂商既喜且忧:爆单抢单持续 价格战苗头已现财联社3月22日讯(记者 陈抗)五一露营...</td>\n",
       "      <td>促销广告、打折信息类</td>\n",
       "      <td>test.json</td>\n",
       "      <td>好物推荐、直播预告类</td>\n",
       "      <td>假冒仿制商品</td>\n",
       "      <td>促销广告、打折信息类</td>\n",
       "      <td>跨洋购物</td>\n",
       "      <td>股市、债市动态</td>\n",
       "      <td>公司财报</td>\n",
       "      <td>跨洋购物</td>\n",
       "      <td>促销广告、打折信息类</td>\n",
       "      <td>假冒仿制商品</td>\n",
       "      <td>汽车经销商新闻</td>\n",
       "      <td>{'好物推荐、直播预告类': '好物推荐是实质用户根据根据使用心得推荐一些优质的产品或服务，...</td>\n",
       "    </tr>\n",
       "  </tbody>\n",
       "</table>\n",
       "</div>"
      ],
      "text/plain": [
       "                              docid  \\\n",
       "0                   202205262392895   \n",
       "1  c069cb10d2e60a8e6aee82d5638803f6   \n",
       "2                   202303206118888   \n",
       "3                   20230323A05KI1E   \n",
       "4                   20230322A01G7Y1   \n",
       "\n",
       "                                             content       label      source  \\\n",
       "0  ​西雅图/加拿大周边游:海岸星光号列车+波特兰+101公路神奇海岸线+神木步道+红木公园+旧...  促销广告、打折信息类   test.json   \n",
       "1  【平论+赞随机揪免单】卷后42.9【百草味】罐装夏威夷果奶油味500g,坚果旺季来了,开壳不...  促销广告、打折信息类  train.json   \n",
       "2  春日见喜，镇江月星\"狂享家\"活动圆满收官！3月19日 镇江月星\"狂享家\"活动 圆满收官! 三...  促销广告、打折信息类  train.json   \n",
       "3  摩恩公司2023春季全国招商活动开始了!看看我能把与摩恩一起创造财富机会的送给那位有缘人! ...  促销广告、打折信息类  train.json   \n",
       "4  露营季将至厂商既喜且忧:爆单抢单持续 价格战苗头已现财联社3月22日讯(记者 陈抗)五一露营...  促销广告、打折信息类   test.json   \n",
       "\n",
       "  top1_name_x top2_name_x top3_name_x top4_name_x top5_name_x   top1_name_y  \\\n",
       "0        便民信息        灌水水贴  好物推荐、直播预告类     提问求答鉴定类        跨洋购物  合租&租房广告&售房广告   \n",
       "1      假冒仿制商品  促销广告、打折信息类     股市、债市动态        跨洋购物  好物推荐、直播预告类          跨洋购物   \n",
       "2     提问求答鉴定类        便民信息  好物推荐、直播预告类  促销广告、打折信息类        灌水水贴  合租&租房广告&售房广告   \n",
       "3  促销广告、打折信息类     提问求答鉴定类     汽车经销商新闻  好物推荐、直播预告类        跨洋购物          公司公告   \n",
       "4  好物推荐、直播预告类      假冒仿制商品  促销广告、打折信息类        跨洋购物     股市、债市动态          公司财报   \n",
       "\n",
       "  top2_name_y   top3_name_y top4_name_y top5_name_y  \\\n",
       "0   维修服务或客服热线        假冒仿制商品        跨洋购物  好物推荐、直播预告类   \n",
       "1  促销广告、打折信息类          灌水水贴      假冒仿制商品  好物推荐、直播预告类   \n",
       "2        公司公告          跨洋购物  好物推荐、直播预告类  促销广告、打折信息类   \n",
       "3     汽车经销商新闻  合租&租房广告&售房广告        灌水水贴        跨洋购物   \n",
       "4        跨洋购物    促销广告、打折信息类      假冒仿制商品     汽车经销商新闻   \n",
       "\n",
       "                                 possible_topic_info  \n",
       "0  {'便民信息': '提供生活服务、交通、天气等实用资讯，方便日常生活。', '灌水水贴': ...  \n",
       "1  {'假冒仿制商品': '在设计、外观或功能上模仿或参照知名品牌、高端产品，但在品牌标识、材料...  \n",
       "2  {'提问求答鉴定类': '发表提问，求专业知识解答与物品真伪鉴定，互动交流解疑惑', '便民...  \n",
       "3  {'促销广告、打折信息类': '促销广告是指为了促进销售而发布的广告，通常包括打折、赠品、抽...  \n",
       "4  {'好物推荐、直播预告类': '好物推荐是实质用户根据根据使用心得推荐一些优质的产品或服务，...  "
      ]
     },
     "execution_count": 104,
     "metadata": {},
     "output_type": "execute_result"
    }
   ],
   "source": [
    "complete_recall_topic_df[origin_cols+topic_cols+['possible_topic_info']].head()"
   ]
  },
  {
   "cell_type": "code",
   "execution_count": 105,
   "id": "cea99f60-41c0-4f9b-b907-56e3a64b881b",
   "metadata": {
    "tags": []
   },
   "outputs": [],
   "source": [
    "async def multi_label_evaluation(tools: AsyncioRequestGPT, data: dict, batch_number: int = 300):\n",
    "    semaphore = asyncio.Semaphore(batch_number)\n",
    "    tasks = [\n",
    "        asyncio.create_task(tools.request_post(\n",
    "            index=row['docid'],\n",
    "            data={\n",
    "                \"possible_topic_info\": row[\"possible_topic_info\"],\n",
    "                \"content\": row['content'],\n",
    "                \"label\": list(row[\"possible_topic_info\"].keys())\n",
    "            }, semaphore=semaphore\n",
    "        )) for index, row in data.iterrows()\n",
    "    ]\n",
    "    responses = [await f for f in tqdm(asyncio.as_completed(tasks), total=len(tasks))]"
   ]
  },
  {
   "cell_type": "code",
   "execution_count": 110,
   "id": "14cba26a-eddd-44f9-8adb-7d8607d01247",
   "metadata": {
    "tags": []
   },
   "outputs": [
    {
     "name": "stderr",
     "output_type": "stream",
     "text": [
      "100%|██████████| 965/965 [03:39<00:00,  4.39it/s]\n"
     ]
    }
   ],
   "source": [
    "multi_label_evaluation_done = await multi_label_evaluation(multi_label_evaluation_tools, complete_recall_topic_df, semaphore_num)"
   ]
  },
  {
   "cell_type": "code",
   "execution_count": 109,
   "id": "6d836472-bb8c-452b-9f46-9114dd347e98",
   "metadata": {
    "tags": []
   },
   "outputs": [
    {
     "data": {
      "text/plain": [
       "[{'doc_id': '202205262392895',\n",
       "  'llm_response': {'result': [{'topic_name': '便民信息',\n",
       "     'topic_is_right': 'no',\n",
       "     'explanation': '文章内容主要是关于旅游线路和旅行社服务的介绍，提供了西雅图周边游的景点和服务内容，属于旅游信息类内容，不符合便民信息的定义。因此，文章类型不正确。'}]}},\n",
       " {'doc_id': 'c069cb10d2e60a8e6aee82d5638803f6',\n",
       "  'llm_response': {'result': [{'topic_name': '假冒仿制商品',\n",
       "     'topic_is_right': 'yes',\n",
       "     'explanation': '文章内容提到了百草味的夏威夷果奶油味500g产品，描述了产品的特点和优势，符合假冒仿制商品的定义，因此文章类型为假冒仿制商品是正确的。'},\n",
       "    {'topic_name': '促销广告、打折信息类',\n",
       "     'topic_is_right': 'yes',\n",
       "     'explanation': '文章中提到了价格42.9元，以及赠送运费险的信息，属于促销广告、打折信息类的内容，因此文章类型为促销广告、打折信息类是正确的。'},\n",
       "    {'topic_name': '股市、债市动态',\n",
       "     'topic_is_right': 'no',\n",
       "     'explanation': '文章内容与股市、债市动态无关，没有涉及大宗商品价格、期货行情等相关信息，因此不属于股市、债市动态，文章类型为股市、债市动态是错误的。'},\n",
       "    {'topic_name': '跨洋购物',\n",
       "     'topic_is_right': 'no',\n",
       "     'explanation': '文章内容主要是关于百草味的夏威夷果奶油味500g产品的描述和推广，没有涉及跨国购物相关内容，因此不属于跨洋购物，文章类型为跨洋购物是错误的。'},\n",
       "    {'topic_name': '好物推荐、直播预告类',\n",
       "     'topic_is_right': 'no',\n",
       "     'explanation': '文章内容主要是在推广特定产品，没有提供用户使用心得或晒单等内容，也没有直播预告信息，因此不符合好物推荐、直播预告类的定义，文章类型为好物推荐、直播预告类是错误的。'},\n",
       "    {'topic_name': '灌水水贴',\n",
       "     'topic_is_right': 'no',\n",
       "     'explanation': '文章内容主要是在推广特定产品，没有包含小说、段子、心情分享等内容，也不涉及明星八卦、音乐影视分享等，因此不符合灌水水贴的定义，文章类型为灌水水贴是错误的。'}]}},\n",
       " {'doc_id': '202303206118888',\n",
       "  'llm_response': {'result': [{'topic_name': '提问求答鉴定类',\n",
       "     'topic_is_right': 'no',\n",
       "     'explanation': '文章内容主要是关于一个家装活动的报道，介绍了活动的盛况、抽奖环节、赠品以及家装课堂等内容，并没有涉及提问、求解答或物品鉴定等内容，因此不属于提问求答鉴定类。'},\n",
       "    {'topic_name': '便民信息',\n",
       "     'topic_is_right': 'no',\n",
       "     'explanation': '文章内容主要是关于一个家装活动的报道，介绍了活动的盛况、抽奖环节、赠品以及家装课堂等内容，并没有提供生活服务、交通、天气等实用资讯，因此不属于便民信息类。'},\n",
       "    {'topic_name': '好物推荐、直播预告类',\n",
       "     'topic_is_right': 'no',\n",
       "     'explanation': '文章内容主要是关于一个家装活动的报道，介绍了活动的盛况、抽奖环节、赠品以及家装课堂等内容，并没有推荐具体的产品或服务，也没有涉及直播预告，因此不属于好物推荐、直播预告类。'},\n",
       "    {'topic_name': '促销广告、打折信息类',\n",
       "     'topic_is_right': 'yes',\n",
       "     'explanation': '文章内容介绍了一个家装活动的促销信息，包括抽奖、赠品、活动优惠等内容，符合促销广告、打折信息类的定义。'},\n",
       "    {'topic_name': '灌水水贴',\n",
       "     'topic_is_right': 'no',\n",
       "     'explanation': '文章内容主要是关于一个家装活动的报道，介绍了活动的盛况、抽奖环节、赠品以及家装课堂等内容，并不是小说、段子、故事分享等内容，因此不属于灌水水贴类。'},\n",
       "    {'topic_name': '合租&租房广告&售房广告',\n",
       "     'topic_is_right': 'no',\n",
       "     'explanation': '文章内容主要是关于一个家装活动的报道，没有涉及到租房或售房广告，因此不属于合租&租房广告&售房广告类。'},\n",
       "    {'topic_name': '公司公告',\n",
       "     'topic_is_right': 'no',\n",
       "     'explanation': '文章内容主要是关于一个家装活动的报道，并非公司公告，因此不属于公司公告类。'},\n",
       "    {'topic_name': '跨洋购物',\n",
       "     'topic_is_right': 'no',\n",
       "     'explanation': '文章内容主要是关于一个家装活动的报道，并没有涉及跨国购物，因此不属于跨洋购物类。'}]}},\n",
       " {'doc_id': '20230322A01G7Y1',\n",
       "  'llm_response': {'result': [{'topic_name': '好物推荐、直播预告类',\n",
       "     'topic_is_right': 'no',\n",
       "     'explanation': '文章主要讨论了五一露营旺季将至，工厂面临爆单抢单和价格战的情况，涉及到露营装备的订单排队、价格下降等内容，与好物推荐、直播预告类不符。因此，文章类型不正确。'},\n",
       "    {'topic_name': '假冒仿制商品',\n",
       "     'topic_is_right': 'no',\n",
       "     'explanation': '文章主要描述了露营行业面临的爆单抢单和价格战情况，涉及到工厂订单排队、价格下降等内容，与假冒仿制商品的定义不符。因此，文章类型不正确。'},\n",
       "    {'topic_name': '促销广告、打折信息类',\n",
       "     'topic_is_right': 'no',\n",
       "     'explanation': '文章讨论了露营行业即将到来的旺季，工厂面临的订单排队、价格下降等情况，虽然涉及到价格战，但并未提及具体的促销广告或打折信息，因此不符合促销广告、打折信息类的定义。因此，文章类型不正确。'},\n",
       "    {'topic_name': '跨洋购物',\n",
       "     'topic_is_right': 'unknown',\n",
       "     'explanation': '文章内容并未涉及跨国购物相关内容，无法确认是否属于跨洋购物类型。建议进一步了解文章内容或领域信息以确认。'},\n",
       "    {'topic_name': '股市、债市动态',\n",
       "     'topic_is_right': 'unknown',\n",
       "     'explanation': '文章主要讨论了露营行业面临的爆单抢单和价格战情况，未涉及股市、债市动态相关内容，无法确认是否属于股市、债市动态类型。建议进一步了解文章内容或领域信息以确认。'},\n",
       "    {'topic_name': '公司财报',\n",
       "     'topic_is_right': 'unknown',\n",
       "     'explanation': '文章主要描述了露营行业面临的爆单抢单和价格战情况，未涉及公司在一定时间内的财务状况和经营业绩的报告，无法确认是否属于公司财报类型。建议进一步了解文章内容或领域信息以确认。'},\n",
       "    {'topic_name': '汽车经销商新闻',\n",
       "     'topic_is_right': 'unknown',\n",
       "     'explanation': '文章主要讨论了露营行业面临的爆单抢单和价格战情况，未涉及汽车商家或汽车相关新闻，无法确认是否属于汽车经销商新闻类型。建议进一步了解文章内容或领域信息以确认。'}]}},\n",
       " {'doc_id': '20230323A05KI1E',\n",
       "  'llm_response': {'result': [{'topic_name': '促销广告、打折信息类',\n",
       "     'topic_is_right': 'yes',\n",
       "     'explanation': '文章内容涉及到公司的招商活动，宣传与促销相关的信息，符合促销广告、打折信息类的定义。因此，文章类型为促销广告、打折信息类是正确的。'},\n",
       "    {'topic_name': '提问求答鉴定类',\n",
       "     'topic_is_right': 'no',\n",
       "     'explanation': '文章内容并未包含提问、求解答或鉴定的要素，而是在宣传公司的招商活动。因此，文章类型为提问求答鉴定类是错误的。'},\n",
       "    {'topic_name': '汽车经销商新闻',\n",
       "     'topic_is_right': 'no',\n",
       "     'explanation': '文章内容与汽车经销商新闻无关，主要是关于家装卫浴公司的招商活动。因此，文章类型为汽车经销商新闻是错误的。'},\n",
       "    {'topic_name': '好物推荐、直播预告类',\n",
       "     'topic_is_right': 'no',\n",
       "     'explanation': '文章内容虽然在宣传公司的活动，但并未提及具体产品或服务的使用心得或推荐，也不是直播预告类的内容。因此，文章类型为好物推荐、直播预告类是错误的。'},\n",
       "    {'topic_name': '跨洋购物',\n",
       "     'topic_is_right': 'no',\n",
       "     'explanation': '文章内容并未涉及跨国购物或海淘等内容，而是关于国内公司的招商活动。因此，文章类型为跨洋购物是错误的。'},\n",
       "    {'topic_name': '公司公告',\n",
       "     'topic_is_right': 'no',\n",
       "     'explanation': '虽然文章在宣传公司的招商活动，但并未传达公司内部的特定信息或消息，也不涉及公司业务、财务状况等内容。因此，文章类型为公司公告是错误的。'},\n",
       "    {'topic_name': '合租&租房广告&售房广告',\n",
       "     'topic_is_right': 'no',\n",
       "     'explanation': '文章内容与房屋租售广告无关，主要是关于公司的招商活动。因此，文章类型为合租&租房广告&售房广告是错误的。'},\n",
       "    {'topic_name': '灌水水贴',\n",
       "     'topic_is_right': 'no',\n",
       "     'explanation': '文章内容是关于公司的招商活动的宣传，不属于小说、段子、故事分享等灌水水贴的内容。因此，文章类型为灌水水贴是错误的。'}]}}]"
      ]
     },
     "execution_count": 109,
     "metadata": {},
     "output_type": "execute_result"
    }
   ],
   "source": [
    "multi_label_evaluation_tools.complete_result"
   ]
  },
  {
   "cell_type": "code",
   "execution_count": 111,
   "id": "10399db7-d6a9-4353-aae0-04e538110df5",
   "metadata": {
    "tags": []
   },
   "outputs": [
    {
     "ename": "NameError",
     "evalue": "name 'dic' is not defined",
     "output_type": "error",
     "traceback": [
      "\u001b[0;31m---------------------------------------------------------------------------\u001b[0m",
      "\u001b[0;31mNameError\u001b[0m                                 Traceback (most recent call last)",
      "\u001b[0;32m/tmp/ipykernel_81914/1428111226.py\u001b[0m in \u001b[0;36m<module>\u001b[0;34m\u001b[0m\n\u001b[0;32m----> 1\u001b[0;31m \u001b[0mmulti_label_evaluation_result\u001b[0m \u001b[0;34m=\u001b[0m \u001b[0;34m[\u001b[0m\u001b[0;34m(\u001b[0m\u001b[0mdic\u001b[0m\u001b[0;34m[\u001b[0m\u001b[0;34m'doc_id'\u001b[0m\u001b[0;34m]\u001b[0m\u001b[0;34m,\u001b[0m \u001b[0mtopic_info\u001b[0m\u001b[0;34m[\u001b[0m\u001b[0;34m\"topic_name\"\u001b[0m\u001b[0;34m]\u001b[0m\u001b[0;34m,\u001b[0m \u001b[0mtopic_info\u001b[0m\u001b[0;34m[\u001b[0m\u001b[0;34m'topic_is_right'\u001b[0m\u001b[0;34m]\u001b[0m\u001b[0;34m,\u001b[0m \u001b[0mtopic_info\u001b[0m\u001b[0;34m[\u001b[0m\u001b[0;34m'explanation'\u001b[0m\u001b[0;34m]\u001b[0m\u001b[0;34m)\u001b[0m \u001b[0;32mfor\u001b[0m \u001b[0mtopic_info\u001b[0m \u001b[0;32min\u001b[0m  \u001b[0mdic\u001b[0m\u001b[0;34m[\u001b[0m\u001b[0;34m'llm_response'\u001b[0m\u001b[0;34m]\u001b[0m\u001b[0;34m[\u001b[0m\u001b[0;34m'result'\u001b[0m\u001b[0;34m]\u001b[0m \u001b[0;32mfor\u001b[0m \u001b[0mdic\u001b[0m \u001b[0;32min\u001b[0m \u001b[0mmulti_label_evaluation_tools\u001b[0m\u001b[0;34m.\u001b[0m\u001b[0mcomplete_result\u001b[0m \u001b[0;32mif\u001b[0m \u001b[0;34m\"llm_response\"\u001b[0m \u001b[0;32min\u001b[0m \u001b[0mdic\u001b[0m \u001b[0;32mand\u001b[0m \u001b[0;34m\"result\"\u001b[0m \u001b[0;32min\u001b[0m \u001b[0mdic\u001b[0m\u001b[0;34m[\u001b[0m\u001b[0;34m'llm_response'\u001b[0m\u001b[0;34m]\u001b[0m \u001b[0;32mand\u001b[0m \u001b[0misinstance\u001b[0m\u001b[0;34m(\u001b[0m\u001b[0mdic\u001b[0m\u001b[0;34m[\u001b[0m\u001b[0;34m'llm_response'\u001b[0m\u001b[0;34m]\u001b[0m\u001b[0;34m[\u001b[0m\u001b[0;34m'result'\u001b[0m\u001b[0;34m]\u001b[0m\u001b[0;34m,\u001b[0m \u001b[0mlist\u001b[0m\u001b[0;34m)\u001b[0m\u001b[0;34m]\u001b[0m\u001b[0;34m\u001b[0m\u001b[0;34m\u001b[0m\u001b[0m\n\u001b[0m",
      "\u001b[0;31mNameError\u001b[0m: name 'dic' is not defined"
     ]
    }
   ],
   "source": [
    "multi_label_evaluation_result = [(dic['doc_id'], topic_info[\"topic_name\"], topic_info['topic_is_right'], topic_info['explanation']) for topic_info in  dic['llm_response']['result'] for dic in multi_label_evaluation_tools.complete_result if \"llm_response\" in dic and \"result\" in dic['llm_response'] and isinstance(dic['llm_response']['result'], list)]"
   ]
  },
  {
   "cell_type": "code",
   "execution_count": 114,
   "id": "e2df827b-d208-472c-a05e-521fa8ef9cda",
   "metadata": {
    "tags": []
   },
   "outputs": [
    {
     "name": "stdout",
     "output_type": "stream",
     "text": [
      "{'doc_id': '20230807A090CD9', 'llm_response': '{\\n    \"result\": [\\n        {\\n            \"topic_name\":  \"跨洋购物\",\\n            \"topic_is_right\": \"no\",\\n            \"explanation\": \"文章内容主要涉及银保渠道手续费率上涨、人身险企对抗、降低负债成本等内容，与跨洋购物无关，因此跨洋购物标签不正确。\"\\n        },\\n        {\\n            \"topic_name\":  \"公司财报\",\\n            \"topic_is_right\": \"no\",\\n            \"explanation\": \"文章主要讨论银保渠道手续费率上涨、人身险企对抗、降低负债成本等内容，并未涉及具体公司的财务状况和经营业绩报告，因此公司财报标签不正确。\"\\n        },\\n        {\\n            \"topic_name\":  \"促销广告、打折信息类\",\\n            \"topic_is_right\": \"no\",\\n            \"explanation\": \"文章内容讨论银保渠道手续费率上涨、人身险企对抗、降低负债成本，没有涉及促销广告、打折信息类内容，因此该标签不正确。\"\\n        },\\n        {\\n            \"topic_name\":  \"公司公告\",\\n            \"topic_is_right\": \"yes\",\\n            \"explanation\": \"文章内容涉及保险公司与银行分公司的签约、监管部门要求控制负债成本、监管严令人身险企执行\"                                                                                                    '}\n"
     ]
    }
   ],
   "source": [
    "multi_label_evaluation_result = []\n",
    "for dic in multi_label_evaluation_tools.complete_result:\n",
    "    try:\n",
    "        if \"llm_response\" in dic and \"result\" in dic['llm_response'] and isinstance(dic['llm_response']['result'], list):\n",
    "            for topic_info in  dic['llm_response']['result']:\n",
    "                multi_label_evaluation_result.append([\n",
    "                    dic['doc_id'], topic_info[\"topic_name\"], topic_info['topic_is_right'], topic_info['explanation']\n",
    "                ])\n",
    "    except:\n",
    "        print(dic)\n"
   ]
  },
  {
   "cell_type": "code",
   "execution_count": null,
   "id": "5a1c051c-125c-40be-b3d5-136c7bdb4527",
   "metadata": {},
   "outputs": [],
   "source": []
  }
 ],
 "metadata": {
  "kernelspec": {
   "display_name": "Python 3 (ipykernel)",
   "language": "python",
   "name": "python3"
  },
  "language_info": {
   "codemirror_mode": {
    "name": "ipython",
    "version": 3
   },
   "file_extension": ".py",
   "mimetype": "text/x-python",
   "name": "python",
   "nbconvert_exporter": "python",
   "pygments_lexer": "ipython3",
   "version": "3.8.12"
  }
 },
 "nbformat": 4,
 "nbformat_minor": 5
}
