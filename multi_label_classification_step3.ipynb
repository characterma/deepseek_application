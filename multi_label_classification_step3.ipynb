{
 "cells": [
  {
   "cell_type": "markdown",
   "id": "e482e2b2-f1fd-4038-853f-a97b4cb31bce",
   "metadata": {},
   "source": [
    "# 多标签打标prompt"
   ]
  },
  {
   "cell_type": "code",
   "execution_count": 74,
   "id": "fde2f0a8-50ac-41ff-9aa8-b70dddcd8e6c",
   "metadata": {
    "tags": []
   },
   "outputs": [],
   "source": [
    "multi_label_select_system_prompt = \"\"\"\n",
    "\n",
    "    我为你提供了详细的文章类型的定义，请理解每个类型的含义，\n",
    "    类型定义: {{possible_topic_info}}\n",
    "    \n",
    "    然后对以下输入的文章进行分析梳理，根据你分析的结果判断文章属于那个文章类型.\n",
    "    分析文章选择合理类型时要注意的是：\n",
    "        1、充分理解每个类型的定义\n",
    "        2、在处理复杂上下文时，要充分理解上下文再做出判断\n",
    "        3、避免关键词误导，不要因为聚焦在关键词上给错误的结果\n",
    "        4、文章类型可以通过以下格式输出多个,但是必须符合类型定义\n",
    "\n",
    "    通过以下json格式输出结果：\n",
    "    {\n",
    "        \"result\": [\n",
    "            {\n",
    "                \"topic_relate_analysis\":\"选择得到合理文章类型的分析过程\",\n",
    "                \"reasonable_topic\": \"第一个符合类型定义的类型名称，如果类型定义中没有符合的类型，则设置为 其他 \",\n",
    "                \"confidence\": \"你对判断结果的置信度级别(高, 中, 低, 无), 只能从中选择,无表示不相关，低表示较低相关度,高表示高相关度\"\n",
    "            },\n",
    "            {\n",
    "                \"topic_relate_analysis\":\"选择得到合理文章类型的分析过程\",\n",
    "                \"reasonable_topic\": \"第二个符合类型定义的类型名称，如果类型定义中没有符合的类型，则设置为 其他 \",\n",
    "                \"confidence\": \"你对判断结果的置信度级别(高, 中, 低, 无), 只能从中选择,无表示不相关，低表示较低相关度,高表示高相关度\"\n",
    "            }\n",
    "        ]\n",
    "    }\n",
    "    \n",
    "\"\"\"\n",
    "\n",
    "input_user_message = \"\"\"\n",
    "    input:\n",
    "        {{content}}\n",
    "    output:\n",
    "\"\"\""
   ]
  },
  {
   "cell_type": "markdown",
   "id": "4fb7e0ce-6d61-4b49-aaaa-9465d31d9685",
   "metadata": {},
   "source": [
    "# 通过AsyncOpenAI方式调用deepseek，进行打标"
   ]
  },
  {
   "cell_type": "code",
   "execution_count": 21,
   "id": "f28b6773-879b-44a3-a5b4-12b3cc3564af",
   "metadata": {
    "tags": []
   },
   "outputs": [],
   "source": [
    "# deepseek需要 openai==1.*版本\n",
    "import asyncio\n",
    "import pandas as pd\n",
    "import numpy as np\n",
    "import re\n",
    "import time\n",
    "import json\n",
    "from tqdm import tqdm\n",
    "import datetime\n",
    "import math\n",
    "import openai\n",
    "import copy\n",
    "from openai import AsyncOpenAI\n",
    "DEEPSEEK_API_KEY = \"sk-f9cccc9420dd49dba5c78f88a466e0f1\"\n",
    "DEREPSEEK_BASE_URL = \"https://api.deepseek.com\"\n",
    "DEEPSEEK_MODEL = \"deepseek-chat\"\n",
    "\n",
    "\n",
    "deepseek_client = AsyncOpenAI(api_key=DEEPSEEK_API_KEY, base_url = DEREPSEEK_BASE_URL)\n",
    "async def deepseek_caller(system_message, user_message):\n",
    "    try:\n",
    "        response = await deepseek_client.chat.completions.create(\n",
    "            model=DEEPSEEK_MODEL,\n",
    "            messages=[\n",
    "                {\"role\": \"system\", \"content\": system_message},\n",
    "                {\"role\": \"user\", \"content\": user_message},\n",
    "            ],\n",
    "            temperature=0.7,\n",
    "        )\n",
    "        response_parse = response.choices[0].message.content\n",
    "        #print(\"******* response *******\\n\", response_parse)\n",
    "        return response_parse\n",
    "    except Exception as e:\n",
    "        print(\"******* response *******\\n\", e, \"ERROR\")\n",
    "        return np.nan"
   ]
  },
  {
   "cell_type": "code",
   "execution_count": 75,
   "id": "f0793820-e445-4ed3-a0b7-33e3bba96e9a",
   "metadata": {
    "tags": []
   },
   "outputs": [],
   "source": [
    "async def parse_response(response):\n",
    "    json_str = re.search(r'\\{.*\\}', response, re.DOTALL)\n",
    "    # print(json_str)\n",
    "    if json_str is None:\n",
    "        return None\n",
    "    else:\n",
    "        # 将JSON字符串转换为Python字典\n",
    "        result = json.loads(json_str.group(0))\n",
    "        return result\n",
    "    \n",
    "    \n",
    "async def single_row_process(docid, system_message, user_message):\n",
    "    # print(system_message, user_message)\n",
    "    response = await deepseek_caller(system_message, user_message)\n",
    "    if isinstance(response, str):\n",
    "        result = await parse_response(response)\n",
    "    elif isinstance(response, dict):\n",
    "        result = response\n",
    "    else:\n",
    "        result = None\n",
    "    # print(f\"{docid}&&{topic_name}\", response, result)\n",
    "    return docid, result"
   ]
  },
  {
   "cell_type": "code",
   "execution_count": 103,
   "id": "ffe8b6db-b9c5-4a1d-ab54-4ab781a7f7be",
   "metadata": {
    "tags": []
   },
   "outputs": [],
   "source": [
    "async def multi_label_tag_main(data, topic_define_dict, system_template, user_template, batch_size=20):\n",
    "    start_time = datetime.datetime.now() # start timing\n",
    "\n",
    "    docid2evalres = {}\n",
    "    llm_response_list = []\n",
    "    # batch_size = 120\n",
    "    for i in range(math.ceil(data.shape[0] / batch_size)):\n",
    "        tasks = []\n",
    "        for index, row in data[i*batch_size:(i+1)*batch_size].iterrows():\n",
    "            if not isinstance(row['content'], float):\n",
    "                tasks.append(asyncio.create_task(single_row_process(\n",
    "                            docid=row['docid'],\n",
    "                            system_message=system_template.replace(\"{{possible_topic_info}}\", str(topic_define_dict)),\n",
    "                            user_message=user_template.replace(\"{{content}}\", row['content'])\n",
    "                        )))\n",
    "    \n",
    "        for completed_task in tqdm(asyncio.as_completed(tasks), total=len(tasks), desc=f\"Awaiting tasks: {i*batch_size} - {(i+1)*batch_size}\"):\n",
    "            try:\n",
    "                _id, result = await completed_task\n",
    "                llm_response_list.append({\n",
    "                    \"docid\":_id,\n",
    "                    \"result\": result[\"result\"]\n",
    "                })\n",
    "            except Exception as e:\n",
    "                print(e)\n",
    "    end_time = datetime.datetime.now() # start timing\n",
    "    print(f\"开始时间：{start_time},  结束时间：{end_time}, 花费时间：{end_time - start_time}s\")\n",
    "    return llm_response_list  "
   ]
  },
  {
   "cell_type": "markdown",
   "id": "84ede036-480f-4f5b-9d00-707b86bd9b14",
   "metadata": {},
   "source": [
    "# 将多标签打标结果解析并合并在原数据中"
   ]
  },
  {
   "cell_type": "code",
   "execution_count": 100,
   "id": "85cc750f-ce10-439e-960a-538c75bee274",
   "metadata": {
    "tags": []
   },
   "outputs": [],
   "source": [
    "def parse_tag_result_and_merge_origin_data(origin_data:pd.DataFrame, gpt_tag_res_df:pd.DataFrame, merge_cols=['docid']):\n",
    "    origin_data_add_tag_res = origin_data.merge(gpt_tag_res_df, on=merge_cols, how='left')\n",
    "    print(f\"origin_data_add_tag_res: {origin_data_add_tag_res.shape}\")\n",
    "    expand_list = []\n",
    "    for index, row in origin_data_add_tag_res.iterrows():\n",
    "        single_row = dict(row)\n",
    "        results = single_row['result']\n",
    "        # is_exist_topic = set()\n",
    "        if isinstance(results, list):\n",
    "            for single_topic in results:\n",
    "                single_row_backup = copy.copy(single_row)\n",
    "                single_row_backup['topic_relate_analysis'] = single_topic[\"topic_relate_analysis\"]\n",
    "                single_row_backup['reasonable_topic'] = single_topic[\"reasonable_topic\"]\n",
    "                single_row_backup['confidence'] = single_topic[\"confidence\"]\n",
    "                \n",
    "                if results.__len__() == 1:\n",
    "                    expand_list.append(single_row_backup)\n",
    "                elif results.__len__() > 1:\n",
    "                    if single_topic[\"reasonable_topic\"] != \"其他\":\n",
    "                        expand_list.append(single_row_backup)\n",
    "                    else:\n",
    "                        continue\n",
    "                    \n",
    "    print(f\"扩展之后的数据条数： {len(expand_list)}\")\n",
    "    return pd.DataFrame(expand_list)\n",
    "            \n",
    "            "
   ]
  },
  {
   "cell_type": "markdown",
   "id": "10d78397-ea84-46e6-a762-1cf5d6f1c655",
   "metadata": {
    "tags": []
   },
   "source": [
    "# 读取分类体系的标签定义"
   ]
  },
  {
   "cell_type": "code",
   "execution_count": 55,
   "id": "f7bc5668-3b55-447a-aa2e-db09eda62734",
   "metadata": {
    "tags": []
   },
   "outputs": [
    {
     "data": {
      "text/plain": [
       "{'纯招聘类': '纯招聘类是指以招聘职位，职位描述，薪资，待遇，要求等。也包括招聘工人。',\n",
       " '促销广告、打折信息类': '促销广告是指为了促进销售而发布的广告，通常包括打折、赠品、抽奖等促销活动信息，打折信息类是指商家为了促销而对商品或服务进行的降价优惠活动，通常以折扣比例或具体金额的方式呈现，例如“全场8折”、“满100元减20元”等.包括有明确的折扣，价格， 优惠券， 折扣，卖多少送多少，赠品，返现，礼包）',\n",
       " '大众科普，概念解释类': '大众科普是指将专有名词或者某种概念、知识传播给广大公众，它旨在让公众理解专有名词，增加概念含义的认知。该解释是能获得群众普遍认可的，不能带有个人的主观观点和思考偏向',\n",
       " '好物推荐、直播预告类': '好物推荐是实质用户根据根据使用心得推荐一些优质的产品或服务，店铺，影音书籍等，不能有明确的打折信息， 广告促销的内容，主要围绕讲使用，购买经历，晒单，薅羊毛等。直播预告类是指提前宣传即将进行的直播活动，包括时间、主题、嘉宾等信息，吸引观众关注并提前做好准备',\n",
       " '租房售房广告': '租房售房广告是指房东、个人、开发商或中介发布的房屋的租售广告，通常包括房屋的位置、面积、租金、房屋设施等信息。',\n",
       " '灌水水贴': '小说，段子，故事分享，心情分享，明星打call，八卦讨论， 音乐，影视分享，心灵鸡汤等内容',\n",
       " '股市、债市动态': '大宗商品价格,期货行情波动播报,包括大盘 基金综述, 大盘,板块儿等以及个股的涨跌数字的堆积复述,不包括个人或者机构的点评分析',\n",
       " '公司公告': '通常是为了向员工、股东、客户或其他相关方面传达特定的信息或消息。公司官方公告可以涉及各种主题，例如公司业务、重要事件、财务状况、人员变动、政策变化、市场趋势',\n",
       " '公司财报': '公司财报是指公司在一定时间内的财务状况和经营业绩的报告，通常包括资产负债表、利润表和现金流量表等内容',\n",
       " '汽车经销商新闻': '汽车商家以及汽车相关的新闻报道，如新车上市、参数配置、销售数据以及车市动态等',\n",
       " '维修服务': '商品产品的维修服务类信息宣传相关内容',\n",
       " '提问求答鉴定类': '发表提问，求专业知识解答与物品真伪鉴定，互动交流解疑惑',\n",
       " '假冒仿制商品': '在设计、外观或功能上模仿或参照知名品牌、高端产品，但在品牌标识、材料或工艺上有所区别的商品，主要包括高仿、水货、复刻及莆田货',\n",
       " '跨境代购': '通过不同渠道进行跨境代购，例如海淘、带货、代购'}"
      ]
     },
     "execution_count": 55,
     "metadata": {},
     "output_type": "execute_result"
    }
   ],
   "source": [
    "topic_define_df = pd.read_csv('topic_define.csv')\n",
    "topic_define_dict = dict(zip(topic_define_df['topic_name'].tolist(), topic_define_df['topic_define'].tolist()))\n",
    "topic_define_dict"
   ]
  },
  {
   "cell_type": "markdown",
   "id": "32e0830c-a54b-411a-91d3-dbaf770f81df",
   "metadata": {},
   "source": [
    "# 读取数据并进行多标签打标"
   ]
  },
  {
   "cell_type": "markdown",
   "id": "7fc452f9-b776-46e4-a93d-b89f7c9afa07",
   "metadata": {
    "jp-MarkdownHeadingCollapsed": true,
    "tags": []
   },
   "source": [
    "## 假冒仿制商品处理"
   ]
  },
  {
   "cell_type": "code",
   "execution_count": 7,
   "id": "3ba41ce0-69a1-471b-9be5-b152cb9cee3f",
   "metadata": {
    "tags": []
   },
   "outputs": [
    {
     "data": {
      "text/plain": [
       "((24743, 18),\n",
       " Index(['Unnamed: 0', '序号', 'docid', '标题', '内文', '媒体名称', '版面', '出版日期', '媒体类型',\n",
       "        '作者', '情感', '聚类编号', '原文链接', '命中关键字', 'spam', 'content',\n",
       "        'detail_anlysis', 'is_recruitment'],\n",
       "       dtype='object'))"
      ]
     },
     "execution_count": 7,
     "metadata": {},
     "output_type": "execute_result"
    }
   ],
   "source": [
    "fangzhi_good_eval_res = pd.read_excel(\"./data/new_data_tag_res/假冒仿制商品验证结果.xlsx\")\n",
    "fangzhi_good_eval_res.shape, fangzhi_good_eval_res.columns"
   ]
  },
  {
   "cell_type": "code",
   "execution_count": 8,
   "id": "d2f39ff0-bb69-4fbe-8653-e4e50bd97c9d",
   "metadata": {
    "tags": []
   },
   "outputs": [
    {
     "data": {
      "text/plain": [
       "(2782, 18)"
      ]
     },
     "execution_count": 8,
     "metadata": {},
     "output_type": "execute_result"
    }
   ],
   "source": [
    "need_multi_label_tag_fangshi_good_df = fangzhi_good_eval_res[fangzhi_good_eval_res['is_recruitment']=='no']\n",
    "need_multi_label_tag_fangshi_good_df.shape"
   ]
  },
  {
   "cell_type": "code",
   "execution_count": 44,
   "id": "cbe6f031-ae52-48a5-8bcf-6c0d27ab6c2c",
   "metadata": {
    "tags": []
   },
   "outputs": [
    {
     "name": "stderr",
     "output_type": "stream",
     "text": [
      "Awaiting tasks: 100%|██████████| 200/200 [00:18<00:00, 10.67it/s]\n",
      "Awaiting tasks: 100%|██████████| 200/200 [00:51<00:00,  3.87it/s]\n",
      "Awaiting tasks: 100%|██████████| 200/200 [00:20<00:00,  9.72it/s]\n",
      "Awaiting tasks: 100%|██████████| 200/200 [00:18<00:00, 10.66it/s]\n",
      "Awaiting tasks: 100%|██████████| 199/199 [00:19<00:00, 10.01it/s]\n",
      "Awaiting tasks: 100%|██████████| 200/200 [00:48<00:00,  4.15it/s]\n",
      "Awaiting tasks: 100%|██████████| 200/200 [00:58<00:00,  3.40it/s]\n",
      "Awaiting tasks: 100%|██████████| 200/200 [00:18<00:00, 10.58it/s]\n",
      "Awaiting tasks: 100%|██████████| 200/200 [00:21<00:00,  9.33it/s]\n",
      "Awaiting tasks: 100%|██████████| 200/200 [00:17<00:00, 11.34it/s]\n",
      "Awaiting tasks: 100%|██████████| 200/200 [00:18<00:00, 10.79it/s]\n",
      "Awaiting tasks: 100%|██████████| 200/200 [00:22<00:00,  8.77it/s]\n",
      "Awaiting tasks: 100%|██████████| 200/200 [01:25<00:00,  2.34it/s]\n",
      "Awaiting tasks: 100%|██████████| 182/182 [00:50<00:00,  3.64it/s]"
     ]
    },
    {
     "name": "stdout",
     "output_type": "stream",
     "text": [
      "开始时间：2024-06-25 18:41:53.090917,  结束时间：2024-06-25 18:49:44.811048, 花费时间：0:07:51.720131s\n"
     ]
    },
    {
     "name": "stderr",
     "output_type": "stream",
     "text": [
      "\n"
     ]
    }
   ],
   "source": [
    "multi_label_tag_res = await multi_label_tag_main(\n",
    "    data=need_multi_label_tag_fangshi_good_df, \n",
    "    topic_define_dict=topic_define_dict, \n",
    "    system_template=multi_label_select_system_prompt, \n",
    "    user_template=input_user_message, \n",
    "    batch_size=200)"
   ]
  },
  {
   "cell_type": "code",
   "execution_count": 49,
   "id": "fc4dbd29-fb27-44e2-9b63-9466f86e3768",
   "metadata": {
    "tags": []
   },
   "outputs": [
    {
     "name": "stdout",
     "output_type": "stream",
     "text": [
      "origin_data_add_tag_res: (2782, 19)\n",
      "扩展之后的数据条数： 5567\n"
     ]
    }
   ],
   "source": [
    "fangzhi_goods_tag_res = parse_tag_result_and_merge_origin_data(need_multi_label_tag_fangshi_good_df, pd.DataFrame(multi_label_tag_res))\n"
   ]
  },
  {
   "cell_type": "code",
   "execution_count": 50,
   "id": "796e157b-ec02-43be-af5d-562cf11af5c9",
   "metadata": {
    "tags": []
   },
   "outputs": [
    {
     "data": {
      "text/html": [
       "<div>\n",
       "<style scoped>\n",
       "    .dataframe tbody tr th:only-of-type {\n",
       "        vertical-align: middle;\n",
       "    }\n",
       "\n",
       "    .dataframe tbody tr th {\n",
       "        vertical-align: top;\n",
       "    }\n",
       "\n",
       "    .dataframe thead th {\n",
       "        text-align: right;\n",
       "    }\n",
       "</style>\n",
       "<table border=\"1\" class=\"dataframe\">\n",
       "  <thead>\n",
       "    <tr style=\"text-align: right;\">\n",
       "      <th></th>\n",
       "      <th>Unnamed: 0</th>\n",
       "      <th>序号</th>\n",
       "      <th>docid</th>\n",
       "      <th>标题</th>\n",
       "      <th>内文</th>\n",
       "      <th>媒体名称</th>\n",
       "      <th>版面</th>\n",
       "      <th>出版日期</th>\n",
       "      <th>媒体类型</th>\n",
       "      <th>作者</th>\n",
       "      <th>...</th>\n",
       "      <th>原文链接</th>\n",
       "      <th>命中关键字</th>\n",
       "      <th>spam</th>\n",
       "      <th>content</th>\n",
       "      <th>detail_anlysis</th>\n",
       "      <th>is_recruitment</th>\n",
       "      <th>result</th>\n",
       "      <th>topic_relate_analysis</th>\n",
       "      <th>reasonable_topic</th>\n",
       "      <th>confidence</th>\n",
       "    </tr>\n",
       "  </thead>\n",
       "  <tbody>\n",
       "    <tr>\n",
       "      <th>0</th>\n",
       "      <td>1</td>\n",
       "      <td>2</td>\n",
       "      <td>3b992cfc6d39f59c0a007d0d38741994</td>\n",
       "      <td>游戏:流氓软件 平台:steam(未发售,有试玩demo) 游戏里完美复刻我们现实中安装软件...</td>\n",
       "      <td>\\n\\n   游戏:流氓软件 \\n\\n   平台:steam(未发售,有试玩demo) \\...</td>\n",
       "      <td>TapTap</td>\n",
       "      <td>动态-推荐</td>\n",
       "      <td>2024-06-10 23:59:59</td>\n",
       "      <td>论坛</td>\n",
       "      <td>平A流小碗熊</td>\n",
       "      <td>...</td>\n",
       "      <td>https://www.taptap.cn/moment/549330666517433979</td>\n",
       "      <td>复刻</td>\n",
       "      <td>True</td>\n",
       "      <td>游戏:流氓软件 平台:steam(未发售,有试玩demo) 游戏里完美复刻我们现实中安装软件...</td>\n",
       "      <td>文章描述了一款名为'流氓软件'的游戏，该游戏在Steam平台上有试玩demo但尚未正式发售。...</td>\n",
       "      <td>no</td>\n",
       "      <td>[{'topic_relate_analysis': '文章主要介绍了一款名为‘流氓软件’的...</td>\n",
       "      <td>文章主要介绍了一款名为‘流氓软件’的游戏，该游戏在Steam平台上提供试玩demo，内容涉及...</td>\n",
       "      <td>好物推荐、直播预告类</td>\n",
       "      <td>高</td>\n",
       "    </tr>\n",
       "    <tr>\n",
       "      <th>1</th>\n",
       "      <td>1</td>\n",
       "      <td>2</td>\n",
       "      <td>3b992cfc6d39f59c0a007d0d38741994</td>\n",
       "      <td>游戏:流氓软件 平台:steam(未发售,有试玩demo) 游戏里完美复刻我们现实中安装软件...</td>\n",
       "      <td>\\n\\n   游戏:流氓软件 \\n\\n   平台:steam(未发售,有试玩demo) \\...</td>\n",
       "      <td>TapTap</td>\n",
       "      <td>动态-推荐</td>\n",
       "      <td>2024-06-10 23:59:59</td>\n",
       "      <td>论坛</td>\n",
       "      <td>平A流小碗熊</td>\n",
       "      <td>...</td>\n",
       "      <td>https://www.taptap.cn/moment/549330666517433979</td>\n",
       "      <td>复刻</td>\n",
       "      <td>True</td>\n",
       "      <td>游戏:流氓软件 平台:steam(未发售,有试玩demo) 游戏里完美复刻我们现实中安装软件...</td>\n",
       "      <td>文章描述了一款名为'流氓软件'的游戏，该游戏在Steam平台上有试玩demo但尚未正式发售。...</td>\n",
       "      <td>no</td>\n",
       "      <td>[{'topic_relate_analysis': '文章主要介绍了一款名为‘流氓软件’的...</td>\n",
       "      <td>文章中虽然提到了游戏的具体内容和玩法，但同时也涉及到了现实中软件安装的陷阱和问题，这可以被视...</td>\n",
       "      <td>大众科普，概念解释类</td>\n",
       "      <td>中</td>\n",
       "    </tr>\n",
       "    <tr>\n",
       "      <th>2</th>\n",
       "      <td>4</td>\n",
       "      <td>5</td>\n",
       "      <td>df12065f96aa97888a5c376001bd9b7a</td>\n",
       "      <td>“复刻釉”究竟为何物</td>\n",
       "      <td>\\n\\n在2024年佛山陶博会、潭州陶瓷展上,有关于“复刻釉”的宣传铺天盖地,尤其在广东、江...</td>\n",
       "      <td>微信</td>\n",
       "      <td>山东地王实业集团</td>\n",
       "      <td>2024-06-10 23:59:52</td>\n",
       "      <td>微信</td>\n",
       "      <td>山东地王实业集团</td>\n",
       "      <td>...</td>\n",
       "      <td>http://mp.weixin.qq.com/s?__biz=MzA4NTcxMzkzMA...</td>\n",
       "      <td>复刻</td>\n",
       "      <td>True</td>\n",
       "      <td>“复刻釉”究竟为何物\\n\\n在2024年佛山陶博会、潭州陶瓷展上,有关于“复刻釉”的宣传铺天...</td>\n",
       "      <td>文章主要介绍了'复刻釉'瓷砖的技术和应用，描述了其生产工艺、特点以及市场反馈。文章中提到的'...</td>\n",
       "      <td>no</td>\n",
       "      <td>[{'topic_relate_analysis': '文章主要介绍了复刻釉瓷砖的技术原理、...</td>\n",
       "      <td>文章主要介绍了复刻釉瓷砖的技术原理、特点及其在陶瓷行业的应用和市场反馈。内容涉及复刻釉的定义...</td>\n",
       "      <td>大众科普，概念解释类</td>\n",
       "      <td>高</td>\n",
       "    </tr>\n",
       "    <tr>\n",
       "      <th>3</th>\n",
       "      <td>4</td>\n",
       "      <td>5</td>\n",
       "      <td>df12065f96aa97888a5c376001bd9b7a</td>\n",
       "      <td>“复刻釉”究竟为何物</td>\n",
       "      <td>\\n\\n在2024年佛山陶博会、潭州陶瓷展上,有关于“复刻釉”的宣传铺天盖地,尤其在广东、江...</td>\n",
       "      <td>微信</td>\n",
       "      <td>山东地王实业集团</td>\n",
       "      <td>2024-06-10 23:59:52</td>\n",
       "      <td>微信</td>\n",
       "      <td>山东地王实业集团</td>\n",
       "      <td>...</td>\n",
       "      <td>http://mp.weixin.qq.com/s?__biz=MzA4NTcxMzkzMA...</td>\n",
       "      <td>复刻</td>\n",
       "      <td>True</td>\n",
       "      <td>“复刻釉”究竟为何物\\n\\n在2024年佛山陶博会、潭州陶瓷展上,有关于“复刻釉”的宣传铺天...</td>\n",
       "      <td>文章主要介绍了'复刻釉'瓷砖的技术和应用，描述了其生产工艺、特点以及市场反馈。文章中提到的'...</td>\n",
       "      <td>no</td>\n",
       "      <td>[{'topic_relate_analysis': '文章主要介绍了复刻釉瓷砖的技术原理、...</td>\n",
       "      <td>虽然文章中提到了复刻釉瓷砖的生产和市场情况，但并未涉及具体的促销广告、打折信息或价格优惠等内...</td>\n",
       "      <td>其他</td>\n",
       "      <td>无</td>\n",
       "    </tr>\n",
       "    <tr>\n",
       "      <th>4</th>\n",
       "      <td>17</td>\n",
       "      <td>18</td>\n",
       "      <td>46d5daeb9adbd5d2c4acf77ab7cfe995</td>\n",
       "      <td>哇,这次概念有点意思欸,在现实生活中大家拥有复刻般的的素淡白色外貌,躺在病床上,在濒死前看着...</td>\n",
       "      <td>哇,这次概念有点意思欸,在现实生活中大家拥有复刻般的的素淡白色外貌,躺在病床上,在濒死前看着...</td>\n",
       "      <td>新浪微博</td>\n",
       "      <td>NaN</td>\n",
       "      <td>2024-06-10 23:59:20</td>\n",
       "      <td>微博</td>\n",
       "      <td>海底小甜</td>\n",
       "      <td>...</td>\n",
       "      <td>http://weibo.com/7770420064/OipbRl7Kd</td>\n",
       "      <td>复刻</td>\n",
       "      <td>True</td>\n",
       "      <td>哇,这次概念有点意思欸,在现实生活中大家拥有复刻般的的素淡白色外貌,躺在病床上,在濒死前看着...</td>\n",
       "      <td>文章描述了一个关于生死、现实与虚拟交织的场景，其中提到了'复刻般的素淡白色外貌'，但这并不是...</td>\n",
       "      <td>no</td>\n",
       "      <td>[{'topic_relate_analysis': '文章描述了一个关于生死、现实与虚拟交...</td>\n",
       "      <td>文章描述了一个关于生死、现实与虚拟交错的概念，通过病床、呼吸机、心电图仪等元素，构建了一个关...</td>\n",
       "      <td>大众科普，概念解释类</td>\n",
       "      <td>高</td>\n",
       "    </tr>\n",
       "  </tbody>\n",
       "</table>\n",
       "<p>5 rows × 22 columns</p>\n",
       "</div>"
      ],
      "text/plain": [
       "   Unnamed: 0  序号                             docid  \\\n",
       "0           1   2  3b992cfc6d39f59c0a007d0d38741994   \n",
       "1           1   2  3b992cfc6d39f59c0a007d0d38741994   \n",
       "2           4   5  df12065f96aa97888a5c376001bd9b7a   \n",
       "3           4   5  df12065f96aa97888a5c376001bd9b7a   \n",
       "4          17  18  46d5daeb9adbd5d2c4acf77ab7cfe995   \n",
       "\n",
       "                                                  标题  \\\n",
       "0  游戏:流氓软件 平台:steam(未发售,有试玩demo) 游戏里完美复刻我们现实中安装软件...   \n",
       "1  游戏:流氓软件 平台:steam(未发售,有试玩demo) 游戏里完美复刻我们现实中安装软件...   \n",
       "2                                         “复刻釉”究竟为何物   \n",
       "3                                         “复刻釉”究竟为何物   \n",
       "4  哇,这次概念有点意思欸,在现实生活中大家拥有复刻般的的素淡白色外貌,躺在病床上,在濒死前看着...   \n",
       "\n",
       "                                                  内文    媒体名称        版面  \\\n",
       "0   \\n\\n   游戏:流氓软件 \\n\\n   平台:steam(未发售,有试玩demo) \\...  TapTap     动态-推荐   \n",
       "1   \\n\\n   游戏:流氓软件 \\n\\n   平台:steam(未发售,有试玩demo) \\...  TapTap     动态-推荐   \n",
       "2  \\n\\n在2024年佛山陶博会、潭州陶瓷展上,有关于“复刻釉”的宣传铺天盖地,尤其在广东、江...      微信  山东地王实业集团   \n",
       "3  \\n\\n在2024年佛山陶博会、潭州陶瓷展上,有关于“复刻釉”的宣传铺天盖地,尤其在广东、江...      微信  山东地王实业集团   \n",
       "4  哇,这次概念有点意思欸,在现实生活中大家拥有复刻般的的素淡白色外貌,躺在病床上,在濒死前看着...    新浪微博       NaN   \n",
       "\n",
       "                  出版日期 媒体类型        作者  ...  \\\n",
       "0  2024-06-10 23:59:59   论坛    平A流小碗熊  ...   \n",
       "1  2024-06-10 23:59:59   论坛    平A流小碗熊  ...   \n",
       "2  2024-06-10 23:59:52   微信  山东地王实业集团  ...   \n",
       "3  2024-06-10 23:59:52   微信  山东地王实业集团  ...   \n",
       "4  2024-06-10 23:59:20   微博      海底小甜  ...   \n",
       "\n",
       "                                                原文链接 命中关键字  spam  \\\n",
       "0    https://www.taptap.cn/moment/549330666517433979    复刻  True   \n",
       "1    https://www.taptap.cn/moment/549330666517433979    复刻  True   \n",
       "2  http://mp.weixin.qq.com/s?__biz=MzA4NTcxMzkzMA...    复刻  True   \n",
       "3  http://mp.weixin.qq.com/s?__biz=MzA4NTcxMzkzMA...    复刻  True   \n",
       "4              http://weibo.com/7770420064/OipbRl7Kd    复刻  True   \n",
       "\n",
       "                                             content  \\\n",
       "0  游戏:流氓软件 平台:steam(未发售,有试玩demo) 游戏里完美复刻我们现实中安装软件...   \n",
       "1  游戏:流氓软件 平台:steam(未发售,有试玩demo) 游戏里完美复刻我们现实中安装软件...   \n",
       "2  “复刻釉”究竟为何物\\n\\n在2024年佛山陶博会、潭州陶瓷展上,有关于“复刻釉”的宣传铺天...   \n",
       "3  “复刻釉”究竟为何物\\n\\n在2024年佛山陶博会、潭州陶瓷展上,有关于“复刻釉”的宣传铺天...   \n",
       "4  哇,这次概念有点意思欸,在现实生活中大家拥有复刻般的的素淡白色外貌,躺在病床上,在濒死前看着...   \n",
       "\n",
       "                                      detail_anlysis is_recruitment  \\\n",
       "0  文章描述了一款名为'流氓软件'的游戏，该游戏在Steam平台上有试玩demo但尚未正式发售。...             no   \n",
       "1  文章描述了一款名为'流氓软件'的游戏，该游戏在Steam平台上有试玩demo但尚未正式发售。...             no   \n",
       "2  文章主要介绍了'复刻釉'瓷砖的技术和应用，描述了其生产工艺、特点以及市场反馈。文章中提到的'...             no   \n",
       "3  文章主要介绍了'复刻釉'瓷砖的技术和应用，描述了其生产工艺、特点以及市场反馈。文章中提到的'...             no   \n",
       "4  文章描述了一个关于生死、现实与虚拟交织的场景，其中提到了'复刻般的素淡白色外貌'，但这并不是...             no   \n",
       "\n",
       "                                              result  \\\n",
       "0  [{'topic_relate_analysis': '文章主要介绍了一款名为‘流氓软件’的...   \n",
       "1  [{'topic_relate_analysis': '文章主要介绍了一款名为‘流氓软件’的...   \n",
       "2  [{'topic_relate_analysis': '文章主要介绍了复刻釉瓷砖的技术原理、...   \n",
       "3  [{'topic_relate_analysis': '文章主要介绍了复刻釉瓷砖的技术原理、...   \n",
       "4  [{'topic_relate_analysis': '文章描述了一个关于生死、现实与虚拟交...   \n",
       "\n",
       "                               topic_relate_analysis reasonable_topic  \\\n",
       "0  文章主要介绍了一款名为‘流氓软件’的游戏，该游戏在Steam平台上提供试玩demo，内容涉及...       好物推荐、直播预告类   \n",
       "1  文章中虽然提到了游戏的具体内容和玩法，但同时也涉及到了现实中软件安装的陷阱和问题，这可以被视...       大众科普，概念解释类   \n",
       "2  文章主要介绍了复刻釉瓷砖的技术原理、特点及其在陶瓷行业的应用和市场反馈。内容涉及复刻釉的定义...       大众科普，概念解释类   \n",
       "3  虽然文章中提到了复刻釉瓷砖的生产和市场情况，但并未涉及具体的促销广告、打折信息或价格优惠等内...               其他   \n",
       "4  文章描述了一个关于生死、现实与虚拟交错的概念，通过病床、呼吸机、心电图仪等元素，构建了一个关...       大众科普，概念解释类   \n",
       "\n",
       "  confidence  \n",
       "0          高  \n",
       "1          中  \n",
       "2          高  \n",
       "3          无  \n",
       "4          高  \n",
       "\n",
       "[5 rows x 22 columns]"
      ]
     },
     "execution_count": 50,
     "metadata": {},
     "output_type": "execute_result"
    }
   ],
   "source": [
    "fangzhi_goods_tag_res.head()"
   ]
  },
  {
   "cell_type": "code",
   "execution_count": 51,
   "id": "50ae8fbb-f0c9-475c-aaba-b059517ffeb3",
   "metadata": {
    "tags": []
   },
   "outputs": [],
   "source": [
    "fangzhi_goods_tag_res.to_excel(\"./data/new_data_tag_res/仿货混淆数据.xlsx\", index=False)"
   ]
  },
  {
   "cell_type": "markdown",
   "id": "61ec4b48-35a5-4540-beb0-9dafcc5e015a",
   "metadata": {
    "tags": []
   },
   "source": [
    "## 维修数据处理"
   ]
  },
  {
   "cell_type": "code",
   "execution_count": 53,
   "id": "cfd34410-52b9-48aa-b970-4c75137f5364",
   "metadata": {
    "tags": []
   },
   "outputs": [
    {
     "data": {
      "text/plain": [
       "((13136, 17),\n",
       " Index(['docid', '标题', '内文', '媒体名称', '版面', '出版日期', '媒体类型', '作者', '情感', '聚类编号',\n",
       "        '原文链接', '命中关键字', 'spam', 'content', 'detail_anlysis', 'is_belong',\n",
       "        'sign'],\n",
       "       dtype='object'))"
      ]
     },
     "execution_count": 53,
     "metadata": {},
     "output_type": "execute_result"
    }
   ],
   "source": [
    "fix_service_eval_res = pd.read_excel(\"./data/new_data_tag_res/维修服务验证结果.xlsx\")\n",
    "fix_service_eval_res.shape, fix_service_eval_res.columns"
   ]
  },
  {
   "cell_type": "code",
   "execution_count": 54,
   "id": "03e44a0d-983e-4010-89a7-30d0c06ef6f5",
   "metadata": {
    "tags": []
   },
   "outputs": [
    {
     "data": {
      "text/plain": [
       "(11263, 17)"
      ]
     },
     "execution_count": 54,
     "metadata": {},
     "output_type": "execute_result"
    }
   ],
   "source": [
    "need_multi_label_tag_fix_service_df = fix_service_eval_res[fix_service_eval_res['is_belong']=='no']\n",
    "need_multi_label_tag_fix_service_df.shape"
   ]
  },
  {
   "cell_type": "code",
   "execution_count": 68,
   "id": "290f59d2-a2a4-42a0-91f0-8ce5a59231c2",
   "metadata": {
    "tags": []
   },
   "outputs": [
    {
     "data": {
      "text/plain": [
       "'\\n\\n    我为你提供了详细的文章类型的定义，请理解每个类型的含义，\\n    类型定义: {{possible_topic_info}}\\n    \\n    然后对以下输入的文章进行分析梳理，根据你分析的结果判断文章属于那个文章类型.\\n    分析文章选择合理类型时要注意的是：\\n        1、充分理解每个类型的定义\\n        2、在处理复杂上下文时，要充分理解上下文再做出判断\\n        3、避免关键词误导，不要因为聚焦在关键词上给错误的结果\\n        4、文章类型可以通过以下格式输出多个,但是必须符合类型定义\\n\\n    通过以下json格式输出结果：\\n    {\\n        \"result\": [\\n            {\\n                \"topic_relate_analysis\":\"选择得到合理文章类型的分析过程\",\\n                \"reasonable_topic\": \"第一个合理文章类型的名称，如果没有合理的类型，则设置为 其他 \",\\n                \"confidence\": \"你对判断结果的置信度级别(高, 中, 低, 无), 只能从中选择,无表示不相关，低表示较低相关度,高表示高相关度\"\\n            },\\n            {\\n                \"topic_relate_analysis\":\"选择得到合理文章类型的分析过程\",\\n                \"reasonable_topic\": \"第二个合理的文章类型名称，如果没有合理的类型，则设置为 其他 \",\\n                \"confidence\": \"你对判断结果的置信度级别(高, 中, 低, 无), 只能从中选择,无表示不相关，低表示较低相关度,高表示高相关度\"\\n            }\\n        ]\\n    }\\n    \\n'"
      ]
     },
     "execution_count": 68,
     "metadata": {},
     "output_type": "execute_result"
    }
   ],
   "source": [
    "multi_label_select_system_prompt"
   ]
  },
  {
   "cell_type": "code",
   "execution_count": 59,
   "id": "8ee1dfbe-1f4e-4321-aaf4-7f0072d4cea7",
   "metadata": {
    "tags": []
   },
   "outputs": [
    {
     "name": "stderr",
     "output_type": "stream",
     "text": [
      "Awaiting tasks: 100%|██████████| 200/200 [00:20<00:00,  9.89it/s]\n",
      "Awaiting tasks: 100%|██████████| 200/200 [00:17<00:00, 11.63it/s]\n",
      "Awaiting tasks: 100%|██████████| 200/200 [00:17<00:00, 11.40it/s]\n",
      "Awaiting tasks: 100%|██████████| 200/200 [00:47<00:00,  4.22it/s]\n",
      "Awaiting tasks: 100%|██████████| 200/200 [00:18<00:00, 11.03it/s]\n",
      "Awaiting tasks: 100%|██████████| 200/200 [00:24<00:00,  8.25it/s]\n",
      "Awaiting tasks: 100%|██████████| 200/200 [00:20<00:00,  9.73it/s]\n",
      "Awaiting tasks: 100%|██████████| 200/200 [00:40<00:00,  4.88it/s]\n",
      "Awaiting tasks: 100%|██████████| 200/200 [00:20<00:00,  9.90it/s]\n",
      "Awaiting tasks: 100%|██████████| 200/200 [00:16<00:00, 11.93it/s]\n",
      "Awaiting tasks:  58%|█████▊    | 116/200 [00:12<00:01, 50.96it/s]"
     ]
    },
    {
     "name": "stdout",
     "output_type": "stream",
     "text": [
      "Expecting ',' delimiter: line 4 column 60 (char 87)\n"
     ]
    },
    {
     "name": "stderr",
     "output_type": "stream",
     "text": [
      "Awaiting tasks: 100%|██████████| 200/200 [00:17<00:00, 11.55it/s]\n",
      "Awaiting tasks: 100%|██████████| 200/200 [00:17<00:00, 11.18it/s]\n",
      "Awaiting tasks: 100%|██████████| 200/200 [00:15<00:00, 13.06it/s]\n",
      "Awaiting tasks: 100%|██████████| 200/200 [00:50<00:00,  3.99it/s]\n",
      "Awaiting tasks: 100%|██████████| 200/200 [00:17<00:00, 11.70it/s]\n",
      "Awaiting tasks: 100%|██████████| 200/200 [00:17<00:00, 11.67it/s]\n",
      "Awaiting tasks: 100%|██████████| 200/200 [00:21<00:00,  9.15it/s]\n",
      "Awaiting tasks: 100%|██████████| 200/200 [00:17<00:00, 11.70it/s]\n",
      "Awaiting tasks: 100%|██████████| 200/200 [00:20<00:00,  9.96it/s]\n",
      "Awaiting tasks: 100%|██████████| 200/200 [00:23<00:00,  8.37it/s]\n",
      "Awaiting tasks:   0%|          | 1/200 [00:01<04:33,  1.37s/it]"
     ]
    },
    {
     "name": "stdout",
     "output_type": "stream",
     "text": [
      "******* response *******\n",
      " Error code: 400 - {'detail': 'Content Exists Risk'} ERROR\n",
      "'NoneType' object is not subscriptable\n"
     ]
    },
    {
     "name": "stderr",
     "output_type": "stream",
     "text": [
      "Awaiting tasks: 100%|██████████| 200/200 [00:16<00:00, 11.93it/s]\n",
      "Awaiting tasks: 100%|██████████| 200/200 [00:17<00:00, 11.49it/s]\n",
      "Awaiting tasks: 100%|██████████| 200/200 [00:19<00:00, 10.28it/s]\n",
      "Awaiting tasks: 100%|██████████| 200/200 [00:16<00:00, 12.17it/s]\n",
      "Awaiting tasks: 100%|██████████| 200/200 [00:59<00:00,  3.34it/s]\n",
      "Awaiting tasks: 100%|██████████| 200/200 [00:19<00:00, 10.06it/s]\n",
      "Awaiting tasks: 100%|██████████| 200/200 [00:25<00:00,  7.90it/s]\n",
      "Awaiting tasks: 100%|██████████| 200/200 [00:17<00:00, 11.52it/s]\n",
      "Awaiting tasks: 100%|██████████| 200/200 [03:29<00:00,  1.05s/it]\n",
      "Awaiting tasks:   0%|          | 0/200 [00:00<?, ?it/s]"
     ]
    },
    {
     "name": "stdout",
     "output_type": "stream",
     "text": [
      "Expecting ',' delimiter: line 252 column 10 (char 10415)\n"
     ]
    },
    {
     "name": "stderr",
     "output_type": "stream",
     "text": [
      "Awaiting tasks: 100%|██████████| 200/200 [00:48<00:00,  4.10it/s]\n",
      "Awaiting tasks: 100%|██████████| 200/200 [00:24<00:00,  8.23it/s]\n",
      "Awaiting tasks: 100%|██████████| 200/200 [00:17<00:00, 11.25it/s]\n",
      "Awaiting tasks: 100%|██████████| 200/200 [00:15<00:00, 13.19it/s]\n",
      "Awaiting tasks: 100%|██████████| 200/200 [00:19<00:00, 10.08it/s]\n",
      "Awaiting tasks: 100%|██████████| 200/200 [00:17<00:00, 11.49it/s]\n",
      "Awaiting tasks: 100%|██████████| 200/200 [00:18<00:00, 11.06it/s]\n",
      "Awaiting tasks: 100%|██████████| 200/200 [00:51<00:00,  3.89it/s]\n",
      "Awaiting tasks: 100%|██████████| 200/200 [00:17<00:00, 11.71it/s]\n",
      "Awaiting tasks: 100%|██████████| 200/200 [00:19<00:00, 10.05it/s]\n",
      "Awaiting tasks: 100%|██████████| 200/200 [00:15<00:00, 12.92it/s]\n",
      "Awaiting tasks: 100%|██████████| 200/200 [00:16<00:00, 11.91it/s]\n",
      "Awaiting tasks: 100%|██████████| 200/200 [00:26<00:00,  7.69it/s]\n",
      "Awaiting tasks: 100%|██████████| 200/200 [00:16<00:00, 11.96it/s]\n",
      "Awaiting tasks: 100%|██████████| 200/200 [00:16<00:00, 12.27it/s]\n",
      "Awaiting tasks: 100%|██████████| 200/200 [00:20<00:00,  9.67it/s]\n",
      "Awaiting tasks: 100%|██████████| 200/200 [00:15<00:00, 13.11it/s]\n",
      "Awaiting tasks: 100%|██████████| 200/200 [00:16<00:00, 12.08it/s]\n",
      "Awaiting tasks: 100%|██████████| 200/200 [00:16<00:00, 11.93it/s]\n",
      "Awaiting tasks:  58%|█████▊    | 117/200 [00:14<00:02, 40.23it/s]"
     ]
    },
    {
     "name": "stdout",
     "output_type": "stream",
     "text": [
      "Expecting ',' delimiter: line 4 column 49 (char 76)\n"
     ]
    },
    {
     "name": "stderr",
     "output_type": "stream",
     "text": [
      "Awaiting tasks: 100%|██████████| 200/200 [00:19<00:00, 10.16it/s]\n",
      "Awaiting tasks: 100%|██████████| 200/200 [00:16<00:00, 12.04it/s]\n",
      "Awaiting tasks: 100%|██████████| 200/200 [00:17<00:00, 11.76it/s]\n",
      "Awaiting tasks: 100%|██████████| 200/200 [00:27<00:00,  7.18it/s]\n",
      "Awaiting tasks: 100%|██████████| 200/200 [00:18<00:00, 10.91it/s]\n",
      "Awaiting tasks: 100%|██████████| 200/200 [00:17<00:00, 11.65it/s]\n",
      "Awaiting tasks: 100%|██████████| 200/200 [00:24<00:00,  8.05it/s]\n",
      "Awaiting tasks: 100%|██████████| 200/200 [00:17<00:00, 11.25it/s]\n",
      "Awaiting tasks: 100%|██████████| 63/63 [00:15<00:00,  4.10it/s]"
     ]
    },
    {
     "name": "stdout",
     "output_type": "stream",
     "text": [
      "开始时间：2024-06-26 11:46:58.085161,  结束时间：2024-06-26 12:11:06.634591, 花费时间：0:24:08.549430s\n"
     ]
    },
    {
     "name": "stderr",
     "output_type": "stream",
     "text": [
      "\n"
     ]
    }
   ],
   "source": [
    "fix_service_multi_label_tag_res = await multi_label_tag_main(\n",
    "    data=need_multi_label_tag_fix_service_df, \n",
    "    topic_define_dict=topic_define_dict, \n",
    "    system_template=multi_label_select_system_prompt, \n",
    "    user_template=input_user_message, \n",
    "    batch_size=200\n",
    ")"
   ]
  },
  {
   "cell_type": "code",
   "execution_count": 60,
   "id": "f4d1eaa2-3971-4b94-96d4-85d97d24d2ec",
   "metadata": {
    "tags": []
   },
   "outputs": [
    {
     "data": {
      "text/plain": [
       "11259"
      ]
     },
     "execution_count": 60,
     "metadata": {},
     "output_type": "execute_result"
    }
   ],
   "source": [
    "fix_service_multi_label_tag_res.__len__()"
   ]
  },
  {
   "cell_type": "code",
   "execution_count": 66,
   "id": "d5ff3676-826b-4dd8-bdfb-dc15fd2c6bea",
   "metadata": {
    "tags": []
   },
   "outputs": [
    {
     "name": "stdout",
     "output_type": "stream",
     "text": [
      "origin_data_add_tag_res: (11263, 18)\n",
      "扩展之后的数据条数： 18473\n"
     ]
    }
   ],
   "source": [
    "fix_service_add_multi_label_df = parse_tag_result_and_merge_origin_data(need_multi_label_tag_fix_service_df, pd.DataFrame(fix_service_multi_label_tag_res))\n"
   ]
  },
  {
   "cell_type": "code",
   "execution_count": 67,
   "id": "8335184e-3836-4491-8dd0-1b65c66d2028",
   "metadata": {
    "tags": []
   },
   "outputs": [],
   "source": [
    "fix_service_add_multi_label_df.to_excel(\"./data/new_data_tag_res/维修混淆数据.xlsx\", index=False)"
   ]
  },
  {
   "cell_type": "markdown",
   "id": "fcbcc101-9a57-46ec-86ec-564ee9728fdf",
   "metadata": {
    "tags": []
   },
   "source": [
    "# 跨境代购  多标签打标"
   ]
  },
  {
   "cell_type": "code",
   "execution_count": 70,
   "id": "7e6268c9-b3cb-43b6-85e4-c3d3937876ca",
   "metadata": {
    "tags": []
   },
   "outputs": [],
   "source": [
    "cross_border_eval_res = pd.read_excel(\"./data/new_data_tag_res/跨境代购验证结果.xlsx\")"
   ]
  },
  {
   "cell_type": "code",
   "execution_count": 71,
   "id": "d832ed85-86db-4c3d-bdbb-bc824a8d0dc5",
   "metadata": {
    "tags": []
   },
   "outputs": [
    {
     "data": {
      "text/plain": [
       "(9764, 22)"
      ]
     },
     "execution_count": 71,
     "metadata": {},
     "output_type": "execute_result"
    }
   ],
   "source": [
    "need_multi_label_tag_cross_border_df = cross_border_eval_res[cross_border_eval_res['is_belong']=='no']\n",
    "need_multi_label_tag_cross_border_df.shape"
   ]
  },
  {
   "cell_type": "code",
   "execution_count": 99,
   "id": "01bcfe07-98ed-49fc-9593-d8731942f9f8",
   "metadata": {
    "tags": []
   },
   "outputs": [
    {
     "name": "stderr",
     "output_type": "stream",
     "text": [
      "Awaiting tasks:   2%|▎         | 5/200 [00:04<10:28,  3.22s/it]"
     ]
    },
    {
     "name": "stdout",
     "output_type": "stream",
     "text": [
      "******* response *******\n",
      " <html>\n",
      "<head><title>502 Bad Gateway</title></head>\n",
      "<body>\n",
      "<center><h1>502 Bad Gateway</h1></center>\n",
      "<hr><center>nginx</center>\n",
      "</body>\n",
      "</html> ERROR\n",
      "'NoneType' object is not subscriptable\n",
      "******* response *******\n",
      " <html>\n",
      "<head><title>502 Bad Gateway</title></head>\n",
      "<body>\n",
      "<center><h1>502 Bad Gateway</h1></center>\n",
      "<hr><center>nginx</center>\n",
      "</body>\n",
      "</html> ERROR\n",
      "'NoneType' object is not subscriptable\n",
      "******* response *******\n",
      " <html>\n",
      "<head><title>502 Bad Gateway</title></head>\n",
      "<body>\n",
      "<center><h1>502 Bad Gateway</h1></center>\n",
      "<hr><center>nginx</center>\n",
      "</body>\n",
      "</html> ERROR\n",
      "'NoneType' object is not subscriptable\n",
      "******* response *******\n",
      " <html>\n",
      "<head><title>502 Bad Gateway</title></head>\n",
      "<body>\n",
      "<center><h1>502 Bad Gateway</h1></center>\n",
      "<hr><center>nginx</center>\n",
      "</body>\n",
      "</html> ERROR\n",
      "'NoneType' object is not subscriptable\n",
      "******* response *******\n",
      " <html>\n",
      "<head><title>502 Bad Gateway</title></head>\n",
      "<body>\n",
      "<center><h1>502 Bad Gateway</h1></center>\n",
      "<hr><center>nginx</center>\n",
      "</body>\n",
      "</html> ERROR\n",
      "'NoneType' object is not subscriptable\n"
     ]
    },
    {
     "name": "stderr",
     "output_type": "stream",
     "text": [
      "Awaiting tasks:   4%|▍         | 9/200 [00:04<05:08,  1.62s/it]"
     ]
    },
    {
     "name": "stdout",
     "output_type": "stream",
     "text": [
      "******* response *******\n",
      " <html>\n",
      "<head><title>502 Bad Gateway</title></head>\n",
      "<body>\n",
      "<center><h1>502 Bad Gateway</h1></center>\n",
      "<hr><center>nginx</center>\n",
      "</body>\n",
      "</html> ERROR\n",
      "'NoneType' object is not subscriptable\n",
      "******* response *******\n",
      " <html>\n",
      "<head><title>502 Bad Gateway</title></head>\n",
      "<body>\n",
      "<center><h1>502 Bad Gateway</h1></center>\n",
      "<hr><center>nginx</center>\n",
      "</body>\n",
      "</html> ERROR\n",
      "'NoneType' object is not subscriptable\n",
      "******* response *******\n",
      " <html>\n",
      "<head><title>502 Bad Gateway</title></head>\n",
      "<body>\n",
      "<center><h1>502 Bad Gateway</h1></center>\n",
      "<hr><center>nginx</center>\n",
      "</body>\n",
      "</html> ERROR\n",
      "'NoneType' object is not subscriptable\n",
      "******* response *******\n",
      " <html>\n",
      "<head><title>502 Bad Gateway</title></head>\n",
      "<body>\n",
      "<center><h1>502 Bad Gateway</h1></center>\n",
      "<hr><center>nginx</center>\n",
      "</body>\n",
      "</html> ERROR\n",
      "'NoneType' object is not subscriptable\n",
      "******* response *******\n",
      " <html>\n",
      "<head><title>502 Bad Gateway</title></head>\n",
      "<body>\n",
      "<center><h1>502 Bad Gateway</h1></center>\n",
      "<hr><center>nginx</center>\n",
      "</body>\n",
      "</html> ERROR\n",
      "'NoneType' object is not subscriptable\n"
     ]
    },
    {
     "name": "stderr",
     "output_type": "stream",
     "text": [
      "Awaiting tasks:   6%|▌         | 12/200 [00:05<03:37,  1.16s/it]"
     ]
    },
    {
     "name": "stdout",
     "output_type": "stream",
     "text": [
      "******* response *******\n",
      " <html>\n",
      "<head><title>502 Bad Gateway</title></head>\n",
      "<body>\n",
      "<center><h1>502 Bad Gateway</h1></center>\n",
      "<hr><center>nginx</center>\n",
      "</body>\n",
      "</html> ERROR\n",
      "'NoneType' object is not subscriptable\n",
      "******* response *******\n",
      " <html>\n",
      "<head><title>502 Bad Gateway</title></head>\n",
      "<body>\n",
      "<center><h1>502 Bad Gateway</h1></center>\n",
      "<hr><center>nginx</center>\n",
      "</body>\n",
      "</html> ERROR\n",
      "'NoneType' object is not subscriptable\n",
      "******* response *******\n",
      " <html>\n",
      "<head><title>502 Bad Gateway</title></head>\n",
      "<body>\n",
      "<center><h1>502 Bad Gateway</h1></center>\n",
      "<hr><center>nginx</center>\n",
      "</body>\n",
      "</html> ERROR\n",
      "'NoneType' object is not subscriptable\n"
     ]
    },
    {
     "name": "stderr",
     "output_type": "stream",
     "text": [
      "Awaiting tasks:   7%|▋         | 14/200 [00:05<02:41,  1.15it/s]"
     ]
    },
    {
     "name": "stdout",
     "output_type": "stream",
     "text": [
      "******* response *******\n",
      " <html>\n",
      "<head><title>502 Bad Gateway</title></head>\n",
      "<body>\n",
      "<center><h1>502 Bad Gateway</h1></center>\n",
      "<hr><center>nginx</center>\n",
      "</body>\n",
      "</html> ERROR\n",
      "'NoneType' object is not subscriptable\n"
     ]
    },
    {
     "name": "stderr",
     "output_type": "stream",
     "text": [
      "Awaiting tasks: 100%|██████████| 200/200 [00:21<00:00,  9.31it/s]\n",
      "Awaiting tasks:   0%|          | 1/200 [00:04<13:53,  4.19s/it]"
     ]
    },
    {
     "name": "stdout",
     "output_type": "stream",
     "text": [
      "******* response *******\n",
      " <html>\n",
      "<head><title>502 Bad Gateway</title></head>\n",
      "<body>\n",
      "<center><h1>502 Bad Gateway</h1></center>\n",
      "<hr><center>nginx</center>\n",
      "</body>\n",
      "</html> ERROR\n",
      "'NoneType' object is not subscriptable\n",
      "******* response *******\n",
      " <html>\n",
      "<head><title>502 Bad Gateway</title></head>\n",
      "<body>\n",
      "<center><h1>502 Bad Gateway</h1></center>\n",
      "<hr><center>nginx</center>\n",
      "</body>\n",
      "</html> ERROR\n",
      "'NoneType' object is not subscriptable\n",
      "******* response *******\n",
      " <html>\n",
      "<head><title>502 Bad Gateway</title></head>\n",
      "<body>\n",
      "<center><h1>502 Bad Gateway</h1></center>\n",
      "<hr><center>nginx</center>\n",
      "</body>\n",
      "</html> ERROR\n",
      "'NoneType' object is not subscriptable\n"
     ]
    },
    {
     "name": "stderr",
     "output_type": "stream",
     "text": [
      "Awaiting tasks:   2%|▏         | 3/200 [00:04<09:43,  2.96s/it]"
     ]
    },
    {
     "name": "stdout",
     "output_type": "stream",
     "text": [
      "******* response *******\n",
      " <html>\n",
      "<head><title>502 Bad Gateway</title></head>\n",
      "<body>\n",
      "<center><h1>502 Bad Gateway</h1></center>\n",
      "<hr><center>nginx</center>\n",
      "</body>\n",
      "</html> ERROR\n",
      "'NoneType' object is not subscriptable\n"
     ]
    },
    {
     "name": "stderr",
     "output_type": "stream",
     "text": [
      "Awaiting tasks:   2%|▎         | 5/200 [00:04<06:52,  2.12s/it]"
     ]
    },
    {
     "name": "stdout",
     "output_type": "stream",
     "text": [
      "******* response *******\n",
      " <html>\n",
      "<head><title>502 Bad Gateway</title></head>\n",
      "<body>\n",
      "<center><h1>502 Bad Gateway</h1></center>\n",
      "<hr><center>nginx</center>\n",
      "</body>\n",
      "</html> ERROR\n",
      "'NoneType' object is not subscriptable\n",
      "******* response *******\n",
      " <html>\n",
      "<head><title>502 Bad Gateway</title></head>\n",
      "<body>\n",
      "<center><h1>502 Bad Gateway</h1></center>\n",
      "<hr><center>nginx</center>\n",
      "</body>\n",
      "</html> ERROR\n",
      "'NoneType' object is not subscriptable\n",
      "******* response *******\n",
      " <html>\n",
      "<head><title>502 Bad Gateway</title></head>\n",
      "<body>\n",
      "<center><h1>502 Bad Gateway</h1></center>\n",
      "<hr><center>nginx</center>\n",
      "</body>\n",
      "</html> ERROR\n",
      "'NoneType' object is not subscriptable\n"
     ]
    },
    {
     "name": "stderr",
     "output_type": "stream",
     "text": [
      "Awaiting tasks: 100%|██████████| 200/200 [00:43<00:00,  4.63it/s]\n",
      "Awaiting tasks: 100%|██████████| 200/200 [00:24<00:00,  8.11it/s]\n",
      "Awaiting tasks: 100%|██████████| 200/200 [00:18<00:00, 11.01it/s]\n",
      "Awaiting tasks:   0%|          | 1/200 [00:04<13:42,  4.13s/it]"
     ]
    },
    {
     "name": "stdout",
     "output_type": "stream",
     "text": [
      "******* response *******\n",
      " <html>\n",
      "<head><title>502 Bad Gateway</title></head>\n",
      "<body>\n",
      "<center><h1>502 Bad Gateway</h1></center>\n",
      "<hr><center>nginx</center>\n",
      "</body>\n",
      "</html> ERROR\n",
      "'NoneType' object is not subscriptable\n"
     ]
    },
    {
     "name": "stderr",
     "output_type": "stream",
     "text": [
      "Awaiting tasks:   2%|▏         | 3/200 [00:04<07:03,  2.15s/it]"
     ]
    },
    {
     "name": "stdout",
     "output_type": "stream",
     "text": [
      "******* response *******\n",
      " <html>\n",
      "<head><title>502 Bad Gateway</title></head>\n",
      "<body>\n",
      "<center><h1>502 Bad Gateway</h1></center>\n",
      "<hr><center>nginx</center>\n",
      "</body>\n",
      "</html> ERROR\n",
      "'NoneType' object is not subscriptable\n",
      "******* response *******\n",
      " <html>\n",
      "<head><title>502 Bad Gateway</title></head>\n",
      "<body>\n",
      "<center><h1>502 Bad Gateway</h1></center>\n",
      "<hr><center>nginx</center>\n",
      "</body>\n",
      "</html> ERROR\n",
      "'NoneType' object is not subscriptable\n"
     ]
    },
    {
     "name": "stderr",
     "output_type": "stream",
     "text": [
      "Awaiting tasks:   2%|▏         | 4/200 [00:04<05:07,  1.57s/it]"
     ]
    },
    {
     "name": "stdout",
     "output_type": "stream",
     "text": [
      "******* response *******\n",
      " <html>\n",
      "<head><title>502 Bad Gateway</title></head>\n",
      "<body>\n",
      "<center><h1>502 Bad Gateway</h1></center>\n",
      "<hr><center>nginx</center>\n",
      "</body>\n",
      "</html> ERROR\n",
      "'NoneType' object is not subscriptable\n"
     ]
    },
    {
     "name": "stderr",
     "output_type": "stream",
     "text": [
      "Awaiting tasks: 100%|██████████| 200/200 [00:27<00:00,  7.22it/s]\n",
      "Awaiting tasks:   0%|          | 1/200 [00:04<15:14,  4.60s/it]"
     ]
    },
    {
     "name": "stdout",
     "output_type": "stream",
     "text": [
      "******* response *******\n",
      " <html>\n",
      "<head><title>502 Bad Gateway</title></head>\n",
      "<body>\n",
      "<center><h1>502 Bad Gateway</h1></center>\n",
      "<hr><center>nginx</center>\n",
      "</body>\n",
      "</html> ERROR\n",
      "'NoneType' object is not subscriptable\n"
     ]
    },
    {
     "name": "stderr",
     "output_type": "stream",
     "text": [
      "Awaiting tasks:   1%|          | 2/200 [00:05<11:04,  3.36s/it]"
     ]
    },
    {
     "name": "stdout",
     "output_type": "stream",
     "text": [
      "******* response *******\n",
      " <html>\n",
      "<head><title>502 Bad Gateway</title></head>\n",
      "<body>\n",
      "<center><h1>502 Bad Gateway</h1></center>\n",
      "<hr><center>nginx</center>\n",
      "</body>\n",
      "</html> ERROR\n",
      "'NoneType' object is not subscriptable\n"
     ]
    },
    {
     "name": "stderr",
     "output_type": "stream",
     "text": [
      "Awaiting tasks: 100%|██████████| 200/200 [00:18<00:00, 10.94it/s]\n",
      "Awaiting tasks: 100%|██████████| 200/200 [00:22<00:00,  9.08it/s]\n",
      "Awaiting tasks: 100%|██████████| 200/200 [00:59<00:00,  3.36it/s]\n",
      "Awaiting tasks: 100%|██████████| 200/200 [00:17<00:00, 11.28it/s]\n",
      "Awaiting tasks: 100%|██████████| 200/200 [00:19<00:00, 10.32it/s]\n",
      "Awaiting tasks: 100%|██████████| 200/200 [00:19<00:00, 10.02it/s]\n",
      "Awaiting tasks: 100%|██████████| 200/200 [00:17<00:00, 11.20it/s]\n",
      "Awaiting tasks: 100%|██████████| 200/200 [00:19<00:00, 10.46it/s]\n",
      "Awaiting tasks: 100%|██████████| 200/200 [00:18<00:00, 10.56it/s]\n",
      "Awaiting tasks: 100%|██████████| 200/200 [00:18<00:00, 10.58it/s]\n",
      "Awaiting tasks: 100%|██████████| 200/200 [00:23<00:00,  8.61it/s]\n",
      "Awaiting tasks: 100%|██████████| 200/200 [00:17<00:00, 11.58it/s]\n",
      "Awaiting tasks: 100%|██████████| 200/200 [00:16<00:00, 12.25it/s]\n",
      "Awaiting tasks: 100%|██████████| 200/200 [00:27<00:00,  7.34it/s]\n",
      "Awaiting tasks: 100%|██████████| 200/200 [00:17<00:00, 11.25it/s]\n",
      "Awaiting tasks: 100%|██████████| 200/200 [00:48<00:00,  4.13it/s]\n",
      "Awaiting tasks: 100%|██████████| 200/200 [00:18<00:00, 11.06it/s]\n",
      "Awaiting tasks: 100%|██████████| 200/200 [00:22<00:00,  8.99it/s]\n",
      "Awaiting tasks: 100%|██████████| 200/200 [00:18<00:00, 10.76it/s]\n",
      "Awaiting tasks: 100%|██████████| 200/200 [00:18<00:00, 10.72it/s]\n",
      "Awaiting tasks: 100%|██████████| 200/200 [00:18<00:00, 10.61it/s]\n",
      "Awaiting tasks: 100%|██████████| 200/200 [00:20<00:00,  9.66it/s]\n",
      "Awaiting tasks: 100%|██████████| 200/200 [00:20<00:00,  9.99it/s]\n",
      "Awaiting tasks: 100%|██████████| 200/200 [00:21<00:00,  9.47it/s]\n",
      "Awaiting tasks: 100%|██████████| 200/200 [00:19<00:00, 10.10it/s]\n",
      "Awaiting tasks: 100%|██████████| 200/200 [00:53<00:00,  3.75it/s]\n",
      "Awaiting tasks: 100%|██████████| 200/200 [00:57<00:00,  3.45it/s]\n",
      "Awaiting tasks: 100%|██████████| 200/200 [00:27<00:00,  7.19it/s]\n",
      "Awaiting tasks: 100%|██████████| 200/200 [00:55<00:00,  3.58it/s]\n",
      "Awaiting tasks: 100%|██████████| 200/200 [00:25<00:00,  7.99it/s]\n",
      "Awaiting tasks: 100%|██████████| 200/200 [00:24<00:00,  8.26it/s]\n",
      "Awaiting tasks: 100%|██████████| 200/200 [00:20<00:00,  9.68it/s]\n",
      "Awaiting tasks: 100%|██████████| 200/200 [00:32<00:00,  6.10it/s]\n",
      "Awaiting tasks: 100%|██████████| 200/200 [00:57<00:00,  3.51it/s]\n",
      "Awaiting tasks: 100%|██████████| 200/200 [01:00<00:00,  3.29it/s]\n",
      "Awaiting tasks: 100%|██████████| 200/200 [00:25<00:00,  7.91it/s]\n",
      "Awaiting tasks: 100%|██████████| 200/200 [01:14<00:00,  2.68it/s]\n",
      "Awaiting tasks: 100%|██████████| 200/200 [01:04<00:00,  3.08it/s]\n",
      "Awaiting tasks: 100%|██████████| 200/200 [00:22<00:00,  8.81it/s]\n",
      "Awaiting tasks: 100%|██████████| 200/200 [00:21<00:00,  9.49it/s]\n",
      "Awaiting tasks: 100%|██████████| 200/200 [01:05<00:00,  3.05it/s]\n",
      "Awaiting tasks: 100%|██████████| 200/200 [00:28<00:00,  7.01it/s]\n",
      "Awaiting tasks: 100%|██████████| 200/200 [00:21<00:00,  9.48it/s]\n",
      "Awaiting tasks:  10%|▉         | 16/164 [00:12<01:09,  2.12it/s]"
     ]
    },
    {
     "name": "stdout",
     "output_type": "stream",
     "text": [
      "Expecting ',' delimiter: line 9 column 53 (char 308)\n"
     ]
    },
    {
     "name": "stderr",
     "output_type": "stream",
     "text": [
      "Awaiting tasks: 100%|██████████| 164/164 [00:55<00:00,  2.94it/s]"
     ]
    },
    {
     "name": "stdout",
     "output_type": "stream",
     "text": [
      "开始时间：2024-06-26 17:12:04.757156,  结束时间：2024-06-26 17:36:56.167273, 花费时间：0:24:51.410117s\n"
     ]
    },
    {
     "name": "stderr",
     "output_type": "stream",
     "text": [
      "\n"
     ]
    }
   ],
   "source": [
    "cross_border_multi_label_tag_res = await multi_label_tag_main(\n",
    "    data=need_multi_label_tag_cross_border_df, \n",
    "    topic_define_dict=topic_define_dict, \n",
    "    system_template=multi_label_select_system_prompt, \n",
    "    user_template=input_user_message, \n",
    "    batch_size=200\n",
    ")"
   ]
  },
  {
   "cell_type": "code",
   "execution_count": 88,
   "id": "be5714ba-dab6-4380-9412-5483bef98ab0",
   "metadata": {
    "tags": []
   },
   "outputs": [],
   "source": [
    "# cross_border_multi_label_tag_res[50:100]"
   ]
  },
  {
   "cell_type": "code",
   "execution_count": 104,
   "id": "37c4f5b5-54fc-4da5-b976-82a769ef39b1",
   "metadata": {
    "tags": []
   },
   "outputs": [
    {
     "name": "stdout",
     "output_type": "stream",
     "text": [
      "origin_data_add_tag_res: (9764, 23)\n",
      "扩展之后的数据条数： 17881\n"
     ]
    }
   ],
   "source": [
    "cross_border_add_multi_label_df = parse_tag_result_and_merge_origin_data(need_multi_label_tag_cross_border_df, pd.DataFrame(cross_border_multi_label_tag_res))\n"
   ]
  },
  {
   "cell_type": "code",
   "execution_count": 105,
   "id": "fefac2f7-dea8-40e0-ad41-6abf0430dde5",
   "metadata": {
    "tags": []
   },
   "outputs": [],
   "source": [
    "cross_border_add_multi_label_df.to_excel(\"./data/new_data_tag_res/跨境购物混淆数据.xlsx\", index=False)"
   ]
  },
  {
   "cell_type": "code",
   "execution_count": 92,
   "id": "e0ea2372-79f4-4c08-bd34-f4c74a21e06f",
   "metadata": {
    "tags": []
   },
   "outputs": [
    {
     "data": {
      "text/plain": [
       "((11260, 2), (9764, 22))"
      ]
     },
     "execution_count": 92,
     "metadata": {},
     "output_type": "execute_result"
    }
   ],
   "source": [
    "pd.DataFrame(cross_border_multi_label_tag_res).shape, need_multi_label_tag_cross_border_df.shape"
   ]
  },
  {
   "cell_type": "code",
   "execution_count": 93,
   "id": "ea82f0fa-3d06-459f-9265-a9dd1d10b176",
   "metadata": {
    "tags": []
   },
   "outputs": [
    {
     "data": {
      "text/plain": [
       "(5, 23)"
      ]
     },
     "execution_count": 93,
     "metadata": {},
     "output_type": "execute_result"
    }
   ],
   "source": [
    "need_multi_label_tag_cross_border_df.merge(pd.DataFrame(cross_border_multi_label_tag_res), on=['docid'], how='inner').shape"
   ]
  },
  {
   "cell_type": "code",
   "execution_count": 98,
   "id": "d320c211-763f-424c-842b-dfdfde5c5183",
   "metadata": {
    "tags": []
   },
   "outputs": [
    {
     "data": {
      "text/plain": [
       "(5, 22)"
      ]
     },
     "execution_count": 98,
     "metadata": {},
     "output_type": "execute_result"
    }
   ],
   "source": [
    "docids = pd.DataFrame(cross_border_multi_label_tag_res)['docid'].tolist()\n",
    "need_multi_label_tag_cross_border_df[need_multi_label_tag_cross_border_df['docid'].isin(docids)].shape "
   ]
  },
  {
   "cell_type": "code",
   "execution_count": 97,
   "id": "7aee5ccf-356c-4c76-8a27-88b30b38c6ad",
   "metadata": {
    "tags": []
   },
   "outputs": [
    {
     "data": {
      "text/plain": [
       "序号                      int64\n",
       "docid                  object\n",
       "标题                     object\n",
       "内文                     object\n",
       "媒体名称                   object\n",
       "版面                     object\n",
       "出版日期                   object\n",
       "媒体类型                   object\n",
       "作者                     object\n",
       "情感                     object\n",
       "聚类编号                   object\n",
       "原文链接                   object\n",
       "命中关键字                  object\n",
       "spam                     bool\n",
       "content                object\n",
       "label_id                int64\n",
       "label_name             object\n",
       "label_probability     float64\n",
       "top3_label_entropy    float64\n",
       "label_probs            object\n",
       "detail_anlysis         object\n",
       "is_belong              object\n",
       "dtype: object"
      ]
     },
     "execution_count": 97,
     "metadata": {},
     "output_type": "execute_result"
    }
   ],
   "source": [
    "need_multi_label_tag_cross_border_df.dtypes"
   ]
  },
  {
   "cell_type": "code",
   "execution_count": null,
   "id": "4a622470-92f8-4999-85ac-3084c04ed730",
   "metadata": {},
   "outputs": [],
   "source": []
  }
 ],
 "metadata": {
  "kernelspec": {
   "display_name": "Python 3 (ipykernel)",
   "language": "python",
   "name": "python3"
  },
  "language_info": {
   "codemirror_mode": {
    "name": "ipython",
    "version": 3
   },
   "file_extension": ".py",
   "mimetype": "text/x-python",
   "name": "python",
   "nbconvert_exporter": "python",
   "pygments_lexer": "ipython3",
   "version": "3.8.12"
  }
 },
 "nbformat": 4,
 "nbformat_minor": 5
}
